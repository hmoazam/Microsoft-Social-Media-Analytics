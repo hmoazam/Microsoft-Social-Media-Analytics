{
  "nbformat": 4,
  "nbformat_minor": 2,
  "cells": [
    {
      "cell_type": "code",
      "execution_count": 7,
      "outputs": [
        {
          "output_type": "display_data",
          "data": {
            "application/vnd.livy.statement-meta+json": {
              "spark_pool": "smasparkpool",
              "session_id": 84,
              "statement_id": 2,
              "state": "finished",
              "livy_statement_state": "available",
              "queued_time": "2022-03-04T17:32:52.8577391Z",
              "session_start_time": null,
              "execution_start_time": "2022-03-04T17:32:53.2493821Z",
              "execution_finish_time": "2022-03-04T17:32:54.281601Z"
            },
            "text/plain": "StatementMeta(smasparkpool, 84, 2, Finished, Available)"
          },
          "metadata": {}
        }
      ],
      "metadata": {},
      "source": [
        "import urllib.parse\n",
        "import sys, time, json, requests, uuid\n",
        "from azure.cosmos import CosmosClient\n",
        "from datetime import datetime, date, timedelta # don't import time here. It messes with the default library\n",
        "from dateutil.parser import parse\n",
        "from azure.ai.textanalytics import TextAnalyticsClient\n",
        "from azure.core.credentials import AzureKeyCredential"
      ]
    },
    {
      "cell_type": "code",
      "execution_count": 8,
      "outputs": [
        {
          "output_type": "display_data",
          "data": {
            "application/vnd.livy.statement-meta+json": {
              "spark_pool": null,
              "session_id": 84,
              "statement_id": -1,
              "state": "finished",
              "livy_statement_state": "available",
              "queued_time": "2022-03-04T17:32:55.1752564Z",
              "session_start_time": null,
              "execution_start_time": "2022-03-04T17:33:06.7093334Z",
              "execution_finish_time": "2022-03-04T17:33:06.709667Z"
            },
            "text/plain": "StatementMeta(, 84, -1, Finished, Available)"
          },
          "metadata": {}
        },
        {
          "output_type": "stream",
          "name": "stdout",
          "text": "DB_NAME: String = synsqlpoolsmapoc\n"
        }
      ],
      "metadata": {},
      "source": [
        "%run \"config\""
      ]
    },
    {
      "cell_type": "code",
      "execution_count": 9,
      "outputs": [
        {
          "output_type": "display_data",
          "data": {
            "application/vnd.livy.statement-meta+json": {
              "spark_pool": null,
              "session_id": 84,
              "statement_id": -1,
              "state": "finished",
              "livy_statement_state": "available",
              "queued_time": "2022-03-04T17:32:55.8589846Z",
              "session_start_time": null,
              "execution_start_time": "2022-03-04T17:33:13.3951651Z",
              "execution_finish_time": "2022-03-04T17:33:13.3954888Z"
            },
            "text/plain": "StatementMeta(, 84, -1, Finished, Available)"
          },
          "metadata": {}
        },
        {
          "output_type": "stream",
          "name": "stdout",
          "text": "DB_NAME: String = synsqlpoolsmapoc\n"
        }
      ],
      "metadata": {},
      "source": [
        "%run \"common\""
      ]
    },
    {
      "cell_type": "code",
      "execution_count": 10,
      "outputs": [
        {
          "output_type": "display_data",
          "data": {
            "application/vnd.livy.statement-meta+json": {
              "spark_pool": "smasparkpool",
              "session_id": 84,
              "statement_id": 13,
              "state": "finished",
              "livy_statement_state": "available",
              "queued_time": "2022-03-04T17:32:57.7019135Z",
              "session_start_time": null,
              "execution_start_time": "2022-03-04T17:33:13.7888282Z",
              "execution_finish_time": "2022-03-04T17:33:14.2145838Z"
            },
            "text/plain": "StatementMeta(smasparkpool, 84, 13, Finished, Available)"
          },
          "metadata": {}
        }
      ],
      "metadata": {
        "jupyter": {
          "source_hidden": false,
          "outputs_hidden": false
        },
        "nteract": {
          "transient": {
            "deleting": false
          }
        },
        "tags": [
          "parameters"
        ]
      },
      "source": [
        "query = \"Ukraine OR Russia\"\r\n",
        "topic = \"News\"\r\n",
        "subtopic = \"\"\r\n",
        "query_language = \"All\"\r\n",
        "target_languages = \"English,Arabic\"\r\n",
        "from_date = \"\"\r\n",
        "to_date = \"\"\r\n",
        "sort_by = \"popularity\" # popularity, relevancy, publishedAt\r\n",
        "qInTitle = \"\" #?\r\n",
        "page_size = \"20\""
      ]
    },
    {
      "cell_type": "code",
      "execution_count": 11,
      "outputs": [
        {
          "output_type": "display_data",
          "data": {
            "application/vnd.livy.statement-meta+json": {
              "spark_pool": "smasparkpool",
              "session_id": 84,
              "statement_id": 14,
              "state": "finished",
              "livy_statement_state": "available",
              "queued_time": "2022-03-04T17:32:58.5797036Z",
              "session_start_time": null,
              "execution_start_time": "2022-03-04T17:33:14.6266738Z",
              "execution_finish_time": "2022-03-04T17:33:15.0397236Z"
            },
            "text/plain": "StatementMeta(smasparkpool, 84, 14, Finished, Available)"
          },
          "metadata": {}
        }
      ],
      "metadata": {},
      "source": [
        "\n",
        "COUNTRIES = [\"ae\", \"ar\", \"at\", \"au\", \"be\", \"bg\", \"br\", \"ca\", \"ch\", \"cn\", \"co\", \"cu\", \"cz\", \"de\", \"eg\", \"fr\", \"gb\", \"gr\", \"hk\", \"hu\", \"id\", \"ie\", \"il\", \"in\", \"it\", \"jp\", \"kr\", \"lt\", \"lv\", \"ma\", \"mx\", \"my\", \"ng\", \"nl\", \"no\", \"nz\", \"ph\", \"pl\", \"pt\", \"ro\", \"rs\", \"ru\", \"sa\", \"se\", \"sg\", \"si\", \"sk\", \"th\", \"tr\", \"tw\", \"ua\", \"us\", \"ve\", \"za\"]\n",
        "LANGUAGE_CODES = {\n",
        "  \"All\": \"\",\n",
        "  \"Afrikaans\":\"af\",\n",
        "  \"Arabic\":\"ar\",\n",
        "  \"Assamese\":\"as\",\n",
        "  \"Bangla\":\"bn\",\n",
        "  \"Bosnian(Latin)\":\"bs\",\n",
        "  \"Bulgarian\":\"bg\",\n",
        "  \"Cantonese(Traditional)\":\"yue\",\n",
        "  \"Catalan\":\"ca\",\n",
        "  \"Chinese Simplified\":\"zh-Hans\",\n",
        "  \"Chinese Traditional\":\"zh-Hant\",\n",
        "  \"Croatian\":\"hr\",\n",
        "  \"Czech\":\"cs\",\n",
        "  \"Dari\":\"prs\",\n",
        "  \"Danish\":\"da\",\n",
        "  \"Dutch\":\"nl\",\n",
        "  \"English\":\"en\",\n",
        "  \"Estonian\":\"et\",\n",
        "  \"Fijian\":\"fj\",\n",
        "  \"Filipino\":\"fil\",\n",
        "  \"Finnish\":\"fi\",\n",
        "  \"French\":\"fr\",\n",
        "  \"German\":\"de\",\n",
        "  \"Greek\":\"el\",\n",
        "  \"Gujarati\":\"gu\",\n",
        "  \"Haitian Creole\":\"ht\",\n",
        "  \"Hebrew\":\"he\",\n",
        "  \"Hindi\":\"hi\",\n",
        "  \"Hmong Daw\":\"mww\",\n",
        "  \"Hungarian\":\"hu\",\n",
        "  \"Icelandic\":\"is\",\n",
        "  \"Indonesian\":\"id\",\n",
        "  \"Irish\":\"ga\",\n",
        "  \"Italian\":\"it\",\n",
        "  \"Japanese\":\"ja\",\n",
        "  \"Kannada\":\"kn\",\n",
        "  \"Kazakh\":\"kk\",\n",
        "  \"Klingon\":\"tlh-Latn\",\n",
        "  \"Klingon(plqaD)\":\"tlh-Piqd\",\n",
        "  \"Korean\":\"ko\",\n",
        "  \"Kurdish(Central)\":\"ku\",\n",
        "  \"Kurdish(Northern)\":\"kmr\",\n",
        "  \"Latvian\":\"lv\",\n",
        "  \"Lithuanian\":\"lt\",\n",
        "  \"Malagasy\":\"mg\",\n",
        "  \"Malay\":\"ms\",\n",
        "  \"Malayalam\":\"ml\",\n",
        "  \"Maltese\":\"mt\",\n",
        "  \"Maori\":\"mi\",\n",
        "  \"Marathi\":\"mr\",\n",
        "  \"Norwegian\":\"nb\",\n",
        "  \"Odia\":\"or\",\n",
        "  \"Pashto\":\"ps\",\n",
        "  \"Persian\":\"fa\",\n",
        "  \"Polish\":\"pl\",\n",
        "  \"Portuguese(Brazil)\":\"pt-br\",\n",
        "  \"Portuguese(Portugal)\":\"pt-pt\",\n",
        "  \"Punjabi\":\"pa\",\n",
        "  \"Queretaro Otomi\":\"otq\",\n",
        "  \"Romanian\":\"ro\",\n",
        "  \"Russian\":\"ru\",\n",
        "  \"Samoan\":\"sm\",\n",
        "  \"Serbian(Cyrillic)\":\"sr-Cyrl\",\n",
        "  \"Serbian(Latin)\":\"sr-Latn\",\n",
        "  \"Slovak\":\"sk\",\n",
        "  \"Slovenian\":\"sl\",\n",
        "  \"Spanish\":\"es\",\n",
        "  \"Swahili\":\"sw\",\n",
        "  \"Swedish\":\"sv\",\n",
        "  \"Tahitian\":\"ty\",\n",
        "  \"Tamil\":\"ta\",\n",
        "  \"Telugu\":\"te\",\n",
        "  \"Thai\":\"th\",\n",
        "  \"Tongan\":\"to\",\n",
        "  \"Turkish\":\"tr\",\n",
        "  \"Ukrainian\":\"uk\",\n",
        "  \"Urdu\":\"ur\",\n",
        "  \"Vietnamese\":\"vi\",\n",
        "  \"Welsh\":\"cy\",\n",
        "  \"Yucatec Maya\":\"yua\"\n",
        "}\n",
        ""
      ]
    },
    {
      "cell_type": "code",
      "execution_count": 14,
      "outputs": [
        {
          "output_type": "display_data",
          "data": {
            "application/vnd.livy.statement-meta+json": {
              "spark_pool": "smasparkpool",
              "session_id": 84,
              "statement_id": 17,
              "state": "finished",
              "livy_statement_state": "available",
              "queued_time": "2022-03-04T17:48:22.2166626Z",
              "session_start_time": null,
              "execution_start_time": "2022-03-04T17:48:22.6887318Z",
              "execution_finish_time": "2022-03-04T17:48:22.689071Z"
            },
            "text/plain": "StatementMeta(smasparkpool, 84, 17, Finished, Available)"
          },
          "metadata": {}
        }
      ],
      "metadata": {
        "jupyter": {
          "source_hidden": false,
          "outputs_hidden": false
        },
        "nteract": {
          "transient": {
            "deleting": false
          }
        }
      },
      "source": [
        "\r\n",
        "config = {}\r\n",
        "#config[\"topic\"] = topic\r\n",
        "config[\"q\"] = safe_string = urllib.parse.quote_plus(query)\r\n",
        "# languages = dbutils.widgets.get(\"languages\")\r\n",
        "language_codes = [LANGUAGE_CODES.get(key) for key in query_language.split(\",\") if key != \"All\"]\r\n",
        "if language_codes:\r\n",
        "    if language_codes[0] in [\"ar\",\"de\",\"en\",\"es\",\"fr\",\"he\",\"it\",\"nl\",\"no\",\"pt\",\"ru\",\"se\",\"ud\",\"zh\"]:\r\n",
        "        config[\"language\"] = language_codes[0]# ','.join(language_codes) # take the first language only as the API does not support multiple values\r\n",
        "config[\"from\"] = from_date\r\n",
        "config[\"to\"] = to_date\r\n",
        "config[\"sortBy\"] = sort_by\r\n",
        "config[\"qInTitle\"] = qInTitle\r\n",
        "config[\"pageSize\"] = page_size\r\n",
        "config[\"apiKey\"] = NEWS_API_KEY\r\n",
        "# dbutils.widgets.multiselect(\"target_languages\", \"English\", list(LANGUAGE_CODES.keys()), \"04.Target Languages\")\r\n",
        "target_languages = [LANGUAGE_CODES.get(lang, \"\") for lang in target_languages.split(\",\")]\r\n",
        "if \"en\" not in target_languages:\r\n",
        "    target_languages.append(\"en\") # always include english in target languages\r\n",
        ""
      ]
    },
    {
      "cell_type": "code",
      "execution_count": 15,
      "outputs": [
        {
          "output_type": "display_data",
          "data": {
            "application/vnd.livy.statement-meta+json": {
              "spark_pool": "smasparkpool",
              "session_id": 84,
              "statement_id": 18,
              "state": "finished",
              "livy_statement_state": "available",
              "queued_time": "2022-03-04T17:48:27.4064922Z",
              "session_start_time": null,
              "execution_start_time": "2022-03-04T17:48:27.7715921Z",
              "execution_finish_time": "2022-03-04T17:48:28.2612946Z"
            },
            "text/plain": "StatementMeta(smasparkpool, 84, 18, Finished, Available)"
          },
          "metadata": {}
        },
        {
          "output_type": "display_data",
          "data": {
            "text/plain": "{'q': 'Ukraine+OR+Russia',\n 'from': '',\n 'to': '',\n 'sortBy': 'popularity',\n 'qInTitle': '',\n 'pageSize': '20',\n 'apiKey': 'e75e79c4a46542419b0d17e2c01071cd'}"
          },
          "metadata": {}
        }
      ],
      "metadata": {
        "jupyter": {
          "source_hidden": false,
          "outputs_hidden": false
        },
        "nteract": {
          "transient": {
            "deleting": false
          }
        }
      },
      "source": [
        "config"
      ]
    },
    {
      "cell_type": "code",
      "execution_count": 16,
      "outputs": [
        {
          "output_type": "display_data",
          "data": {
            "application/vnd.livy.statement-meta+json": {
              "spark_pool": "smasparkpool",
              "session_id": 84,
              "statement_id": 19,
              "state": "finished",
              "livy_statement_state": "available",
              "queued_time": "2022-03-04T17:48:36.413373Z",
              "session_start_time": null,
              "execution_start_time": "2022-03-04T17:48:36.7940301Z",
              "execution_finish_time": "2022-03-04T17:48:37.226823Z"
            },
            "text/plain": "StatementMeta(smasparkpool, 84, 19, Finished, Available)"
          },
          "metadata": {}
        }
      ],
      "metadata": {
        "jupyter": {
          "source_hidden": false,
          "outputs_hidden": false
        },
        "nteract": {
          "transient": {
            "deleting": false
          }
        }
      },
      "source": [
        "\r\n",
        "\r\n",
        "client = CosmosClient(COSMOS_URL, {'masterKey': COSMOS_KEY})\r\n",
        "database = client.get_database_client(COSMOS_DATABASE_NAME)\r\n",
        "\r\n",
        "article_container_client = database.get_container_client(container=COSMOS_ARTICLE_CONTAINER_NAME)"
      ]
    },
    {
      "cell_type": "code",
      "execution_count": 17,
      "outputs": [
        {
          "output_type": "display_data",
          "data": {
            "application/vnd.livy.statement-meta+json": {
              "spark_pool": "smasparkpool",
              "session_id": 84,
              "statement_id": 20,
              "state": "finished",
              "livy_statement_state": "available",
              "queued_time": "2022-03-04T17:48:41.1373433Z",
              "session_start_time": null,
              "execution_start_time": "2022-03-04T17:48:41.5392205Z",
              "execution_finish_time": "2022-03-04T17:50:30.6055024Z"
            },
            "text/plain": "StatementMeta(smasparkpool, 84, 20, Finished, Available)"
          },
          "metadata": {}
        },
        {
          "output_type": "stream",
          "name": "stdout",
          "text": "Getting page 1...\nNew Article\nWorking on named entities\nWorking on sentiment\nNew Article\nWorking on named entities\nWorking on sentiment\nNew Article\nWorking on named entities\nWorking on sentiment\nNew Article\nWorking on named entities\nWorking on sentiment\nNew Article\nWorking on named entities\nWorking on sentiment\nNew Article\nWorking on named entities\nWorking on sentiment\nNew Article\nWorking on named entities\nWorking on sentiment\nNew Article\nWorking on named entities\nWorking on sentiment\nNew Article\nWorking on named entities\nWorking on sentiment\nNew Article\nWorking on named entities\nWorking on sentiment\nNew Article\nWorking on named entities\nWorking on sentiment\nNew Article\nWorking on named entities\nWorking on sentiment\nNew Article\nWorking on named entities\nWorking on sentiment\nNew Article\nWorking on named entities\nWorking on sentiment\nNew Article\nWorking on named entities\nWorking on sentiment\nNew Article\nWorking on named entities\nWorking on sentiment\nNew Article\nWorking on named entities\nWorking on sentiment\nNew Article\nWorking on named entities\nWorking on sentiment\nNew Article\nWorking on named entities\nWorking on sentiment\nNew Article\nWorking on named entities\nWorking on sentiment\nGetting page 2...\nNew Article\nWorking on named entities\nWorking on sentiment\nNew Article\nWorking on named entities\nWorking on sentiment\nNew Article\nWorking on named entities\nWorking on sentiment\nNew Article\nWorking on named entities\nWorking on sentiment\nNew Article\nWorking on named entities\nWorking on sentiment\nNew Article\nWorking on named entities\nWorking on sentiment\nNew Article\nWorking on named entities\nWorking on sentiment\nNew Article\nWorking on named entities\nWorking on sentiment\nNew Article\nWorking on named entities\nWorking on sentiment\nNew Article\nWorking on named entities\nWorking on sentiment\nNew Article\nWorking on named entities\nWorking on sentiment\nNew Article\nWorking on named entities\nWorking on sentiment\nNew Article\nWorking on named entities\nWorking on sentiment\nNew Article\nWorking on named entities\nWorking on sentiment\nNew Article\nWorking on named entities\nWorking on sentiment\nNew Article\nWorking on named entities\nWorking on sentiment\nNew Article\nWorking on named entities\nWorking on sentiment\nNew Article\nWorking on named entities\nWorking on sentiment\nNew Article\nWorking on named entities\nWorking on sentiment\nNew Article\nWorking on named entities\nWorking on sentiment\nGetting page 3...\nNew Article\nWorking on named entities\nWorking on sentiment\nNew Article\nWorking on named entities\nWorking on sentiment\nNew Article\nWorking on named entities\nWorking on sentiment\nNew Article\nWorking on named entities\nWorking on sentiment\nNew Article\nWorking on named entities\nWorking on sentiment\nNew Article\nWorking on named entities\nWorking on sentiment\nNew Article\nWorking on named entities\nWorking on sentiment\nNew Article\nWorking on named entities\nWorking on sentiment\nNew Article\nWorking on named entities\nWorking on sentiment\nNew Article\nWorking on named entities\nWorking on sentiment\nNew Article\nWorking on named entities\nWorking on sentiment\nNew Article\nWorking on named entities\nWorking on sentiment\nNew Article\nWorking on named entities\nWorking on sentiment\nNew Article\nWorking on named entities\nWorking on sentiment\nNew Article\nWorking on named entities\nWorking on sentiment\nNew Article\nWorking on named entities\nWorking on sentiment\nNew Article\nWorking on named entities\nWorking on sentiment\nNew Article\nWorking on named entities\nWorking on sentiment\nNew Article\nWorking on named entities\nWorking on sentiment\nNew Article\nWorking on named entities\nWorking on sentiment\nGetting page 4...\nNew Article\nWorking on named entities\nWorking on sentiment\nNew Article\nWorking on named entities\nWorking on sentiment\nNew Article\nWorking on named entities\nWorking on sentiment\nNew Article\nWorking on named entities\nWorking on sentiment\nNew Article\nWorking on named entities\nWorking on sentiment\nNew Article\nWorking on named entities\nWorking on sentiment\nNew Article\nWorking on named entities\nWorking on sentiment\nNew Article\nWorking on named entities\nWorking on sentiment\nNew Article\nWorking on named entities\nWorking on sentiment\nNew Article\nWorking on named entities\nWorking on sentiment\nNew Article\nWorking on named entities\nWorking on sentiment\nNew Article\nWorking on named entities\nWorking on sentiment\nNew Article\nWorking on named entities\nWorking on sentiment\nNew Article\nWorking on named entities\nWorking on sentiment\nNew Article\nWorking on named entities\nWorking on sentiment\nNew Article\nWorking on named entities\nWorking on sentiment\nNew Article\nWorking on named entities\nWorking on sentiment\nNew Article\nWorking on named entities\nWorking on sentiment\nNew Article\nWorking on named entities\nWorking on sentiment\nNew Article\nWorking on named entities\nWorking on sentiment\nGetting page 5...\nNew Article\nWorking on named entities\nWorking on sentiment\nNew Article\nWorking on named entities\nWorking on sentiment\nNew Article\nWorking on named entities\nWorking on sentiment\nNew Article\nWorking on named entities\nWorking on sentiment\nNew Article\nWorking on named entities\nWorking on sentiment\nNew Article\nWorking on named entities\nWorking on sentiment\nNew Article\nWorking on named entities\nWorking on sentiment\nNew Article\nWorking on named entities\nWorking on sentiment\nNew Article\nWorking on named entities\nWorking on sentiment\nNew Article\nWorking on named entities\nWorking on sentiment\nNew Article\nWorking on named entities\nWorking on sentiment\nNew Article\nWorking on named entities\nWorking on sentiment\nNew Article\nWorking on named entities\nWorking on sentiment\nNew Article\nWorking on named entities\nWorking on sentiment\nNew Article\nWorking on named entities\nWorking on sentiment\nNew Article\nWorking on named entities\nWorking on sentiment\nNew Article\nWorking on named entities\nWorking on sentiment\nNew Article\nWorking on named entities\nWorking on sentiment\nNew Article\nWorking on named entities\nWorking on sentiment\nNew Article\nWorking on named entities\nWorking on sentiment\nGetting page 6...\nDone! Article:  100"
        }
      ],
      "metadata": {},
      "source": [
        "def build_query(config, page=1):\n",
        "    query = \"http://newsapi.org/v2/everything?\"\n",
        "    for k,v in config.items():\n",
        "        if v is None or v == \"\":\n",
        "            continue\n",
        "        query += f\"{k}={v}&\"\n",
        "    query += f\"page={page}\"\n",
        "    return query\n",
        "query = build_query(config)\n",
        "page = 1\n",
        "all_articles = []\n",
        "while True:\n",
        "    url = build_query(config, page)\n",
        "    print(f\"Getting page {page}...\")\n",
        "    response = requests.get(url).json()\n",
        "    if response[\"status\"] == \"error\":\n",
        "        break\n",
        "    articles = response.get(\"articles\")\n",
        "    if not articles:\n",
        "        break\n",
        "    for article in articles:\n",
        "        article[\"id\"] = str(abs(hash(article[\"url\"])))\n",
        "        search_query = 'select * from items where items.id=\"{0}\"'.format(article[\"id\"])\n",
        "        items = list(article_container_client.query_items(search_query,enable_cross_partition_query=True))\n",
        "        if len(items)>0:\n",
        "            print(\"Old Article\")\n",
        "        else:\n",
        "            print(\"New Article\")\n",
        "            dt2 = datetime.now()\n",
        "            ts= int(time.mktime(dt2.timetuple()))\n",
        "            at=dt2.strftime(\"%m/%d/%Y, %H:%M:%S %Z\")\n",
        "            article['inserted_to_CosmosDB_at'] = at\n",
        "            article['inserted_to_CosmosDB_ts'] = ts\n",
        "            article['topickey'] = topic\n",
        "            article['subtopic'] = subtopic\n",
        "            article[\"month_year\"] = str(parse(article[\"publishedAt\"]).month) + \"_\"+str(parse(article[\"publishedAt\"]).year)\n",
        "            article[\"document_type\"] = \"news_article\"\n",
        "            titleLength = len(article[\"content\"])\n",
        "            if titleLength>80:\n",
        "                titleLength=79\n",
        "            if article[\"title\"] is None:\n",
        "                article[\"title\"]=article[\"content\"][0:titleLength]\n",
        "            article[\"title\"]=article[\"title\"][0].upper()+article[\"title\"][1:]\n",
        "            \n",
        "            i=article[\"title\"].find(' ', titleLength)\n",
        "            article[\"translations_title\"], query_language = get_translation(article[\"title\"], target_languages)\n",
        "            article[\"translations_description\"], _ = get_translation(article[\"description\"], target_languages)\n",
        "            article[\"translations_content\"], _ = get_translation(article[\"content\"], target_languages)\n",
        "            if i==-1:\n",
        "                article[\"title\"]=article[\"title\"]\n",
        "            else:\n",
        "                if query_language in ['ar','ar-EG']:\n",
        "                    article[\"title\"]=article[\"title\"][0:i].replace(' ,',',').rstrip(' ').rstrip(',')\n",
        "                else:\n",
        "                    article[\"title\"]=article[\"title\"][0:i].replace(' ,',',').rstrip(' ').rstrip(',')+\" ...\"\n",
        "            \n",
        "        \n",
        "            print(\"Working on named entities\")\n",
        "            named_entities = []\n",
        "            if query_language != \"en\":\n",
        "                if article[\"translations_content\"][\"en\"]!='':\n",
        "                    named_entities = get_ner(article[\"translations_content\"][\"en\"])\n",
        "                    named_entity_obj = {\"en\": named_entities}\n",
        "                    org_language_entities = []\n",
        "                    for ent in named_entities:\n",
        "                        org_language_ent = ent.copy()\n",
        "                        org_language_ent[\"text\"] = get_translation(ent[\"text\"], query_language)[0][query_language] # replace with original language text\n",
        "                    org_language_entities.append(org_language_ent)\n",
        "                    named_entity_obj[query_language] = org_language_entities\n",
        "                else:\n",
        "                    named_entity_obj = {\"en\": named_entities}\n",
        "            else:\n",
        "                named_entities = get_ner(article[\"content\"]) # list of objects where each object corresponds to an entity\n",
        "                named_entity_obj = {\"en\": named_entities}\n",
        "              # get translation to all target languages for all entities\n",
        "            for language in target_languages:\n",
        "                if language != \"en\":\n",
        "                    tmp_entities = []\n",
        "                    for ent in named_entities:\n",
        "                        tmp_ = ent.copy()\n",
        "                        tmp_[\"text\"] = get_translation(ent[\"text\"],  language)[0][language]\n",
        "                        tmp_entities.append(tmp_)\n",
        "                    named_entity_obj[language] = tmp_entities\n",
        "            article[\"named_entities\"] = named_entity_obj\n",
        "              # get sentiment. Not supported for arabic, so do on english. No need to translate back\n",
        "            print(\"Working on sentiment\")\n",
        "            if query_language != \"en\":\n",
        "                sentiment, sentiment_score = get_sentiment(article[\"translations_title\"][\"en\"])\n",
        "            else:\n",
        "                sentiment, sentiment_score = get_sentiment(article[\"title\"])\n",
        "            article[\"sentiment\"] = {\"sentiment\": sentiment, \"score\": sentiment_score}\n",
        "            article[\"lang\"]=query_language\n",
        "            all_articles.append(article)        \n",
        "    page += 1\n",
        "print(\"Done! Article: \",str(len(all_articles)))\n",
        ""
      ]
    },
    {
      "cell_type": "code",
      "execution_count": null,
      "outputs": [],
      "metadata": {
        "jupyter": {
          "source_hidden": false,
          "outputs_hidden": false
        },
        "nteract": {
          "transient": {
            "deleting": false
          }
        }
      },
      "source": [
        "update_cosmos(all_articles, article_container_client) # insert tweets"
      ]
    }
  ],
  "metadata": {
    "description": null,
    "save_output": true,
    "kernelspec": {
      "name": "synapse_pyspark",
      "display_name": "Synapse PySpark"
    },
    "language_info": {
      "name": "python"
    },
    "synapse_widget": {
      "version": "0.1",
      "state": {}
    }
  }
}