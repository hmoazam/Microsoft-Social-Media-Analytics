{
  "nbformat": 4,
  "nbformat_minor": 2,
  "cells": [
    {
      "cell_type": "markdown",
      "metadata": {},
      "source": [
        "# Libraries"
      ]
    },
    {
      "cell_type": "code",
      "execution_count": 1,
      "outputs": [],
      "metadata": {},
      "source": [
        "import os\n",
        "from azure.cosmos import CosmosClient\n",
        "from azure.core.credentials import AzureKeyCredential\n",
        "from azure.ai.textanalytics import TextAnalyticsClient\n",
        "from pyspark.sql.types import StructType, StructField, LongType, StringType, DateType, TimestampType,FloatType,IntegerType,BooleanType\n",
        "from notebookutils import mssparkutils\n",
        "\n",
        "from azure.cosmos import CosmosClient, PartitionKey\n",
        "import family\n",
        "import json\n",
        "import pandas as pd\n",
        "from datetime import date, timedelta \n",
        "from datetime import datetime as _datetime \n",
        "\n",
        "import numpy as np\n",
        "import datetime, time\n",
        "from dateutil.parser import parse\n",
        "import re,string\n",
        "#import pyodbc"
      ]
    },
    {
      "cell_type": "code",
      "execution_count": 2,
      "outputs": [],
      "metadata": {},
      "source": [
        "%run \"config\""
      ]
    },
    {
      "cell_type": "code",
      "execution_count": 3,
      "outputs": [],
      "metadata": {},
      "source": [
        "# Connect to Cosmos\n",
        "client = CosmosClient(COSMOS_URL, {'masterKey': COSMOS_KEY})\n",
        "database = client.get_database_client(COSMOS_DATABASE_NAME)\n",
        "tweet_container_client = database.get_container_client(container=COSMOS_CONTAINER_NAME)"
      ]
    },
    {
      "cell_type": "code",
      "execution_count": 5,
      "outputs": [],
      "metadata": {},
      "source": [
        "last_inserted_ts = 0\n",
        "\n",
        "jdbc_url = \"jdbc:sqlserver://\" + SYNAPSE_WORKSPACE_NAME + \".sql.azuresynapse.net:1433;database=\" + DB_NAME + \";encrypt=true;trustServerCertificate=true;hostNameInCertificate=*.sql.azuresynapse.net;loginTimeout=30;\"\n",
        "\n",
        "jdbcDF = spark.read \\\n",
        "   .format(\"jdbc\") \\\n",
        "   .option(\"url\", jdbc_url) \\\n",
        "   .option(\"query\", \"SELECT MAX(inserted_to_CosmosDB_ts) AS outp FROM dbo.Users\") \\\n",
        "   .option(\"user\", SQL_USERNAME) \\\n",
        "   .option(\"password\", SQL_PASSWORD) \\\n",
        "   .load()\n",
        "\n",
        "try:\n",
        "   last_inserted_ts = jdbcDF.first()[0]\n",
        "except: \n",
        "   last_inserted_ts = 0\n",
        "\n",
        "if not(last_inserted_ts): # if the table is empty get back None\n",
        "    last_inserted_ts = 0\n",
        "   "
      ]
    },
    {
      "cell_type": "markdown",
      "metadata": {},
      "source": [
        "# Tweets Querying + Modeling"
      ]
    },
    {
      "cell_type": "code",
      "execution_count": 6,
      "outputs": [],
      "metadata": {},
      "source": [
        "#query = \"SELECT items.latest_version, items.inserted_to_CosmosDB_ts from items where items.document_type = 'user'\" # and items.inserted_to_CosmosDB_ts >= \"  + str(last_inserted_ts) \n",
        "query = \"SELECT * from items WHERE items.document_type = 'user' and items.inserted_to_CosmosDB_ts >= \" + str(last_inserted_ts) \n",
        "\n",
        "lstuser = []\n",
        "cols = ['id', 'name','screen_name','location','description', 'followers_count', 'friends_count','favourites_count', 'listed_count', 'statuses_count', 'isFollowing',\n",
        "        'verified',\n",
        "        'geoEnabled',\n",
        "        'language',\n",
        "        'url', \n",
        "        'profile_image_url',\n",
        "        'background_image_url',\n",
        "        'profile_banner_url', \n",
        "        'created_date',\n",
        "        'created_datetime',\n",
        "        'inserted_datetime',\n",
        "        'inserted_to_CosmosDB_datetime',\n",
        "        'inserted_to_CosmosDB_ts'\n",
        "       ]  \n",
        "for posts in tweet_container_client.query_items(query,enable_cross_partition_query=True ):\n",
        "#   id = posts['latest_version']['id_str']\n",
        "  id = posts['id']\n",
        "#   name = posts['latest_version']['name']\n",
        "  name = posts[\"name\"]\n",
        "  screen_name = posts['screen_name']\n",
        "  location = posts['location']\n",
        "  \n",
        "  description = posts['description']\n",
        "  followers_count = posts['followers_count']\n",
        "  friends_count = posts['friends_count']\n",
        "  favourites_count = posts['favourites_count']\n",
        "  \n",
        "  listed_count = posts['listed_count']\n",
        "  statuses_count = posts['statuses_count']\n",
        "  isFollowing = posts['following']\n",
        "  verified = posts['verified']\n",
        "  \n",
        "  geoEnabled = posts['geo_enabled']\n",
        "  language = '' \n",
        "  url = 'https://twitter.com/' + posts['screen_name'] \n",
        "  profile_image_url = posts['profile_image_url_https']\n",
        "  \n",
        "  background_image_url = posts['profile_background_image_url_https']\n",
        "  profile_banner_url = \"\" #posts['latest_version']['profile_banner_url']\n",
        "  adjustedCreatedDateTime = parse(posts['created_at'])+ timedelta(hours=3) \n",
        "  \n",
        "  if 'country_code_azuremaps' in posts.keys() and 'country_azuremaps' in posts.keys() :\n",
        "    country_azuremaps=posts['country_azuremaps']\n",
        "    country_code_azuremaps=posts['country_code_azuremaps']\n",
        "  else:\n",
        "    country_azuremaps=None\n",
        "    country_code_azuremaps=None\n",
        "\n",
        "  #append tweet\n",
        "  lstuser.append([id, \n",
        "              name,\n",
        "              screen_name, \n",
        "              location,               \n",
        "              description, \n",
        "              int(followers_count), int(friends_count), int(favourites_count), int(listed_count), int(statuses_count),\n",
        "              isFollowing, verified, geoEnabled, language, \n",
        "              url, profile_image_url, background_image_url, profile_banner_url,\n",
        "              adjustedCreatedDateTime,\n",
        "              adjustedCreatedDateTime,\n",
        "              _datetime.fromtimestamp(posts[\"inserted_to_CosmosDB_ts\"]),\n",
        "              _datetime.fromtimestamp(posts[\"inserted_to_CosmosDB_ts\"]),\n",
        "              posts[\"inserted_to_CosmosDB_ts\"],\n",
        "              country_azuremaps,\n",
        "              country_code_azuremaps,\n",
        "             ])"
      ]
    },
    {
      "cell_type": "code",
      "execution_count": 7,
      "outputs": [],
      "metadata": {},
      "source": [
        "schema = StructType([StructField(\"id\",StringType(),True),     StructField(\"name\",StringType(),True),     StructField(\"screen_name\",StringType(),True),     StructField(\"location\", StringType(), True),     StructField(\"description\", StringType(), True),     StructField(\"followers_count\", IntegerType(), True),     StructField(\"friends_count\", IntegerType(), True),     StructField(\"favourites_count\", StringType(), True),     StructField(\"listed_count\", IntegerType(), True),     StructField(\"statuses_count\", IntegerType(), True),     StructField(\"isFollowing\", BooleanType(), True),     StructField(\"verified\", BooleanType(), True),     StructField(\"geoEnabled\", BooleanType(), True),     StructField(\"language\", StringType(), True),     StructField(\"url\", StringType(), True),     StructField(\"profile_image_url\", StringType(), True),     StructField(\"background_image_url\", StringType(), True),     StructField(\"profile_banner_url\", StringType(), True),     StructField(\"created_date\", DateType(), True),     StructField(\"created_datetime\", TimestampType(), True),     StructField(\"inserted_datetime\", TimestampType(), True),     StructField(\"inserted_to_CosmosDB_datetime\", TimestampType(), True),     StructField(\"inserted_to_CosmosDB_ts\", LongType(), True),     StructField(\"country_azuremaps\", StringType(), True),     StructField(\"country_code_azuremaps\", StringType(), True),   ])\n",
        "dfUsers = sqlContext.createDataFrame(lstuser,schema)\n",
        "dfUsers.createOrReplaceTempView(\"dfUsers\")"
      ]
    },
    {
      "cell_type": "code",
      "execution_count": 8,
      "outputs": [],
      "metadata": {},
      "source": [
        "if dfUsers.count() == 0:\n",
        "  print(\"Didn't capture new users.\")\n",
        "  #dbutils.notebook.exit(0)\n",
        "  #mssparkutils.notebook.exit(\"no more users\")\n",
        "else:\n",
        "  print(str(dfUsers.count()) + \" users to process.\")\n",
        "  "
      ]
    },
    {
      "cell_type": "markdown",
      "metadata": {},
      "source": [
        "# Synapse Data Ingestion"
      ]
    },
    {
      "cell_type": "code",
      "execution_count": 9,
      "outputs": [],
      "metadata": {
        "microsoft": {
          "language": "scala"
        }
      },
      "source": [
        "%%spark\n",
        "val scala_dfUsers = spark.sqlContext.sql (\"select * from dfUsers\")\n",
        "scala_dfUsers.write.synapsesql(DB_NAME+\".stg.[Users]\", Constants.INTERNAL)"
      ]
    }
  ],
  "metadata": {
    "description": null,
    "save_output": true,
    "kernelspec": {
      "name": "synapse_pyspark",
      "display_name": "python"
    },
    "language_info": {
      "name": "python"
    },
    "synapse_widget": {
      "version": "0.1",
      "state": {}
    }
  }
}