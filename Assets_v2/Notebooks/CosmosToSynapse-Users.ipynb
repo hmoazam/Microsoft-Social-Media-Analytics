{
  "cells": [
    {
      "cell_type": "code",
      "source": [
        "# # Libraries\n"
      ],
      "outputs": [],
      "execution_count": null,
      "metadata": {}
    },
    {
      "cell_type": "code",
      "source": [
        "import os\n",
        "from azure.cosmos import CosmosClient\n",
        "from azure.core.credentials import AzureKeyCredential\n",
        "from azure.ai.textanalytics import TextAnalyticsClient\n",
        "from pyspark.sql.types import StructType, StructField, LongType, StringType, DateType, TimestampType,FloatType,IntegerType,BooleanType\n",
        "from notebookutils import mssparkutils\n",
        "from azure.cosmos import CosmosClient, PartitionKey\n",
        "import family\n",
        "import json\n",
        "import pandas as pd\n",
        "from datetime import date, timedelta \n",
        "from datetime import datetime as _datetime \n",
        "import numpy as np\n",
        "import datetime, time\n",
        "from dateutil.parser import parse\n",
        "import re,string\n",
        "#import pyodbc\n"
      ],
      "outputs": [],
      "execution_count": null,
      "metadata": {}
    },
    {
      "cell_type": "code",
      "source": [
        "%run \"config\"\n"
      ],
      "outputs": [],
      "execution_count": null,
      "metadata": {}
    },
    {
      "cell_type": "code",
      "source": [
        "# Connect to Cosmos\n",
        "client = CosmosClient(COSMOS_URL, {'masterKey': COSMOS_KEY})\n",
        "database = client.get_database_client(COSMOS_DATABASE_NAME)\n",
        "tweet_container_client = database.get_container_client(container=COSMOS_CONTAINER_NAME)\n"
      ],
      "outputs": [],
      "execution_count": null,
      "metadata": {}
    },
    {
      "cell_type": "code",
      "source": [
        "last_inserted_ts = 0\n",
        "jdbc_url = \"jdbc:sqlserver://\" + SYNAPSE_WORKSPACE_NAME + \".sql.azuresynapse.net:1433;database=\" + DB_NAME + \";encrypt=true;trustServerCertificate=true;hostNameInCertificate=*.sql.azuresynapse.net;loginTimeout=30;\"\n",
        "jdbcDF = spark.read.format(\"jdbc\").option(\"url\", jdbc_url).option(\"query\", \"SELECT MAX(inserted_to_CosmosDB_ts) AS outp FROM dbo.Users\").option(\"user\", SQL_USERNAME).option(\"password\", SQL_PASSWORD).load()\n",
        "try:\n",
        "   last_inserted_ts = jdbcDF.first()[0]\n",
        "except: \n",
        "   last_inserted_ts = 0\n",
        "if not(last_inserted_ts): # if the table is empty get back None\n",
        "    last_inserted_ts = 0\n",
        "# # Tweets Querying + Modeling\n"
      ],
      "outputs": [],
      "execution_count": null,
      "metadata": {}
    },
    {
      "cell_type": "code",
      "source": [
        "query = \"SELECT * from items WHERE items.document_type = 'user' and items.inserted_to_CosmosDB_ts >= \" + str(last_inserted_ts) \n",
        "lstuser = []\n",
        "cols = ['id', 'name','screen_name','location','description', 'followers_count', 'friends_count','favourites_count', 'listed_count', 'statuses_count', 'isFollowing',\n",
        "        'verified',\n",
        "        'geoEnabled',\n",
        "        'language',\n",
        "        'url', \n",
        "        'profile_image_url',\n",
        "        'background_image_url',\n",
        "        'profile_banner_url', \n",
        "        'created_date',\n",
        "        'created_datetime',\n",
        "        'inserted_datetime',\n",
        "        'inserted_to_CosmosDB_datetime',\n",
        "        'inserted_to_CosmosDB_ts'\n",
        "       ]  \n",
        "for posts in tweet_container_client.query_items(query,enable_cross_partition_query=True ):\n",
        "  id = posts['id']\n",
        "  name = posts[\"name\"]\n",
        "  screen_name = posts['screen_name']\n",
        "  location = posts['location']\n",
        "  description = posts['description']\n",
        "  followers_count = posts['followers_count']\n",
        "  friends_count = posts['friends_count']\n",
        "  favourites_count = posts['favourites_count']\n",
        "  listed_count = posts['listed_count']\n",
        "  statuses_count = posts['statuses_count']\n",
        "  isFollowing = posts['following']\n",
        "  verified = posts['verified']\n",
        "  geoEnabled = posts['geo_enabled']\n",
        "  language = '' \n",
        "  url = 'https://twitter.com/' + posts['screen_name'] \n",
        "  profile_image_url = posts['profile_image_url_https']\n",
        "  background_image_url = posts['profile_background_image_url_https']\n",
        "  profile_banner_url = \"\" #posts['latest_version']['profile_banner_url']\n",
        "  adjustedCreatedDateTime = parse(posts['created_at'])+ timedelta(hours=3) \n",
        "  if 'country_code_azuremaps' in posts.keys() and 'country_azuremaps' in posts.keys() :\n",
        "    country_azuremaps=posts['country_azuremaps']\n",
        "    country_code_azuremaps=posts['country_code_azuremaps']\n",
        "  else:\n",
        "    country_azuremaps=None\n",
        "    country_code_azuremaps=None\n",
        "  #append tweet\n",
        "  lstuser.append([id, \n",
        "              name,\n",
        "              screen_name, \n",
        "              location,               \n",
        "              description, \n",
        "              int(followers_count), int(friends_count), int(favourites_count), int(listed_count), int(statuses_count),\n",
        "              isFollowing, verified, geoEnabled, language, \n",
        "              url, profile_image_url, background_image_url, profile_banner_url,\n",
        "              adjustedCreatedDateTime,\n",
        "              adjustedCreatedDateTime,\n",
        "              _datetime.fromtimestamp(posts[\"inserted_to_CosmosDB_ts\"]),\n",
        "              _datetime.fromtimestamp(posts[\"inserted_to_CosmosDB_ts\"]),\n",
        "              posts[\"inserted_to_CosmosDB_ts\"],\n",
        "              country_azuremaps,\n",
        "              country_code_azuremaps,\n",
        "             ])\n"
      ],
      "outputs": [],
      "execution_count": null,
      "metadata": {}
    },
    {
      "cell_type": "code",
      "source": [
        "schema = StructType([StructField(\"id\",StringType(),True),     StructField(\"name\",StringType(),True),     StructField(\"screen_name\",StringType(),True),     StructField(\"location\", StringType(), True),     StructField(\"description\", StringType(), True),     StructField(\"followers_count\", IntegerType(), True),     StructField(\"friends_count\", IntegerType(), True),     StructField(\"favourites_count\", StringType(), True),     StructField(\"listed_count\", IntegerType(), True),     StructField(\"statuses_count\", IntegerType(), True),     StructField(\"isFollowing\", BooleanType(), True),     StructField(\"verified\", BooleanType(), True),     StructField(\"geoEnabled\", BooleanType(), True),     StructField(\"language\", StringType(), True),     StructField(\"url\", StringType(), True),     StructField(\"profile_image_url\", StringType(), True),     StructField(\"background_image_url\", StringType(), True),     StructField(\"profile_banner_url\", StringType(), True),     StructField(\"created_date\", DateType(), True),     StructField(\"created_datetime\", TimestampType(), True),     StructField(\"inserted_datetime\", TimestampType(), True),     StructField(\"inserted_to_CosmosDB_datetime\", TimestampType(), True),     StructField(\"inserted_to_CosmosDB_ts\", LongType(), True),     StructField(\"country_azuremaps\", StringType(), True),     StructField(\"country_code_azuremaps\", StringType(), True),   ])\n",
        "dfUsers = sqlContext.createDataFrame(lstuser,schema)\n",
        "dfUsers.createOrReplaceTempView(\"dfUsers\")\n"
      ],
      "outputs": [],
      "execution_count": null,
      "metadata": {}
    },
    {
      "cell_type": "code",
      "source": [
        "if dfUsers.count() == 0:\n",
        "  print(\"Didn't capture new users.\")\n",
        "else:\n",
        "  print(str(dfUsers.count()) + \" users to process.\")\n",
        "# # Synapse Data Ingestion\n"
      ],
      "outputs": [],
      "execution_count": null,
      "metadata": {}
    },
    {
      "cell_type": "code",
      "source": [
        "%%spark\n",
        "val scala_dfUsers = spark.sqlContext.sql (\"select * from dfUsers\")\n",
        "scala_dfUsers.write.synapsesql(DB_NAME+\".stg.[Users]\", Constants.INTERNAL)\n"
      ],
      "outputs": [],
      "execution_count": null,
      "metadata": {
        "microsoft": {
          "language": "scala"
        }
      }
    }
  ],
  "metadata": {
    "kernelspec": {
      "name": "synapse_pyspark",
      "display_name": "python"
    },
    "language_info": {
      "name": "python"
    },
    "description": "CosmosToSynapse-Users",
    "save_output": true,
    "synapse_widget": {
      "version": "0.1",
      "state": {}
    }
  },
  "nbformat": 4,
  "nbformat_minor": 2
}