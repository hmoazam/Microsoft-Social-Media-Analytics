{
 "cells": [
  {
   "cell_type": "markdown",
   "metadata": {
    "application/vnd.databricks.v1+cell": {
     "inputWidgets": {},
     "nuid": "cced9e5b-cccd-4d67-b540-245d1e9907d0",
     "showTitle": false,
     "title": ""
    }
   },
   "source": [
    "## FaceBook Analytics\n",
    "This notebook aims at pulling posts, comments and analytics from a specific facebook page and enritch comments with Sentiment Analytics."
   ]
  },
  {
   "cell_type": "code",
   "execution_count": 0,
   "metadata": {
    "application/vnd.databricks.v1+cell": {
     "inputWidgets": {},
     "nuid": "890283e5-e26f-4f87-82aa-f424fceb9aec",
     "showTitle": false,
     "title": ""
    }
   },
   "outputs": [
    {
     "data": {
      "text/html": [
       "<style scoped>\n",
       "  .ansiout {\n",
       "    display: block;\n",
       "    unicode-bidi: embed;\n",
       "    white-space: pre-wrap;\n",
       "    word-wrap: break-word;\n",
       "    word-break: break-all;\n",
       "    font-family: \"Source Code Pro\", \"Menlo\", monospace;;\n",
       "    font-size: 13px;\n",
       "    color: #555;\n",
       "    margin-left: 4px;\n",
       "    line-height: 19px;\n",
       "  }\n",
       "</style>"
      ]
     },
     "metadata": {
      "application/vnd.databricks.v1+output": {
       "arguments": {},
       "data": "",
       "errorSummary": "",
       "errorTraceType": null,
       "metadata": {},
       "type": "ipynbError"
      }
     },
     "output_type": "display_data"
    }
   ],
   "source": [
    "import requests\n",
    "import json\n",
    "from datetime import datetime, timedelta\n",
    "from pytz import timezone\n",
    "from azure.cosmosdb.table.tableservice import TableService\n",
    "from azure.cosmosdb.table.models import Entity"
   ]
  },
  {
   "cell_type": "markdown",
   "metadata": {
    "application/vnd.databricks.v1+cell": {
     "inputWidgets": {},
     "nuid": "ce02a3cb-1fbe-4d9a-bf9c-6f7852575348",
     "showTitle": false,
     "title": ""
    }
   },
   "source": [
    "### Setup Variables\n",
    "\n",
    "| Variable | Description |\n",
    "| --- | :---|\n",
    "| SENTIMENT_KEY | Text Analytics Key |\n",
    "| SENTIMENT_URL | Endpoint URL for the Text Analytics API |\n",
    "| STORAGE_ACCOUNT | Name of the Storage account for the Table Storage |\n",
    "| STORAGE_ACCOUNT_KEY | Key for the Storage Account |\n",
    "| PAGE_ID | Facebook Page ID for the page we are analyzing |\n",
    "| APP_ID | Facebook Dev Application APP_ID |\n",
    "| APP_SECRET | App Secret for the App |\n",
    "| DAYS_LIMIT | We will collect the last DAYS_LIMIT days worth of Posts |\n",
    "| PAGE_TOKEN | This is a perminant Page Token for the Page we are analysing. |\n",
    "\n",
    "The `PAGE_TOKEN` should be a a perminant one (default expires), it is obtained by using a temp user token and calling fb.get_permanent_page_token\n",
    "\n",
    "For Example:\n",
    "```\n",
    "fb.get_permanent_page_token(PAGE_ID, 'EAAKzlFZCZAHIUBALbhPfEQdY5AMtfL3nMZAZCJQmmZBKRyeykQpG3C92aeRmcowpQCZC0I4m9uJmiLtW0ASuYvzxe0qcWCd6yZAGFp0Ee1hfScf8l2YMW8OzB7y9ly9zdTZB0xVxZCsuMzZC5d8Yo4v7SmuPhdu6uFsYsJzGtmxPZAmu9h0VUH0YufaK1folEk5YcP1L3akRyAeyAMbN9WvAsSNp2md1ePPmDf01Rvh2kpeSwZDZD')\n",
    "```"
   ]
  },
  {
   "cell_type": "code",
   "execution_count": 0,
   "metadata": {
    "application/vnd.databricks.v1+cell": {
     "inputWidgets": {},
     "nuid": "14f36dce-bc1f-4652-ba7a-3bf1dde9f5f3",
     "showTitle": false,
     "title": ""
    }
   },
   "outputs": [
    {
     "data": {
      "text/html": [
       "<style scoped>\n",
       "  .ansiout {\n",
       "    display: block;\n",
       "    unicode-bidi: embed;\n",
       "    white-space: pre-wrap;\n",
       "    word-wrap: break-word;\n",
       "    word-break: break-all;\n",
       "    font-family: \"Source Code Pro\", \"Menlo\", monospace;;\n",
       "    font-size: 13px;\n",
       "    color: #555;\n",
       "    margin-left: 4px;\n",
       "    line-height: 19px;\n",
       "  }\n",
       "</style>"
      ]
     },
     "metadata": {
      "application/vnd.databricks.v1+output": {
       "arguments": {},
       "data": "",
       "errorSummary": "",
       "errorTraceType": null,
       "metadata": {},
       "type": "ipynbError"
      }
     },
     "output_type": "display_data"
    }
   ],
   "source": [
    "STORAGE_ACCOUNT = dbutils.secrets.get(scope = 'sentsecrets', key = 'storageAccountName')\n",
    "STORAGE_ACCOUNT_KEY = dbutils.secrets.get(scope = 'sentsecrets', key = 'storageAccountKey')\n",
    "SENTIMENT_KEY = dbutils.secrets.get(scope = 'sentsecrets', key = 'textAnalyticsKey')\n",
    "SENTIMENT_URL = dbutils.secrets.get(scope = 'sentsecrets', key = 'textAnalyticsURL')\n",
    "APP_ID = dbutils.secrets.get(scope = 'sentsecrets', key = 'facebookAppID')\n",
    "APP_SECRET = dbutils.secrets.get(scope = 'sentsecrets', key = 'facebookAppSecret')\n",
    "PAGE_TOKEN = dbutils.secrets.get(scope = 'sentsecrets', key = 'facebookPageToken')\n",
    "PAGE_ID = 'ethekwinim'\n",
    "DAYS_LIMIT = 1095"
   ]
  },
  {
   "cell_type": "markdown",
   "metadata": {
    "application/vnd.databricks.v1+cell": {
     "inputWidgets": {},
     "nuid": "ad11dd52-de64-4e94-a398-52b9f96048f1",
     "showTitle": false,
     "title": ""
    }
   },
   "source": [
    "#### Include sentiment library with helper functions"
   ]
  },
  {
   "cell_type": "code",
   "execution_count": 0,
   "metadata": {
    "application/vnd.databricks.v1+cell": {
     "inputWidgets": {},
     "nuid": "094b04bc-ddf3-45ea-b6da-6f6d67fb85c1",
     "showTitle": false,
     "title": ""
    }
   },
   "outputs": [
    {
     "data": {
      "text/html": [
       "<style scoped>\n",
       "  .ansiout {\n",
       "    display: block;\n",
       "    unicode-bidi: embed;\n",
       "    white-space: pre-wrap;\n",
       "    word-wrap: break-word;\n",
       "    word-break: break-all;\n",
       "    font-family: \"Source Code Pro\", \"Menlo\", monospace;;\n",
       "    font-size: 13px;\n",
       "    color: #555;\n",
       "    margin-left: 4px;\n",
       "    line-height: 19px;\n",
       "  }\n",
       "</style>"
      ]
     },
     "metadata": {
      "application/vnd.databricks.v1+output": {
       "arguments": {},
       "data": "",
       "errorSummary": "",
       "errorTraceType": null,
       "metadata": {},
       "type": "ipynbError"
      }
     },
     "output_type": "display_data"
    }
   ],
   "source": [
    "%run ./Lib-TextAnalytics"
   ]
  },
  {
   "cell_type": "markdown",
   "metadata": {
    "application/vnd.databricks.v1+cell": {
     "inputWidgets": {},
     "nuid": "9f959727-e0de-4923-bcc1-cc5192e11b47",
     "showTitle": false,
     "title": ""
    }
   },
   "source": [
    "### Facebook class - primary supporting abstractions\n",
    "https://developers.facebook.com/docs/graph-api/reference/v9.0/insights\n",
    "https://developers.facebook.com/docs/pages/mentions/"
   ]
  },
  {
   "cell_type": "code",
   "execution_count": 0,
   "metadata": {
    "application/vnd.databricks.v1+cell": {
     "inputWidgets": {},
     "nuid": "b97b8637-4eb1-45ae-ae31-17839194c70d",
     "showTitle": false,
     "title": ""
    }
   },
   "outputs": [
    {
     "data": {
      "text/html": [
       "<style scoped>\n",
       "  .ansiout {\n",
       "    display: block;\n",
       "    unicode-bidi: embed;\n",
       "    white-space: pre-wrap;\n",
       "    word-wrap: break-word;\n",
       "    word-break: break-all;\n",
       "    font-family: \"Source Code Pro\", \"Menlo\", monospace;;\n",
       "    font-size: 13px;\n",
       "    color: #555;\n",
       "    margin-left: 4px;\n",
       "    line-height: 19px;\n",
       "  }\n",
       "</style>"
      ]
     },
     "metadata": {
      "application/vnd.databricks.v1+output": {
       "arguments": {},
       "data": "",
       "errorSummary": "",
       "errorTraceType": null,
       "metadata": {},
       "type": "ipynbError"
      }
     },
     "output_type": "display_data"
    }
   ],
   "source": [
    "class facebook(object):\n",
    "  def __init__(self, page_id, page_token, app_id, app_secret):\n",
    "    self.page_id = page_id\n",
    "    self.page_token = page_token\n",
    "    self.app_id = app_id\n",
    "    self.app_secret = app_secret\n",
    "\n",
    "  def get_app_access_token(self):\n",
    "    url = 'https://graph.facebook.com/oauth/access_token'       \n",
    "    payload = {\n",
    "        'grant_type': 'client_credentials',\n",
    "        'client_id': self.app_id,\n",
    "        'client_secret': self.app_secret\n",
    "    }\n",
    "    response = requests.get(url, params=payload)\n",
    "    print(response.json())\n",
    "    return response.json()['access_token']\n",
    "\n",
    "  # This is just a utility function to get a perminant page token, just provide a page id and user token\n",
    "  def get_permanent_page_token(self, page_id, user_token):\n",
    "    # First convert the user token (short) into a long token\n",
    "    url = f\"https://graph.facebook.com/oauth/access_token\"       \n",
    "    payload = {\n",
    "        'grant_type': 'fb_exchange_token',\n",
    "        'client_id': self.app_id,\n",
    "        'client_secret': self.app_secret,\n",
    "        'fb_exchange_token': user_token\n",
    "    }\n",
    "    response = requests.get(url, params=payload)\n",
    "    LONG_TOKEN = response.json()['access_token']\n",
    "\n",
    "    # Use the long token to get a permanent page token\n",
    "    url = f\"https://graph.facebook.com/{page_id}\"  \n",
    "    payload = {\n",
    "        'fields': 'access_token',\n",
    "        'access_token': LONG_TOKEN\n",
    "    }\n",
    "    response = requests.get(url, params=payload)\n",
    "    return response.json()['access_token']\n",
    "\n",
    "  # Return the feed with additional metric data\n",
    "  def get_feed(self):\n",
    "    url = f\"https://graph.facebook.com/{self.page_id}/feed\"       \n",
    "    payload = {\n",
    "        'access_token': self.page_token,\n",
    "        'fields': 'created_time,full_picture,permalink_url,message,from,shares,reactions.summary(total_count),comments.summary(total_count)',\n",
    "        'limit': '50'\n",
    "    }\n",
    "    response = requests.get(url, params=payload)\n",
    "    return response.json()\n",
    "\n",
    "  # Get next feed page\n",
    "  def next_feed(self, feed):\n",
    "    if 'next' in feed['paging']:    \n",
    "        url = feed['paging']['next']\n",
    "        payload = {\n",
    "            'access_token': self.page_token\n",
    "        }\n",
    "        response = requests.get(url, params=payload)\n",
    "        return response.json()\n",
    "    return []\n",
    "\n",
    "  # Return comments and supporting Analytics\n",
    "  def get_comments(self, feed_id):\n",
    "    url = f\"https://graph.facebook.com/{feed_id}/comments\"       \n",
    "    payload = {\n",
    "        'access_token': self.page_token,\n",
    "        'fields': 'id,created_time,like_count,message,comment_count,permalink_url,likes,user_likes',\n",
    "        'limit': '50'\n",
    "    }\n",
    "    response = requests.get(url, params=payload)\n",
    "    return response.json()\n",
    "\n",
    "  # Return attachment information \n",
    "  def get_attachments(self, feed_id):\n",
    "    url = f\"https://graph.facebook.com/{feed_id}/attachments\"       \n",
    "    payload = {\n",
    "        'access_token': self.page_token\n",
    "    }\n",
    "    response = requests.get(url, params=payload)\n",
    "    return response.json()\n",
    "\n",
    "  # Return reaction metrics\n",
    "  def get_reactions(self, post_id):\n",
    "    url = f\"https://graph.facebook.com/{post_id}/reactions\"       \n",
    "    payload = {\n",
    "        'access_token': self.page_token,\n",
    "        'fields': 'reactions.summary(total_count)'\n",
    "    }\n",
    "    response = requests.get(url, params=payload)\n",
    "    return response.json()\n",
    "\n",
    "  def get_post_reaction(self, post_id, reaction_type):\n",
    "    # reaction_type should be one of : NONE, LIKE, LOVE, WOW, HAHA, SAD, ANGRY, THANKFUL, PRIDE, CARE\n",
    "    url = f\"https://graph.facebook.com/{post_id}\"\n",
    "    payload = {\n",
    "          'access_token': self.page_token,\n",
    "          'fields': 'reactions.type(' + reaction_type + ').limit(0).summary(total_count)'\n",
    "      }\n",
    "    response = requests.get(url, params=payload)\n",
    "    result_json = response.json()\n",
    "\n",
    "    # Validate and return the result, else return 0\n",
    "    if 'reactions' in result_json and 'summary' in result_json['reactions'] and 'total_count' in result_json['reactions']['summary']:\n",
    "      return result_json['reactions']['summary']['total_count']\n",
    "    return '0'\n",
    "\n",
    "  # Helper function to get Post Text\n",
    "  def get_post_text(self, post):\n",
    "    if 'message' in post:\n",
    "        post_text = post['message']\n",
    "    elif 'story' in post:\n",
    "        post_text = post['story']\n",
    "    else:\n",
    "        # It's probably an attachment\n",
    "        post_text = post['permalink_url']\n",
    "        attachments = fb.get_attachments(post['id'])\n",
    "        for attachment in attachments['data']:\n",
    "            if 'title' in attachment:\n",
    "                post_text = attachment['title']\n",
    "            elif 'description' in attachment:\n",
    "                post_text = attachment['description']\n",
    "            else:\n",
    "                post_text = attachment['type']\n",
    "    return post_text\n",
    "\n",
    "  def add_post_reactions_detail(self, post_detail):\n",
    "    # First object is for the API, second is the field that will be generated\n",
    "    reaction_list = [['LIKE', 'post_reactions_like_total'],\n",
    "                     ['LOVE', 'post_reactions_love_total'],\n",
    "                     ['WOW', 'post_reactions_wow_total'],\n",
    "                     ['HAHA', 'post_reactions_haha_total'],\n",
    "                     ['SAD', 'post_reactions_sorry_total'],\n",
    "                     ['ANGRY', 'post_reactions_anger_total']]\n",
    "    for r in reaction_list:\n",
    "      post_detail[r[1]] = self.get_post_reaction(post_detail['RowKey'], r[0])\n",
    "    return post_detail\n",
    "\n",
    "  # Save the post to a table\n",
    "  def save_post(self, table_service, table_name, post, post_text):\n",
    "    # Sometimes shares are not there, so make it zero\n",
    "    if 'shares' in post:\n",
    "        share_count = post['shares']['count']\n",
    "    else:\n",
    "        share_count = '0'\n",
    "\n",
    "    if 'full_picture' in post:\n",
    "      full_picture = post['full_picture']\n",
    "    else:\n",
    "      full_picture = \"\"\n",
    "\n",
    "    if 'from' in post:\n",
    "      post_from = post['from']['name']\n",
    "    else:\n",
    "      post_from = 'Facebook User'\n",
    "\n",
    "    # Build the Post save\n",
    "    postsave = {\n",
    "        'PartitionKey': post['id'], 'RowKey' : post['id'],\n",
    "        'post': post_text, 'post_time' : post['created_time'], 'from': post_from,\n",
    "        'shares': share_count, 'reactions': post['reactions']['summary']['total_count'],\n",
    "        'comments': post['comments']['summary']['total_count'],\n",
    "        'permalink_url': post['permalink_url'],\n",
    "        'full_picture.': full_picture\n",
    "    }\n",
    "    # Get reactions\n",
    "    postsave = self.add_post_reactions_detail(postsave)\n",
    "\n",
    "    #old code Collect Insights\n",
    "    #for insight in post['insights']['data']:\n",
    "    #    insight_name = insight['name']\n",
    "    #    insight_value = insight['values'][0]['value']\n",
    "    #    postsave[insight_name] = insight_value\n",
    "\n",
    "    table_service.insert_or_replace_entity(table_name, postsave)\n",
    "\n",
    "  # Save the comment to a table\n",
    "  def save_comment(self, table_service, table_name, post_id, comment, sentiment, keyphrase, language, confidence):\n",
    "    sentcomment = {\n",
    "        'PartitionKey': post_id, 'RowKey' : comment['id'],\n",
    "        'language' : language, 'lang_confidence' : confidence,\n",
    "        'sentiment' : sentiment,\n",
    "        'comment' : comment['message'],\n",
    "        'like_count' : comment['like_count'], 'comment_count': comment['comment_count'],\n",
    "        'permalink_url': comment['permalink_url'], 'keyphrase': keyphrase,\n",
    "        'comment_time' : comment['created_time'] \n",
    "    }\n",
    "    table_service.insert_or_replace_entity(table_name, sentcomment)\n",
    "\n",
    "  def get_page_metrics(self):\n",
    "    url = f\"https://graph.facebook.com/{self.page_id}/insights\"\n",
    "    payload = {\n",
    "        'access_token': self.page_token,\n",
    "        'metric': 'page_content_activity_by_city_unique,page_fans_gender_age,page_impressions_frequency_distribution,page_website_clicks_by_site_logged_in_unique'\n",
    "    }\n",
    "    response = requests.get(url, params=payload)\n",
    "    return response.json()\n",
    "\n",
    "  def get_page_metrics_next(self, metrics):\n",
    "    if 'next' in metrics['paging']:    \n",
    "        url = metrics['paging']['next']\n",
    "        payload = {\n",
    "            'access_token': self.page_token\n",
    "        }\n",
    "        response = requests.get(url, params=payload)\n",
    "        return response.json()\n",
    "    return []\n",
    "\n",
    "  def save_page_metrics(self, table_service, page_metrics_table, page_metrics_value_table, page_metrics):\n",
    "    for metric in page_metrics['data']:\n",
    "    #if metric['name'] == 'page_fans_gender_age':\n",
    "    #print(f\"{metric['period']} | {len(metric['values'])} {metric['title']}\")\n",
    "      metric_name_save = {\n",
    "        'PartitionKey': 'Facebook', 'RowKey' : metric['name'],\n",
    "        'Title': metric['title'], 'Description': metric['description'], 'Period': metric['period'],\n",
    "      }\n",
    "      table_service.insert_or_replace_entity(page_metrics_table, metric_name_save)\n",
    "      for metric_value in metric['values']:\n",
    "        for metric_value_timeslice in metric_value['value']:\n",
    "          #print(f\"{metric_value_timeslice} | {metric_value['value'][metric_value_timeslice]}\")\n",
    "          metric_save = {\n",
    "            'PartitionKey': metric['name'], 'RowKey' : metric_value_timeslice,\n",
    "            'Value': metric_value['value'][metric_value_timeslice], 'metric_time': metric_value['end_time']\n",
    "          }\n",
    "          table_service.insert_or_replace_entity(page_metrics_value_table, metric_save)"
   ]
  },
  {
   "cell_type": "markdown",
   "metadata": {
    "application/vnd.databricks.v1+cell": {
     "inputWidgets": {},
     "nuid": "838c45af-47b7-433f-a2d6-20f447f4f80d",
     "showTitle": false,
     "title": ""
    }
   },
   "source": [
    "### Initialize and Create Tables\n",
    "Will give error if the table already exists, just ignore it."
   ]
  },
  {
   "cell_type": "code",
   "execution_count": 0,
   "metadata": {
    "application/vnd.databricks.v1+cell": {
     "inputWidgets": {},
     "nuid": "ea57cf54-5280-4fa6-a91a-2bc6453e71aa",
     "showTitle": false,
     "title": ""
    }
   },
   "outputs": [
    {
     "data": {
      "text/html": [
       "<style scoped>\n",
       "  .ansiout {\n",
       "    display: block;\n",
       "    unicode-bidi: embed;\n",
       "    white-space: pre-wrap;\n",
       "    word-wrap: break-word;\n",
       "    word-break: break-all;\n",
       "    font-family: \"Source Code Pro\", \"Menlo\", monospace;;\n",
       "    font-size: 13px;\n",
       "    color: #555;\n",
       "    margin-left: 4px;\n",
       "    line-height: 19px;\n",
       "  }\n",
       "</style>"
      ]
     },
     "metadata": {
      "application/vnd.databricks.v1+output": {
       "arguments": {},
       "data": "",
       "errorSummary": "",
       "errorTraceType": null,
       "metadata": {},
       "type": "ipynbError"
      }
     },
     "output_type": "display_data"
    }
   ],
   "source": [
    "table_service = TableService(account_name=STORAGE_ACCOUNT, account_key=STORAGE_ACCOUNT_KEY)\n",
    "table_service.create_table('fbcomments')\n",
    "table_service.create_table('fbposts')\n",
    "table_service.create_table('fbpagemetricname')\n",
    "table_service.create_table('fbpagemetricvalue')"
   ]
  },
  {
   "cell_type": "markdown",
   "metadata": {
    "application/vnd.databricks.v1+cell": {
     "inputWidgets": {},
     "nuid": "c386fdd5-0d44-4f86-897f-1fb2d2340f01",
     "showTitle": false,
     "title": ""
    }
   },
   "source": [
    "### Create and instance of the Facebook and Text Analytics class"
   ]
  },
  {
   "cell_type": "code",
   "execution_count": 0,
   "metadata": {
    "application/vnd.databricks.v1+cell": {
     "inputWidgets": {},
     "nuid": "15a18a80-663f-469a-8992-a01c5e9320bf",
     "showTitle": false,
     "title": ""
    }
   },
   "outputs": [
    {
     "data": {
      "text/html": [
       "<style scoped>\n",
       "  .ansiout {\n",
       "    display: block;\n",
       "    unicode-bidi: embed;\n",
       "    white-space: pre-wrap;\n",
       "    word-wrap: break-word;\n",
       "    word-break: break-all;\n",
       "    font-family: \"Source Code Pro\", \"Menlo\", monospace;;\n",
       "    font-size: 13px;\n",
       "    color: #555;\n",
       "    margin-left: 4px;\n",
       "    line-height: 19px;\n",
       "  }\n",
       "</style>"
      ]
     },
     "metadata": {
      "application/vnd.databricks.v1+output": {
       "arguments": {},
       "data": "",
       "errorSummary": "",
       "errorTraceType": null,
       "metadata": {},
       "type": "ipynbError"
      }
     },
     "output_type": "display_data"
    }
   ],
   "source": [
    "fb = facebook(PAGE_ID, PAGE_TOKEN, APP_ID, APP_SECRET)\n",
    "ta = textAnalytics(SENTIMENT_URL, SENTIMENT_KEY)"
   ]
  },
  {
   "cell_type": "markdown",
   "metadata": {
    "application/vnd.databricks.v1+cell": {
     "inputWidgets": {},
     "nuid": "631274db-46d1-41fd-a606-59b8b01bff80",
     "showTitle": false,
     "title": ""
    }
   },
   "source": [
    "###Save Page Metrics"
   ]
  },
  {
   "cell_type": "code",
   "execution_count": 0,
   "metadata": {
    "application/vnd.databricks.v1+cell": {
     "inputWidgets": {},
     "nuid": "063e6f26-7dfb-4f3d-9cb3-64e3ab9a48d6",
     "showTitle": false,
     "title": ""
    }
   },
   "outputs": [
    {
     "data": {
      "text/html": [
       "<style scoped>\n",
       "  .ansiout {\n",
       "    display: block;\n",
       "    unicode-bidi: embed;\n",
       "    white-space: pre-wrap;\n",
       "    word-wrap: break-word;\n",
       "    word-break: break-all;\n",
       "    font-family: \"Source Code Pro\", \"Menlo\", monospace;;\n",
       "    font-size: 13px;\n",
       "    color: #555;\n",
       "    margin-left: 4px;\n",
       "    line-height: 19px;\n",
       "  }\n",
       "</style>"
      ]
     },
     "metadata": {
      "application/vnd.databricks.v1+output": {
       "arguments": {},
       "data": "",
       "errorSummary": "",
       "errorTraceType": null,
       "metadata": {},
       "type": "ipynbError"
      }
     },
     "output_type": "display_data"
    }
   ],
   "source": [
    "fb.save_page_metrics(table_service, 'fbpagemetricname', 'fbpagemetricvalue', fb.get_page_metrics())"
   ]
  },
  {
   "cell_type": "markdown",
   "metadata": {
    "application/vnd.databricks.v1+cell": {
     "inputWidgets": {},
     "nuid": "5363dab6-fdb9-4960-8c47-63209746c958",
     "showTitle": false,
     "title": ""
    }
   },
   "source": [
    "### Main Loop - pull posts, comments, metrics and enritch with AI"
   ]
  },
  {
   "cell_type": "code",
   "execution_count": 0,
   "metadata": {
    "application/vnd.databricks.v1+cell": {
     "inputWidgets": {},
     "nuid": "05c9e628-ad06-42f1-8509-c512f656befc",
     "showTitle": false,
     "title": ""
    }
   },
   "outputs": [
    {
     "data": {
      "text/html": [
       "<style scoped>\n",
       "  .ansiout {\n",
       "    display: block;\n",
       "    unicode-bidi: embed;\n",
       "    white-space: pre-wrap;\n",
       "    word-wrap: break-word;\n",
       "    word-break: break-all;\n",
       "    font-family: \"Source Code Pro\", \"Menlo\", monospace;;\n",
       "    font-size: 13px;\n",
       "    color: #555;\n",
       "    margin-left: 4px;\n",
       "    line-height: 19px;\n",
       "  }\n",
       "</style>"
      ]
     },
     "metadata": {
      "application/vnd.databricks.v1+output": {
       "arguments": {},
       "data": "",
       "errorSummary": "",
       "errorTraceType": null,
       "metadata": {},
       "type": "ipynbError"
      }
     },
     "output_type": "display_data"
    }
   ],
   "source": [
    "page = 1\n",
    "counter = 0\n",
    "post_new_enough = True\n",
    "time_limit = datetime.now(timezone('UTC')) - timedelta(days = DAYS_LIMIT)\n",
    "feed = fb.get_feed()\n",
    "\n",
    "# Loop until there is no more data or the posts are too old\n",
    "while ('data' in feed) & (post_new_enough):\n",
    "    #print(f\"Page {page}\")\n",
    "    for post in feed['data']:\n",
    "        post_time = datetime.strptime(post['created_time'], \"%Y-%m-%dT%H:%M:%S%z\")\n",
    "        # Check if the post is too old, if so, we exit the loop\n",
    "        if post_time < time_limit:\n",
    "            post_new_enough = False\n",
    "            break;\n",
    "            \n",
    "        # Save the post\n",
    "        post_text = fb.get_post_text(post)\n",
    "        fb.save_post(table_service, 'fbposts', post, post_text)\n",
    "        \n",
    "        # if there are comments, collect it\n",
    "        if int(post['comments']['summary']['total_count']) > 0:\n",
    "            print(f\"-----------------------------------\\n{post_text[:100]}\")\n",
    "            # Process the comments\n",
    "            comments = fb.get_comments(post['id'])\n",
    "            if 'data' in comments:\n",
    "              for comment in comments['data']:\n",
    "                  comment_text = comment['message']\n",
    "                  # Figure out the Language\n",
    "                  language, langname, confidence = ta.get_language(comment_text)\n",
    "                  # Only Process if language is known\n",
    "                  if (language == 'unk'):\n",
    "                    sentiment = \"unknown\"\n",
    "                    keyphrase = ta.get_keyphrase(comment_text, 'en-ZA')\n",
    "                  else:\n",
    "                    # Call the Sentiment API\n",
    "                    sentiment = ta.get_sentiment(comment_text, language)\n",
    "                    # Call keyphrase extraction api\n",
    "                    keyphrase = ta.get_keyphrase(comment_text, language)\n",
    "\n",
    "                  # Save the comment to table\n",
    "                  fb.save_comment(table_service, 'fbcomments', post['id'], comment, sentiment, keyphrase, langname, confidence)            \n",
    "                  print(f\"==> {sentiment} | {comment['message']}\")\n",
    "                  counter += 1\n",
    "    feed = fb.next_feed(feed)\n",
    "    page += 1"
   ]
  },
  {
   "cell_type": "code",
   "execution_count": 0,
   "metadata": {
    "application/vnd.databricks.v1+cell": {
     "inputWidgets": {},
     "nuid": "4af883a4-90a3-4d59-9e59-9a1ec6e6a713",
     "showTitle": false,
     "title": ""
    }
   },
   "outputs": [
    {
     "data": {
      "text/html": [
       "<style scoped>\n",
       "  .ansiout {\n",
       "    display: block;\n",
       "    unicode-bidi: embed;\n",
       "    white-space: pre-wrap;\n",
       "    word-wrap: break-word;\n",
       "    word-break: break-all;\n",
       "    font-family: \"Source Code Pro\", \"Menlo\", monospace;;\n",
       "    font-size: 13px;\n",
       "    color: #555;\n",
       "    margin-left: 4px;\n",
       "    line-height: 19px;\n",
       "  }\n",
       "</style>"
      ]
     },
     "metadata": {
      "application/vnd.databricks.v1+output": {
       "arguments": {},
       "data": "",
       "errorSummary": "",
       "errorTraceType": null,
       "metadata": {},
       "type": "ipynbError"
      }
     },
     "output_type": "display_data"
    }
   ],
   "source": [
    "# How Many Text Analytics calls?\n",
    "ta.calls_count"
   ]
  }
 ],
 "metadata": {
  "application/vnd.databricks.v1+notebook": {
   "dashboards": [],
   "language": "python",
   "notebookMetadata": {
    "pythonIndentUnit": 2
   },
   "notebookName": "Sentiment-Facebook",
   "notebookOrigID": 4466349688075251,
   "widgets": {}
  },
  "kernelspec": {
   "display_name": "Python 3",
   "language": "python",
   "name": "python3"
  },
  "language_info": {
   "codemirror_mode": {
    "name": "ipython",
    "version": 3
   },
   "file_extension": ".py",
   "mimetype": "text/x-python",
   "name": "python",
   "nbconvert_exporter": "python",
   "pygments_lexer": "ipython3",
   "version": "3.7.9"
  }
 },
 "nbformat": 4,
 "nbformat_minor": 1
}
