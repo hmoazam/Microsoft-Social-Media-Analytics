{
  "nbformat": 4,
  "nbformat_minor": 2,
  "cells": [
    {
      "cell_type": "code",
      "execution_count": 9,
      "outputs": [
        {
          "output_type": "display_data",
          "data": {
            "application/vnd.livy.statement-meta+json": {
              "spark_pool": "smasparkpool",
              "session_id": 0,
              "statement_id": 9,
              "state": "finished",
              "livy_statement_state": "available",
              "queued_time": "2022-03-02T12:25:31.2879469Z",
              "session_start_time": null,
              "execution_start_time": "2022-03-02T12:25:31.688852Z",
              "execution_finish_time": "2022-03-02T12:25:32.0920388Z"
            },
            "text/plain": "StatementMeta(smasparkpool, 0, 9, Finished, Available)"
          },
          "metadata": {}
        }
      ],
      "metadata": {},
      "source": [
        "#News API\n",
        "NEWS_API_KEY = TokenLibrary.getSecret(\"kv-alrayyan-sma-poc\",\"NEWSAPIKEY\",\"kvsma\")\n",
        "# Cosmos\n",
        "COSMOS_URL = TokenLibrary.getSecret(\"kv-alrayyan-sma-poc\",\"COSMOSURL\",\"kvsma\")\n",
        "COSMOS_KEY = TokenLibrary.getSecret(\"kv-alrayyan-sma-poc\",\"COSMOSKEY\",\"kvsma\")\n",
        "COSMOS_DATABASE_NAME = TokenLibrary.getSecret(\"kv-alrayyan-sma-poc\",\"COSMOSDATABASENAME\",\"kvsma\")\n",
        "COSMOS_CONTAINER_NAME = \"tweets_users\"\n",
        "COSMOS_ARTICLE_CONTAINER_NAME = \"articles\"\n",
        "\n",
        "# Text analytics\n",
        "TEXT_ANALYTICS_KEY = TokenLibrary.getSecret(\"kv-alrayyan-sma-poc\",\"TEXTANALYTICSKEY\",\"kvsma\")\n",
        "TEXT_ANALYTICS_ENDPOINT = TokenLibrary.getSecret(\"kv-alrayyan-sma-poc\",\"TEXTANALYTICSENDPOINT\",\"kvsma\")\n",
        "TEXT_ANALYTICS_REGION = \"westeurope\"\n",
        "# Translator\n",
        "TRANSLATOR_KEY = TokenLibrary.getSecret(\"kv-alrayyan-sma-poc\",\"TRANSLATORKEY\",\"kvsma\")\n",
        "TRANSLATOR_ENDPOINT = TokenLibrary.getSecret(\"kv-alrayyan-sma-poc\",\"TRANSLATORENDPOINT\",\"kvsma\")\n",
        "TRANSLATOR_REGION = \"westeurope\"\n",
        "# Twitter\n",
        "TWITTER_API_KEY = TokenLibrary.getSecret(\"kv-alrayyan-sma-poc\",\"TWITTERAPIKEY\",\"kvsma\")\n",
        "TWITTER_API_SECRET_KEY = TokenLibrary.getSecret(\"kv-alrayyan-sma-poc\",\"TWITTERAPISECRETKEY\",\"kvsma\")\n",
        "TWITTER_ACCESS_TOKEN = TokenLibrary.getSecret(\"kv-alrayyan-sma-poc\",\"TWITTERACCESSTOKEN\",\"kvsma\")\n",
        "TWITTER_ACCESS_TOKEN_SECRET = TokenLibrary.getSecret(\"kv-alrayyan-sma-poc\",\"TWITTERACCESSTOKENSECRET\",\"kvsma\")\n",
        "TWITTER_API_AUTH = {\n",
        "  'consumer_key': TWITTER_API_KEY,\n",
        "  'consumer_secret': TWITTER_API_SECRET_KEY,\n",
        "  'access_token': TWITTER_ACCESS_TOKEN,\n",
        "  'access_token_secret': TWITTER_ACCESS_TOKEN_SECRET,\n",
        "}\n",
        "# Synapse\n",
        "SQL_ENDPOINT = TokenLibrary.getSecret(\"kv-alrayyan-sma-poc\",\"SQLENDPOINT\",\"kvsma\")\n",
        "SQL_USERNAME = TokenLibrary.getSecret(\"kv-alrayyan-sma-poc\",\"SQLUSERNAME\",\"kvsma\")\n",
        "SQL_PASSWORD = TokenLibrary.getSecret(\"kv-alrayyan-sma-poc\",\"SQLPASSWORD\",\"kvsma\")\n",
        "DB_NAME = TokenLibrary.getSecret(\"kv-alrayyan-sma-poc\",\"DBNAME\",\"kvsma\")\n",
        "# Storage Account\n",
        "STORAGE_ACCOUNT_NAME = TokenLibrary.getSecret(\"kv-alrayyan-sma-poc\",\"STORAGEACCOUNTNAME\",\"kvsma\")\n",
        "STORAGE_CONTAINER_NAME = TokenLibrary.getSecret(\"kv-alrayyan-sma-poc\",\"STORAGECONTAINERNAME\",\"kvsma\")\n",
        "STORAGE_DIRECTORY_NAME = \"synapse\"\n",
        "STORAGE_KEY = TokenLibrary.getSecret(\"kv-alrayyan-sma-poc\",\"STORAGEKEY\",\"kvsma\")\n",
        "# Azure Maps\n",
        "MAPS_KEY = TokenLibrary.getSecret(\"kv-alrayyan-sma-poc\",\"MAPSKEY\",\"kvsma\")\n",
        "\n",
        "\n",
        "# New parameters needed for jdbc connection string \n",
        "SYNAPSE_WORKSPACE_NAME = \"syn-sma-poc\"\n",
        "COSMOS_RSS_FEEDS_CONTAINER_NAME = \"rss_articles\""
      ]
    },
    {
      "cell_type": "code",
      "execution_count": 11,
      "outputs": [
        {
          "output_type": "display_data",
          "data": {
            "application/vnd.livy.statement-meta+json": {
              "spark_pool": "smasparkpool",
              "session_id": 0,
              "statement_id": 12,
              "state": "finished",
              "livy_statement_state": "available",
              "queued_time": "2022-03-02T12:29:10.7843264Z",
              "session_start_time": null,
              "execution_start_time": "2022-03-02T12:29:11.1840974Z",
              "execution_finish_time": "2022-03-02T12:29:11.6742111Z"
            },
            "text/plain": "StatementMeta(smasparkpool, 0, 12, Finished, Available)"
          },
          "metadata": {}
        },
        {
          "output_type": "stream",
          "name": "stdout",
          "text": "DB_NAME: String = synsqlpoolsmapoc\n"
        }
      ],
      "metadata": {
        "microsoft": {
          "language": "scala"
        }
      },
      "source": [
        "%%spark\n",
        "val DB_NAME = TokenLibrary.getSecret(\"kv-alrayyan-sma-poc\",\"DBNAME\",\"kvsma\")"
      ]
    },
    {
      "cell_type": "code",
      "execution_count": null,
      "outputs": [],
      "metadata": {
        "jupyter": {
          "source_hidden": false,
          "outputs_hidden": false
        },
        "nteract": {
          "transient": {
            "deleting": false
          }
        }
      },
      "source": [
        ""
      ]
    }
  ],
  "metadata": {
    "description": null,
    "save_output": true,
    "kernelspec": {
      "name": "synapse_pyspark",
      "display_name": "Synapse PySpark"
    },
    "language_info": {
      "name": "python"
    },
    "synapse_widget": {
      "version": "0.1",
      "state": {}
    }
  }
}