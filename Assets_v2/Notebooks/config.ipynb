{
  "cells": [
    {
      "cell_type": "code",
      "source": [
        "#News API\n",
        "NEWS_API_KEY = TokenLibrary.getSecret(\"###keyvaultname###\",\"NEWSAPIKEY\",\"KeyVaultLinkedService\")\n",
        "# Cosmos\n",
        "COSMOS_URL = TokenLibrary.getSecret(\"###keyvaultname###\",\"COSMOSURL\",\"KeyVaultLinkedService\")\n",
        "COSMOS_KEY = TokenLibrary.getSecret(\"###keyvaultname###\",\"COSMOSKEY\",\"KeyVaultLinkedService\")\n",
        "COSMOS_DATABASE_NAME = TokenLibrary.getSecret(\"###keyvaultname###\",\"COSMOSDATABASENAME\",\"KeyVaultLinkedService\")\n",
        "COSMOS_CONTAINER_NAME = \"tweets_and_users\"\n",
        "COSMOS_ARTICLE_CONTAINER_NAME = \"articles\"\n",
        "COSMOS_RSS_FEEDS_CONTAINER_NAME = \"rss_articles\"\n",
        "# Text analytics\n",
        "TEXT_ANALYTICS_KEY = TokenLibrary.getSecret(\"###keyvaultname###\",\"TEXTANALYTICSKEY\",\"KeyVaultLinkedService\")\n",
        "TEXT_ANALYTICS_ENDPOINT = TokenLibrary.getSecret(\"###keyvaultname###\",\"TEXTANALYTICSENDPOINT\",\"KeyVaultLinkedService\")\n",
        "TEXT_ANALYTICS_REGION = \"northeurope\"\n",
        "# Translator\n",
        "TRANSLATOR_KEY = TokenLibrary.getSecret(\"###keyvaultname###\",\"TRANSLATORKEY\",\"KeyVaultLinkedService\")\n",
        "TRANSLATOR_ENDPOINT = TokenLibrary.getSecret(\"###keyvaultname###\",\"TRANSLATORENDPOINT\",\"KeyVaultLinkedService\")\n",
        "TRANSLATOR_REGION = \"northeurope\"\n",
        "# Twitter\n",
        "TWITTER_API_KEY = TokenLibrary.getSecret(\"###keyvaultname###\",\"TWITTERAPIKEY\",\"KeyVaultLinkedService\")\n",
        "TWITTER_API_SECRET_KEY = TokenLibrary.getSecret(\"###keyvaultname###\",\"TWITTERAPISECRETKEY\",\"KeyVaultLinkedService\")\n",
        "TWITTER_ACCESS_TOKEN = TokenLibrary.getSecret(\"###keyvaultname###\",\"TWITTERACCESSTOKEN\",\"KeyVaultLinkedService\")\n",
        "TWITTER_ACCESS_TOKEN_SECRET = TokenLibrary.getSecret(\"###keyvaultname###\",\"TWITTERACCESSTOKENSECRET\",\"KeyVaultLinkedService\")\n",
        "TWITTER_API_AUTH = {\n",
        "  'consumer_key': TWITTER_API_KEY,\n",
        "  'consumer_secret': TWITTER_API_SECRET_KEY,\n",
        "  'access_token': TWITTER_ACCESS_TOKEN,\n",
        "  'access_token_secret': TWITTER_ACCESS_TOKEN_SECRET,\n",
        "}\n",
        "# Synapse\n",
        "SQL_ENDPOINT = TokenLibrary.getSecret(\"###keyvaultname###\",\"SQLENDPOINT\",\"KeyVaultLinkedService\")\n",
        "SQL_USERNAME = TokenLibrary.getSecret(\"###keyvaultname###\",\"SQLUSERNAME\",\"KeyVaultLinkedService\")\n",
        "SQL_PASSWORD = TokenLibrary.getSecret(\"###keyvaultname###\",\"SQLPASSWORD\",\"KeyVaultLinkedService\")\n",
        "DB_NAME = TokenLibrary.getSecret(\"###keyvaultname###\",\"DBNAME\",\"KeyVaultLinkedService\")\n",
        "# Storage Account\n",
        "STORAGE_ACCOUNT_NAME = TokenLibrary.getSecret(\"###keyvaultname###\",\"STORAGEACCOUNTNAME\",\"KeyVaultLinkedService\")\n",
        "STORAGE_CONTAINER_NAME = TokenLibrary.getSecret(\"###keyvaultname###\",\"STORAGECONTAINERNAME\",\"KeyVaultLinkedService\")\n",
        "STORAGE_DIRECTORY_NAME = \"synapse\"\n",
        "STORAGE_KEY = TokenLibrary.getSecret(\"###keyvaultname###\",\"STORAGEKEY\",\"KeyVaultLinkedService\")\n",
        "# Azure Maps\n",
        "MAPS_KEY = TokenLibrary.getSecret(\"###keyvaultname###\",\"MAPSKEY\",\"KeyVaultLinkedService\")\n",
        "# Synapse workspace name - used in jdbc connection string parameter\n",
        "SYNAPSE_WORKSPACE_NAME = TokenLibrary.getSecret(\"###keyvaultname###\",\"SYNWORKSPACENAME\",\"KeyVaultLinkedService\")\n"
      ],
      "outputs": [],
      "execution_count": null,
      "metadata": {}
    },
    {
      "cell_type": "code",
      "source": [
        "%%spark\n",
        "val DB_NAME = TokenLibrary.getSecret(\"###keyvaultname###\",\"DBNAME\",\"KeyVaultLinkedService\")\n"
      ],
      "outputs": [],
      "execution_count": null,
      "metadata": {
        "microsoft": {
          "language": "scala"
        }
      }
    }
  ],
  "metadata": {
    "kernelspec": {
      "name": "synapse_pyspark",
      "display_name": "python"
    },
    "language_info": {
      "name": "python"
    },
    "description": "config",
    "save_output": true,
    "synapse_widget": {
      "version": "0.1",
      "state": {}
    }
  },
  "nbformat": 4,
  "nbformat_minor": 2
}