{
  "nbformat": 4,
  "nbformat_minor": 2,
  "cells": [
    {
      "cell_type": "code",
      "execution_count": 63,
      "outputs": [
        {
          "output_type": "display_data",
          "data": {
            "application/vnd.livy.statement-meta+json": {
              "spark_pool": "smasparkpool",
              "session_id": 270,
              "statement_id": 50,
              "state": "finished",
              "livy_statement_state": "available",
              "queued_time": "2022-03-06T12:18:50.4931306Z",
              "session_start_time": null,
              "execution_start_time": "2022-03-06T12:18:51.0543853Z",
              "execution_finish_time": "2022-03-06T12:18:51.4752136Z"
            },
            "text/plain": "StatementMeta(smasparkpool, 270, 50, Finished, Available)"
          },
          "metadata": {}
        }
      ],
      "metadata": {
        "jupyter": {
          "source_hidden": false,
          "outputs_hidden": false
        },
        "nteract": {
          "transient": {
            "deleting": false
          }
        },
        "tags": [
          "parameters"
        ]
      },
      "source": [
        "# Pipeline params \r\n",
        "# feed_source = \"https://full.gulf-times.com/Rss/Index\"\r\n",
        "feed_source = \"https://www.psychologytoday.com/us/blog/singletons/feed\"\r\n",
        "target_languages = \"English,Arabic\"\r\n",
        "query_optional = \"\" # split with OR\r\n",
        "query_required = \"\" # split with AND\r\n",
        "topic = \"Parenting\"\r\n",
        "subtopic = \"\""
      ]
    },
    {
      "cell_type": "code",
      "execution_count": 64,
      "outputs": [
        {
          "output_type": "display_data",
          "data": {
            "application/vnd.livy.statement-meta+json": {
              "spark_pool": "smasparkpool",
              "session_id": 270,
              "statement_id": 51,
              "state": "finished",
              "livy_statement_state": "available",
              "queued_time": "2022-03-06T12:18:50.7837281Z",
              "session_start_time": null,
              "execution_start_time": "2022-03-06T12:18:51.8484404Z",
              "execution_finish_time": "2022-03-06T12:18:52.3346008Z"
            },
            "text/plain": "StatementMeta(smasparkpool, 270, 51, Finished, Available)"
          },
          "metadata": {}
        }
      ],
      "metadata": {
        "jupyter": {
          "source_hidden": false,
          "outputs_hidden": false
        },
        "nteract": {
          "transient": {
            "deleting": false
          }
        }
      },
      "source": [
        "from azure.cosmos import CosmosClient\r\n",
        "from azure.core.credentials import AzureKeyCredential\r\n",
        "from azure.ai.textanalytics import TextAnalyticsClient\r\n",
        "\r\n",
        "import copy\r\n",
        "import feedparser\r\n",
        "import sys, time, json, requests, uuid\r\n",
        "from datetime import datetime, date, timedelta # don't import time here. It messes with the default library"
      ]
    },
    {
      "cell_type": "code",
      "execution_count": 65,
      "outputs": [
        {
          "output_type": "display_data",
          "data": {
            "application/vnd.livy.statement-meta+json": {
              "spark_pool": "smasparkpool",
              "session_id": 270,
              "statement_id": 52,
              "state": "finished",
              "livy_statement_state": "available",
              "queued_time": "2022-03-06T12:18:51.1883933Z",
              "session_start_time": null,
              "execution_start_time": "2022-03-06T12:18:52.7489356Z",
              "execution_finish_time": "2022-03-06T12:18:53.1601267Z"
            },
            "text/plain": "StatementMeta(smasparkpool, 270, 52, Finished, Available)"
          },
          "metadata": {}
        }
      ],
      "metadata": {},
      "source": [
        "LANGUAGE_CODES={\"All\":\"\",\"Afrikaans\":\"af\",\"Arabic\":\"ar\",\"Assamese\":\"as\",\"Bangla\":\"bn\",\"Bosnian(Latin)\":\"bs\",\"Bulgarian\":\"bg\",\"Cantonese(Traditional)\":\"yue\",\"Catalan\":\"ca\",\"Chinese Simplified\":\"zh-Hans\",\"Chinese Traditional\":\"zh-Hant\",\"Croatian\":\"hr\",\"Czech\":\"cs\",\"Dari\":\"prs\",\"Danish\":\"da\",\"Dutch\":\"nl\",\"English\":\"en\",\"Estonian\":\"et\",\"Fijian\":\"fj\",\"Filipino\":\"fil\",\"Finnish\":\"fi\",\"French\":\"fr\",\"German\":\"de\",\"Greek\":\"el\",\"Gujarati\":\"gu\",\"Haitian Creole\":\"ht\",\"Hebrew\":\"he\",\"Hindi\":\"hi\",\"Hmong Daw\":\"mww\",\"Hungarian\":\"hu\",\"Icelandic\":\"is\",\"Indonesian\":\"id\",\"Irish\":\"ga\",\"Italian\":\"it\",\"Japanese\":\"ja\",\"Kannada\":\"kn\",\"Kazakh\":\"kk\",\"Klingon\":\"tlh-Latn\",\"Klingon(plqaD)\":\"tlh-Piqd\",\"Korean\":\"ko\",\"Kurdish(Central)\":\"ku\",\"Kurdish(Northern)\":\"kmr\",\"Latvian\":\"lv\",\"Lithuanian\":\"lt\",\"Malagasy\":\"mg\",\"Malay\":\"ms\",\"Malayalam\":\"ml\",\"Maltese\":\"mt\",\"Maori\":\"mi\",\"Marathi\":\"mr\",\"Norwegian\":\"nb\",\"Odia\":\"or\",\"Pashto\":\"ps\",\"Persian\":\"fa\",\"Polish\":\"pl\",\"Portuguese(Brazil)\":\"pt-br\",\"Portuguese(Portugal)\":\"pt-pt\",\"Punjabi\":\"pa\",\"Queretaro Otomi\":\"otq\",\"Romanian\":\"ro\",\"Russian\":\"ru\",\"Samoan\":\"sm\",\"Serbian(Cyrillic)\":\"sr-Cyrl\",\"Serbian(Latin)\":\"sr-Latn\",\"Slovak\":\"sk\",\"Slovenian\":\"sl\",\"Spanish\":\"es\",\"Swahili\":\"sw\",\"Swedish\":\"sv\",\"Tahitian\":\"ty\",\"Tamil\":\"ta\",\"Telugu\":\"te\",\"Thai\":\"th\",\"Tongan\":\"to\",\"Turkish\":\"tr\",\"Ukrainian\":\"uk\",\"Urdu\":\"ur\",\"Vietnamese\":\"vi\",\"Welsh\":\"cy\",\"Yucatec Maya\":\"yua\"}\r\n",
        "\r\n",
        "target_languages = [LANGUAGE_CODES.get(lang, \"\") for lang in target_languages.split(\",\")]\r\n",
        "if \"en\" not in target_languages:\r\n",
        "  target_languages.append(\"en\")"
      ]
    },
    {
      "cell_type": "code",
      "execution_count": 66,
      "outputs": [
        {
          "output_type": "display_data",
          "data": {
            "application/vnd.livy.statement-meta+json": {
              "spark_pool": null,
              "session_id": 270,
              "statement_id": -1,
              "state": "finished",
              "livy_statement_state": "available",
              "queued_time": "2022-03-06T12:18:51.322981Z",
              "session_start_time": null,
              "execution_start_time": "2022-03-06T12:18:56.0906854Z",
              "execution_finish_time": "2022-03-06T12:18:56.0909962Z"
            },
            "text/plain": "StatementMeta(, 270, -1, Finished, Available)"
          },
          "metadata": {}
        },
        {
          "output_type": "stream",
          "name": "stdout",
          "text": "DB_NAME: String = synsqlpoolsmapoc\n"
        }
      ],
      "metadata": {
        "jupyter": {
          "source_hidden": false,
          "outputs_hidden": false
        },
        "nteract": {
          "transient": {
            "deleting": false
          }
        }
      },
      "source": [
        "%run \"config\""
      ]
    },
    {
      "cell_type": "code",
      "execution_count": 67,
      "outputs": [
        {
          "output_type": "display_data",
          "data": {
            "application/vnd.livy.statement-meta+json": {
              "spark_pool": null,
              "session_id": 270,
              "statement_id": -1,
              "state": "finished",
              "livy_statement_state": "available",
              "queued_time": "2022-03-06T12:18:51.4403967Z",
              "session_start_time": null,
              "execution_start_time": "2022-03-06T12:19:02.5622259Z",
              "execution_finish_time": "2022-03-06T12:19:02.5625162Z"
            },
            "text/plain": "StatementMeta(, 270, -1, Finished, Available)"
          },
          "metadata": {}
        },
        {
          "output_type": "stream",
          "name": "stdout",
          "text": "DB_NAME: String = synsqlpoolsmapoc\n"
        }
      ],
      "metadata": {
        "jupyter": {
          "source_hidden": false,
          "outputs_hidden": false
        },
        "nteract": {
          "transient": {
            "deleting": false
          }
        }
      },
      "source": [
        "%run \"common\""
      ]
    },
    {
      "cell_type": "code",
      "execution_count": 68,
      "outputs": [
        {
          "output_type": "display_data",
          "data": {
            "application/vnd.livy.statement-meta+json": {
              "spark_pool": "smasparkpool",
              "session_id": 270,
              "statement_id": 62,
              "state": "finished",
              "livy_statement_state": "available",
              "queued_time": "2022-03-06T12:18:51.5189644Z",
              "session_start_time": null,
              "execution_start_time": "2022-03-06T12:19:02.9509617Z",
              "execution_finish_time": "2022-03-06T12:19:03.3740593Z"
            },
            "text/plain": "StatementMeta(smasparkpool, 270, 62, Finished, Available)"
          },
          "metadata": {}
        }
      ],
      "metadata": {
        "jupyter": {
          "source_hidden": false,
          "outputs_hidden": false
        },
        "nteract": {
          "transient": {
            "deleting": false
          }
        }
      },
      "source": [
        "client = CosmosClient(COSMOS_URL, {'masterKey': COSMOS_KEY})\r\n",
        "database = client.get_database_client(COSMOS_DATABASE_NAME)\r\n",
        "rss_container_client = database.get_container_client(container=COSMOS_RSS_FEEDS_CONTAINER_NAME)\r\n",
        ""
      ]
    },
    {
      "cell_type": "code",
      "execution_count": 69,
      "outputs": [
        {
          "output_type": "display_data",
          "data": {
            "application/vnd.livy.statement-meta+json": {
              "spark_pool": "smasparkpool",
              "session_id": 270,
              "statement_id": 63,
              "state": "finished",
              "livy_statement_state": "available",
              "queued_time": "2022-03-06T12:18:51.8688755Z",
              "session_start_time": null,
              "execution_start_time": "2022-03-06T12:19:03.757395Z",
              "execution_finish_time": "2022-03-06T12:19:03.7577898Z"
            },
            "text/plain": "StatementMeta(smasparkpool, 270, 63, Finished, Available)"
          },
          "metadata": {}
        }
      ],
      "metadata": {
        "jupyter": {
          "source_hidden": false,
          "outputs_hidden": false
        },
        "nteract": {
          "transient": {
            "deleting": false
          }
        }
      },
      "source": [
        "def get_translation(inp_text, to_languages):\r\n",
        "    \"\"\"\r\n",
        "    Params:\r\n",
        "    inp_text: text to be translated\r\n",
        "    to_languages: list of languages to translate to\r\n",
        "    Returns: {lang_code: translation}, language code of the original text\r\n",
        "    Call to translator cognitive service detects language and translates to the target languages. \r\n",
        "    Result is a dictionary of language codes to translated text, along with the language detected.\r\n",
        "    \"\"\"\r\n",
        "    # Translator setup\r\n",
        "    translator_path = \"/translate\"\r\n",
        "    translator_url = TRANSLATOR_ENDPOINT + translator_path\r\n",
        "    params = {\r\n",
        "    \"api-version\": \"3.0\",\r\n",
        "    \"to\": to_languages\r\n",
        "    }\r\n",
        "    headers = {\r\n",
        "    'Ocp-Apim-Subscription-Key': TRANSLATOR_KEY,\r\n",
        "    'Ocp-Apim-Subscription-Region': TRANSLATOR_REGION,\r\n",
        "    'Content-type': 'application/json',\r\n",
        "    'X-ClientTraceId': str(uuid.uuid4())\r\n",
        "    }\r\n",
        "    # create and send request\r\n",
        "    body = [{\r\n",
        "    'text': inp_text\r\n",
        "    }]\r\n",
        "    request = requests.post(translator_url, params=params, headers=headers, json=body)\r\n",
        "    response = request.json()\r\n",
        "    # only ever one string sent for translation, so only list of length 1\r\n",
        "    try:\r\n",
        "        from_language = response[0][\"detectedLanguage\"][\"language\"]\r\n",
        "        translations = response[0][\"translations\"]\r\n",
        "        res = {} # dict with language as key and translated text as value e.g. {\"ar\": \"arabic text\"}\r\n",
        "        for trans in translations:\r\n",
        "            res[trans['to']] = trans['text']\r\n",
        "        res[from_language] = inp_text # also include the original text and language in translations - overkill?\r\n",
        "        return res, from_language # return the translated text, as well as the language it was translated from\r\n",
        "    except Exception as err:\r\n",
        "        print(\"Encountered an exception. {}\".format(err))\r\n",
        "        return err\r\n",
        ""
      ]
    },
    {
      "cell_type": "code",
      "execution_count": 70,
      "outputs": [
        {
          "output_type": "display_data",
          "data": {
            "application/vnd.livy.statement-meta+json": {
              "spark_pool": "smasparkpool",
              "session_id": 270,
              "statement_id": 64,
              "state": "finished",
              "livy_statement_state": "available",
              "queued_time": "2022-03-06T12:18:51.9517387Z",
              "session_start_time": null,
              "execution_start_time": "2022-03-06T12:19:04.1356488Z",
              "execution_finish_time": "2022-03-06T12:19:04.5671707Z"
            },
            "text/plain": "StatementMeta(smasparkpool, 270, 64, Finished, Available)"
          },
          "metadata": {}
        }
      ],
      "metadata": {
        "jupyter": {
          "source_hidden": false,
          "outputs_hidden": false
        },
        "nteract": {
          "transient": {
            "deleting": false
          }
        }
      },
      "source": [
        "def authenticate_client():\r\n",
        "    \"\"\"\r\n",
        "    Returns: text analytics client\r\n",
        "    \"\"\"\r\n",
        "    ta_credential = AzureKeyCredential(TEXT_ANALYTICS_KEY)\r\n",
        "    text_analytics_client = TextAnalyticsClient(\r\n",
        "            endpoint=TEXT_ANALYTICS_ENDPOINT, \r\n",
        "            credential=ta_credential)\r\n",
        "    return text_analytics_client\r\n",
        "text_analytics_client = authenticate_client()\r\n",
        "\r\n",
        "def get_sentiment(inp_text):\r\n",
        "    #Parameters: \r\n",
        "    #  inp_text: text to analyze\r\n",
        "    #Returns:\r\n",
        "    #  sentiment, sentiment score\r\n",
        "    documents = [inp_text]\r\n",
        "    response = text_analytics_client.analyze_sentiment(documents = documents)[0]  \r\n",
        "    overallscore = response.confidence_scores.positive + (0.5*response.confidence_scores.neutral) # check logic of this\r\n",
        "    return response.sentiment, overallscore\r\n",
        "\r\n",
        "def get_ner(inp_text):\r\n",
        "    #Parameters: \r\n",
        "    #  inp_text: text to analyze\r\n",
        "    #Returns:\r\n",
        "    #  NER Results as a list of dictionaries with keys: text, category, subcategory, length, offset, confidence\r\n",
        "    try:\r\n",
        "        documents = [inp_text]\r\n",
        "        result = text_analytics_client.recognize_entities(documents = documents)[0]  \r\n",
        "        return [{\"text\": x.text, \"category\": x.category, \"subcategory\": x.subcategory, \"length\": x.length, \"offset\": x.offset, \"confidence_score\": x.confidence_score} for x in result.entities]\r\n",
        "    except Exception as err:\r\n",
        "        print(\"Encountered exception. {}\".format(err))\r\n",
        "        return []\r\n",
        ""
      ]
    },
    {
      "cell_type": "code",
      "execution_count": 71,
      "outputs": [
        {
          "output_type": "display_data",
          "data": {
            "application/vnd.livy.statement-meta+json": {
              "spark_pool": "smasparkpool",
              "session_id": 270,
              "statement_id": 65,
              "state": "finished",
              "livy_statement_state": "available",
              "queued_time": "2022-03-06T12:18:52.0413642Z",
              "session_start_time": null,
              "execution_start_time": "2022-03-06T12:19:04.9457027Z",
              "execution_finish_time": "2022-03-06T12:19:05.3697757Z"
            },
            "text/plain": "StatementMeta(smasparkpool, 270, 65, Finished, Available)"
          },
          "metadata": {}
        }
      ],
      "metadata": {
        "jupyter": {
          "source_hidden": false,
          "outputs_hidden": false
        },
        "nteract": {
          "transient": {
            "deleting": false
          }
        }
      },
      "source": [
        "def is_new_entry(id_str, container):\r\n",
        "    # check if this has already been added to cosmos - if yes don't re-process\r\n",
        "    search_query = 'select * from items where items.id=\"{0}\"'.format(id_str)\r\n",
        "    items = list(container.query_items(search_query,enable_cross_partition_query=True))\r\n",
        "    if len(items) > 0:\r\n",
        "        return False\r\n",
        "    return True"
      ]
    },
    {
      "cell_type": "code",
      "execution_count": 72,
      "outputs": [
        {
          "output_type": "display_data",
          "data": {
            "application/vnd.livy.statement-meta+json": {
              "spark_pool": "smasparkpool",
              "session_id": 270,
              "statement_id": 66,
              "state": "finished",
              "livy_statement_state": "available",
              "queued_time": "2022-03-06T12:18:52.123422Z",
              "session_start_time": null,
              "execution_start_time": "2022-03-06T12:19:05.7639006Z",
              "execution_finish_time": "2022-03-06T12:19:05.7643757Z"
            },
            "text/plain": "StatementMeta(smasparkpool, 270, 66, Finished, Available)"
          },
          "metadata": {}
        }
      ],
      "metadata": {
        "jupyter": {
          "source_hidden": false,
          "outputs_hidden": false
        },
        "nteract": {
          "transient": {
            "deleting": false
          }
        }
      },
      "source": [
        "def process_title(title, target_languages):\r\n",
        "    # translate\r\n",
        "    translated, detected_lang = get_translation(title, target_languages)  \r\n",
        "    return translated"
      ]
    },
    {
      "cell_type": "code",
      "execution_count": 73,
      "outputs": [
        {
          "output_type": "display_data",
          "data": {
            "application/vnd.livy.statement-meta+json": {
              "spark_pool": "smasparkpool",
              "session_id": 270,
              "statement_id": 67,
              "state": "finished",
              "livy_statement_state": "available",
              "queued_time": "2022-03-06T12:18:52.2035894Z",
              "session_start_time": null,
              "execution_start_time": "2022-03-06T12:19:06.1429738Z",
              "execution_finish_time": "2022-03-06T12:19:06.6943334Z"
            },
            "text/plain": "StatementMeta(smasparkpool, 270, 67, Finished, Available)"
          },
          "metadata": {}
        }
      ],
      "metadata": {
        "jupyter": {
          "source_hidden": false,
          "outputs_hidden": false
        },
        "nteract": {
          "transient": {
            "deleting": false
          }
        }
      },
      "source": [
        "def process_summary(summary, target_languages):\r\n",
        "    # translate\r\n",
        "    translated, detected_lang = get_translation(summary, target_languages)\r\n",
        "    \r\n",
        "    # ner\r\n",
        "    if detected_lang != \"en\":\r\n",
        "        named_entities = get_ner(translated[\"en\"])\r\n",
        "        named_entity_obj = {\"en\": named_entities}\r\n",
        "        org_language_entities = []\r\n",
        "        for ent in named_entities:\r\n",
        "            org_language_ent = copy.deepcopy(ent)\r\n",
        "            org_language_ent[\"text\"] = get_translation(ent[\"text\"], detected_lang)[0][detected_lang] # entity in the original language\r\n",
        "            org_language_entities.append(org_language_ent)\r\n",
        "        named_entity_obj[detected_lang] = org_language_entities\r\n",
        "    else:\r\n",
        "        named_entities = get_ner(summary) # list of objects where each object corresponds to an entity\r\n",
        "        named_entity_obj = {\"en\": named_entities}\r\n",
        "        \r\n",
        "    for language in target_languages:\r\n",
        "        if language != \"en\":\r\n",
        "            tmp_entities = []\r\n",
        "            for ent in named_entities:\r\n",
        "                tmp_ = copy.deepcopy(ent)\r\n",
        "                tmp_[\"text\"] = get_translation(ent[\"text\"],language)[0][language]\r\n",
        "                tmp_entities.append(tmp_)\r\n",
        "            named_entity_obj[language]=tmp_entities\r\n",
        "\r\n",
        "    # sentiment\r\n",
        "    sentiment, score = get_sentiment(summary)\r\n",
        "    return translated, named_entity_obj, sentiment, score\r\n",
        "    "
      ]
    },
    {
      "cell_type": "code",
      "execution_count": 74,
      "outputs": [
        {
          "output_type": "display_data",
          "data": {
            "application/vnd.livy.statement-meta+json": {
              "spark_pool": "smasparkpool",
              "session_id": 270,
              "statement_id": 68,
              "state": "finished",
              "livy_statement_state": "available",
              "queued_time": "2022-03-06T12:18:52.2880092Z",
              "session_start_time": null,
              "execution_start_time": "2022-03-06T12:19:07.1786967Z",
              "execution_finish_time": "2022-03-06T12:19:07.6374231Z"
            },
            "text/plain": "StatementMeta(smasparkpool, 270, 68, Finished, Available)"
          },
          "metadata": {}
        }
      ],
      "metadata": {
        "jupyter": {
          "source_hidden": false,
          "outputs_hidden": false
        },
        "nteract": {
          "transient": {
            "deleting": false
          }
        }
      },
      "source": [
        "def contains_keywords(text, query_optional, query_required):\r\n",
        "    text = text.lower()\r\n",
        "\r\n",
        "    required_keywords = query_required.split(\"AND\")\r\n",
        "    \r\n",
        "    required_flag = True\r\n",
        "    for keyword in required_keywords:\r\n",
        "        if not(keyword.lower() in text):\r\n",
        "            return False # no required words present\r\n",
        "\r\n",
        "    # check optional words only if required ones present (or empty)\r\n",
        "    optional_flag = False\r\n",
        "    optional_keywords = query_optional.split(\"OR\")\r\n",
        "    for keyword in optional_keywords:\r\n",
        "        if keyword.lower() in text: \r\n",
        "            return True # required words there (or empty) and some optional words\r\n",
        "    \r\n",
        "    # required words there but no optional words\r\n",
        "    \r\n",
        "    return (required_flag or optional_flag)"
      ]
    },
    {
      "cell_type": "code",
      "execution_count": 75,
      "outputs": [
        {
          "output_type": "display_data",
          "data": {
            "application/vnd.livy.statement-meta+json": {
              "spark_pool": "smasparkpool",
              "session_id": 270,
              "statement_id": 69,
              "state": "finished",
              "livy_statement_state": "available",
              "queued_time": "2022-03-06T12:18:52.3914473Z",
              "session_start_time": null,
              "execution_start_time": "2022-03-06T12:19:08.1094473Z",
              "execution_finish_time": "2022-03-06T12:19:08.5328553Z"
            },
            "text/plain": "StatementMeta(smasparkpool, 270, 69, Finished, Available)"
          },
          "metadata": {}
        }
      ],
      "metadata": {
        "jupyter": {
          "source_hidden": false,
          "outputs_hidden": false
        },
        "nteract": {
          "transient": {
            "deleting": false
          }
        }
      },
      "source": [
        "def process_feed(news_feed, container, target_languages, query_optional, query_required, topic, subtopic):\r\n",
        "    rss_fields = ['link', 'title', 'summary', 'published_parsed', 'img']\r\n",
        "    res = []\r\n",
        "    feed_name = news_feed.feed.title\r\n",
        "\r\n",
        "    for entry in news_feed.entries:\r\n",
        "        \r\n",
        "        id_str = str(hash(news_feed.feed.title + entry[\"title\"])) # unique identifier for cosmos db\r\n",
        "        \r\n",
        "        if is_new_entry(id_str, container):\r\n",
        "            # process this news feed only if not processed before\r\n",
        "\r\n",
        "            article_json = {}\r\n",
        "            article_json['news_feed'] = feed_name\r\n",
        "            article_json['id'] = id_str\r\n",
        "\r\n",
        "            current_timestamp = datetime.now() # time inserted to cosmos db, for change data capture \r\n",
        "            timestamp_int = int(time.mktime(current_timestamp.timetuple()))\r\n",
        "            timestamp_string = current_timestamp.strftime(\"%m/%d/%Y, %H:%M:%S %Z\")\r\n",
        "            article_json['inserted_to_CosmosDB_at'] = timestamp_string\r\n",
        "            article_json['inserted_to_CosmosDB_ts'] = timestamp_int\r\n",
        "            article_json['month_year'] = str(current_timestamp.month) + \"_\" + str(current_timestamp.year)\r\n",
        "\r\n",
        "            matched = False\r\n",
        "\r\n",
        "            for field in rss_fields:\r\n",
        "                value = entry.get(field, \"\")\r\n",
        "                \r\n",
        "                if field == 'title':\r\n",
        "                    processed_title = process_title(value, target_languages) # title translated to target languages\r\n",
        "                    article_json['title_translated'] = processed_title\r\n",
        "                    article_json['title'] = value\r\n",
        "                \r\n",
        "                elif field == 'summary':\r\n",
        "                    if value: \r\n",
        "                        if \"img alt\" in value: # elwatan summary seems to contain img tag in summary field \r\n",
        "                            value = value[value.find(\">\")+1:].lstrip(\"\\n\").lstrip() # extract summary\r\n",
        "                            print(value)\r\n",
        "                        processed_summary = process_summary(value, target_languages)                     \r\n",
        "                        translations, ner, sentiment, score = processed_summary\r\n",
        "                        article_json['summary'] = value\r\n",
        "                        article_json['summary_translations'] = translations\r\n",
        "                        article_json['summary_ner'] = ner\r\n",
        "                        article_json['sentiment'] = sentiment\r\n",
        "                        article_json['sentiment_score'] = score\r\n",
        "\r\n",
        "                        # check if had query match\r\n",
        "                        if contains_keywords(translations[\"en\"], query_optional, query_required): # always need the english translation. Searching for keywords in english only for now\r\n",
        "                            matched = True\r\n",
        "                    else: # no summary found\r\n",
        "                        article_json['summary'] = \"\"\r\n",
        "                        article_json['summary_translations'] = {k:\"\" for k in target_languages}\r\n",
        "                        article_json['summary_ner'] = {k:[] for k in target_languages}\r\n",
        "                        article_json['sentiment'] = \"\"\r\n",
        "                        article_json['sentiment_score'] = 0 \r\n",
        "                        matched = True\r\n",
        "                    # else: \r\n",
        "                    #     article_json[\"topic\"] = \"\"\r\n",
        "                    #     article_json[\"subtopic\"] = \"\"\r\n",
        "\r\n",
        "                elif field == \"published_parsed\":\r\n",
        "                    published_ts = int(time.mktime(value))\r\n",
        "                    article_json['published_ts'] = published_ts\r\n",
        "                    article_json['published_ts_str'] = (datetime.fromtimestamp(published_ts)).strftime(\"%m/%d/%Y, %H:%M:%S %Z\")\r\n",
        "                \r\n",
        "                elif field == \"img\":\r\n",
        "                    if value != \"\":\r\n",
        "                        article_json[\"img\"] = value[\"src\"] # the dict also contains the alt text - ideally should store that too, in all the target languages\r\n",
        "                        print(value[\"src\"])\r\n",
        "                    else:\r\n",
        "                        article_json[\"img\"] = \"\"\r\n",
        "                else:\r\n",
        "                    article_json[field] = value\r\n",
        "\r\n",
        "            if matched:\r\n",
        "                # assign topic/subtopic\r\n",
        "                article_json[\"topic\"] = topic\r\n",
        "                article_json[\"subtopic\"] = subtopic    \r\n",
        "                \r\n",
        "                res.append(article_json)\r\n",
        "        \r\n",
        "    return res\r\n",
        ""
      ]
    },
    {
      "cell_type": "code",
      "execution_count": 76,
      "outputs": [
        {
          "output_type": "display_data",
          "data": {
            "application/vnd.livy.statement-meta+json": {
              "spark_pool": "smasparkpool",
              "session_id": 270,
              "statement_id": 70,
              "state": "finished",
              "livy_statement_state": "available",
              "queued_time": "2022-03-06T12:18:52.5034028Z",
              "session_start_time": null,
              "execution_start_time": "2022-03-06T12:19:08.9737755Z",
              "execution_finish_time": "2022-03-06T12:19:09.5288393Z"
            },
            "text/plain": "StatementMeta(smasparkpool, 270, 70, Finished, Available)"
          },
          "metadata": {}
        }
      ],
      "metadata": {
        "jupyter": {
          "source_hidden": false,
          "outputs_hidden": false
        },
        "nteract": {
          "transient": {
            "deleting": false
          }
        }
      },
      "source": [
        "def update_cosmos(objects, container): # insert to cosmos\r\n",
        "    for obj in objects:\r\n",
        "        try:\r\n",
        "            response = container.upsert_item(body=obj) # use upsert so that insert or update\r\n",
        "            print(\"Inserted to cosmos\")\r\n",
        "        except: \r\n",
        "            print(\"Unable to insert\")"
      ]
    },
    {
      "cell_type": "code",
      "execution_count": 77,
      "outputs": [
        {
          "output_type": "display_data",
          "data": {
            "application/vnd.livy.statement-meta+json": {
              "spark_pool": "smasparkpool",
              "session_id": 270,
              "statement_id": 71,
              "state": "finished",
              "livy_statement_state": "available",
              "queued_time": "2022-03-06T12:18:52.6677129Z",
              "session_start_time": null,
              "execution_start_time": "2022-03-06T12:19:09.9055325Z",
              "execution_finish_time": "2022-03-06T12:19:28.2960121Z"
            },
            "text/plain": "StatementMeta(smasparkpool, 270, 71, Finished, Available)"
          },
          "metadata": {}
        }
      ],
      "metadata": {
        "jupyter": {
          "source_hidden": false,
          "outputs_hidden": false
        },
        "nteract": {
          "transient": {
            "deleting": false
          }
        }
      },
      "source": [
        "news_feed = feedparser.parse(feed_source)\r\n",
        "res = process_feed(news_feed, rss_container_client, target_languages, query_optional, query_required, topic, subtopic)"
      ]
    },
    {
      "cell_type": "code",
      "execution_count": 78,
      "outputs": [
        {
          "output_type": "display_data",
          "data": {
            "application/vnd.livy.statement-meta+json": {
              "spark_pool": "smasparkpool",
              "session_id": 270,
              "statement_id": 72,
              "state": "finished",
              "livy_statement_state": "available",
              "queued_time": "2022-03-06T12:18:52.8648056Z",
              "session_start_time": null,
              "execution_start_time": "2022-03-06T12:19:28.7587066Z",
              "execution_finish_time": "2022-03-06T12:19:29.262513Z"
            },
            "text/plain": "StatementMeta(smasparkpool, 270, 72, Finished, Available)"
          },
          "metadata": {}
        },
        {
          "output_type": "display_data",
          "data": {
            "text/plain": "[{'news_feed': 'Singletons',\n  'id': '-7203713814219220244',\n  'inserted_to_CosmosDB_at': '03/06/2022, 12:19:10 ',\n  'inserted_to_CosmosDB_ts': 1646569150,\n  'month_year': '3_2022',\n  'link': 'https://www.psychologytoday.com/us/blog/singletons/202201/rethinking-football-beautiful-life-until-it-wasnt',\n  'title_translated': {'en': \"Rethinking Football: 'A Beautiful Life, Until It Wasn't'\",\n   'ar': 'إعادة التفكير في كرة القدم: \"حياة جميلة، حتى لم تكن كذلك\"'},\n  'title': \"Rethinking Football: 'A Beautiful Life, Until It Wasn't'\",\n  'summary': 'Heading toward the Super Bowl, Kelsey Chittick understands the obsession with football. But after what happened to her husband, would her high school age son play?',\n  'summary_translations': {'en': 'Heading toward the Super Bowl, Kelsey Chittick understands the obsession with football. But after what happened to her husband, would her high school age son play?',\n   'ar': 'تتجه كيلسي شيتيك نحو السوبر بول، وتدرك الهوس بكرة القدم. ولكن بعد ما حدث لزوجها، هل سيلعب ابنها في سن المدرسة الثانوية؟'},\n  'summary_ner': {'en': [{'text': 'Super Bowl',\n     'category': 'Event',\n     'subcategory': None,\n     'length': 10,\n     'offset': 19,\n     'confidence_score': 0.99},\n    {'text': 'Kelsey Chittick',\n     'category': 'Person',\n     'subcategory': None,\n     'length': 15,\n     'offset': 31,\n     'confidence_score': 1.0},\n    {'text': 'football',\n     'category': 'Skill',\n     'subcategory': None,\n     'length': 8,\n     'offset': 78,\n     'confidence_score': 0.92},\n    {'text': 'husband',\n     'category': 'PersonType',\n     'subcategory': None,\n     'length': 7,\n     'offset': 119,\n     'confidence_score': 1.0},\n    {'text': 'age',\n     'category': 'Quantity',\n     'subcategory': 'Age',\n     'length': 3,\n     'offset': 150,\n     'confidence_score': 0.8},\n    {'text': 'son',\n     'category': 'PersonType',\n     'subcategory': None,\n     'length': 3,\n     'offset': 154,\n     'confidence_score': 0.96}],\n   'ar': [{'text': 'سوبر بول',\n     'category': 'Event',\n     'subcategory': None,\n     'length': 10,\n     'offset': 19,\n     'confidence_score': 0.99},\n    {'text': 'كيلسي شيتيك',\n     'category': 'Person',\n     'subcategory': None,\n     'length': 15,\n     'offset': 31,\n     'confidence_score': 1.0},\n    {'text': 'كرة القدم',\n     'category': 'Skill',\n     'subcategory': None,\n     'length': 8,\n     'offset': 78,\n     'confidence_score': 0.92},\n    {'text': 'زوج',\n     'category': 'PersonType',\n     'subcategory': None,\n     'length': 7,\n     'offset': 119,\n     'confidence_score': 1.0},\n    {'text': 'عمر',\n     'category': 'Quantity',\n     'subcategory': 'Age',\n     'length': 3,\n     'offset': 150,\n     'confidence_score': 0.8},\n    {'text': 'صوت',\n     'category': 'PersonType',\n     'subcategory': None,\n     'length': 3,\n     'offset': 154,\n     'confidence_score': 0.96}]},\n  'sentiment': 'negative',\n  'sentiment_score': 0.17,\n  'published_ts': 1643143011,\n  'published_ts_str': '01/25/2022, 20:36:51 ',\n  'img': '',\n  'topic': 'Parenting',\n  'subtopic': ''},\n {'news_feed': 'Singletons',\n  'id': '2989452042540990302',\n  'inserted_to_CosmosDB_at': '03/06/2022, 12:19:10 ',\n  'inserted_to_CosmosDB_ts': 1646569150,\n  'month_year': '3_2022',\n  'link': 'https://www.psychologytoday.com/us/blog/singletons/202201/pandemic-babies-who-became-pregnant-and-who-stopped-trying',\n  'title_translated': {'en': 'Pandemic Babies: Who Became Pregnant and Who Stopped Trying',\n   'ar': 'الأطفال الوبائيون: من أصبحوا حوامل والذين توقفوا عن المحاولة'},\n  'title': 'Pandemic Babies: Who Became Pregnant and Who Stopped Trying',\n  'summary': \"The pandemic changed pregnancy intentions. Many are rethinking plans to start a family or to have more children.\\xa0Others forged ahead. Here's why.\",\n  'summary_translations': {'en': \"The pandemic changed pregnancy intentions. Many are rethinking plans to start a family or to have more children.\\xa0Others forged ahead. Here's why.\",\n   'ar': 'غير الوباء نوايا الحمل. يعيد الكثيرون التفكير في خطط لإنشاء أسرة أو إنجاب المزيد من الأطفال.\\xa0ومضى آخرون قدما. إليك السبب.'},\n  'summary_ner': {'en': [{'text': 'pandemic',\n     'category': 'Event',\n     'subcategory': None,\n     'length': 8,\n     'offset': 4,\n     'confidence_score': 0.83}],\n   'ar': [{'text': 'جائحة',\n     'category': 'Event',\n     'subcategory': None,\n     'length': 8,\n     'offset': 4,\n     'confidence_score': 0.83}]},\n  'sentiment': 'negative',\n  'sentiment_score': 0.095,\n  'published_ts': 1642091440,\n  'published_ts_str': '01/13/2022, 16:30:40 ',\n  'img': '',\n  'topic': 'Parenting',\n  'subtopic': ''},\n {'news_feed': 'Singletons',\n  'id': '4744718261579116032',\n  'inserted_to_CosmosDB_at': '03/06/2022, 12:19:11 ',\n  'inserted_to_CosmosDB_ts': 1646569151,\n  'month_year': '3_2022',\n  'link': 'https://www.psychologytoday.com/us/blog/singletons/202112/4-outside-factors-influence-your-most-important-choices',\n  'title_translated': {'en': '4 Outside Factors That Influence Your Most Important Choices',\n   'ar': '4 عوامل خارجية تؤثر على أهم اختياراتك'},\n  'title': '4 Outside Factors That Influence Your Most Important Choices',\n  'summary': 'When it comes to making big decisions, certain “decision drivers” affect your thinking, whether or not you recognize or acknowledge them.',\n  'summary_translations': {'en': 'When it comes to making big decisions, certain “decision drivers” affect your thinking, whether or not you recognize or acknowledge them.',\n   'ar': 'عندما يتعلق الأمر باتخاذ قرارات كبيرة ، تؤثر بعض \"محركات القرار\" على تفكيرك ، سواء كنت تعترف بها أو تعترف بها أم لا.'},\n  'summary_ner': {'en': [], 'ar': []},\n  'sentiment': 'neutral',\n  'sentiment_score': 0.465,\n  'published_ts': 1638388989,\n  'published_ts_str': '12/01/2021, 20:03:09 ',\n  'img': '',\n  'topic': 'Parenting',\n  'subtopic': ''},\n {'news_feed': 'Singletons',\n  'id': '-3128135343510307307',\n  'inserted_to_CosmosDB_at': '03/06/2022, 12:19:11 ',\n  'inserted_to_CosmosDB_ts': 1646569151,\n  'month_year': '3_2022',\n  'link': 'https://www.psychologytoday.com/us/blog/singletons/202111/am-i-becoming-my-mother',\n  'title_translated': {'en': 'Am I Becoming My Mother?',\n   'ar': 'هل أصبحت أمي؟'},\n  'title': 'Am I Becoming My Mother?',\n  'summary': 'The apple doesn’t fall far from the family tree. Why yours didn’t fall as far as you may think it did.',\n  'summary_translations': {'en': 'The apple doesn’t fall far from the family tree. Why yours didn’t fall as far as you may think it did.',\n   'ar': 'التفاحة لا تسقط بعيدا عن شجرة العائلة. لماذا لم يسقط لك بقدر ما قد تعتقد أنه فعل.'},\n  'summary_ner': {'en': [{'text': 'apple',\n     'category': 'Product',\n     'subcategory': None,\n     'length': 5,\n     'offset': 4,\n     'confidence_score': 0.87},\n    {'text': 'fall',\n     'category': 'DateTime',\n     'subcategory': 'DateRange',\n     'length': 4,\n     'offset': 18,\n     'confidence_score': 0.8},\n    {'text': 'fall',\n     'category': 'DateTime',\n     'subcategory': 'DateRange',\n     'length': 4,\n     'offset': 66,\n     'confidence_score': 0.8}],\n   'ar': [{'text': 'تفاح',\n     'category': 'Product',\n     'subcategory': None,\n     'length': 5,\n     'offset': 4,\n     'confidence_score': 0.87},\n    {'text': 'خريف',\n     'category': 'DateTime',\n     'subcategory': 'DateRange',\n     'length': 4,\n     'offset': 18,\n     'confidence_score': 0.8},\n    {'text': 'خريف',\n     'category': 'DateTime',\n     'subcategory': 'DateRange',\n     'length': 4,\n     'offset': 66,\n     'confidence_score': 0.8}]},\n  'sentiment': 'neutral',\n  'sentiment_score': 0.46,\n  'published_ts': 1637081014,\n  'published_ts_str': '11/16/2021, 16:43:34 ',\n  'img': '',\n  'topic': 'Parenting',\n  'subtopic': ''},\n {'news_feed': 'Singletons',\n  'id': '-6396559036090918078',\n  'inserted_to_CosmosDB_at': '03/06/2022, 12:19:12 ',\n  'inserted_to_CosmosDB_ts': 1646569152,\n  'month_year': '3_2022',\n  'link': 'https://www.psychologytoday.com/us/blog/singletons/202110/climate-change-has-many-rethinking-having-babies',\n  'title_translated': {'en': 'Climate Change Has Many Rethinking Having Babies',\n   'ar': 'تغير المناخ لديه العديد من إعادة التفكير في إنجاب الأطفال'},\n  'title': 'Climate Change Has Many Rethinking Having Babies',\n  'summary': 'Climate change’s impact on childbearing decisions is much greater than you might think.',\n  'summary_translations': {'en': 'Climate change’s impact on childbearing decisions is much greater than you might think.',\n   'ar': 'تأثير تغير المناخ على قرارات الإنجاب أكبر بكثير مما تعتقد.'},\n  'summary_ner': {'en': [{'text': 'Climate change',\n     'category': 'Event',\n     'subcategory': None,\n     'length': 14,\n     'offset': 0,\n     'confidence_score': 0.73}],\n   'ar': [{'text': 'تغير المناخ',\n     'category': 'Event',\n     'subcategory': None,\n     'length': 14,\n     'offset': 0,\n     'confidence_score': 0.73}]},\n  'sentiment': 'neutral',\n  'sentiment_score': 0.59,\n  'published_ts': 1635521690,\n  'published_ts_str': '10/29/2021, 15:34:50 ',\n  'img': '',\n  'topic': 'Parenting',\n  'subtopic': ''},\n {'news_feed': 'Singletons',\n  'id': '-8550662775130876680',\n  'inserted_to_CosmosDB_at': '03/06/2022, 12:19:12 ',\n  'inserted_to_CosmosDB_ts': 1646569152,\n  'month_year': '3_2022',\n  'link': 'https://www.psychologytoday.com/us/blog/singletons/202110/helicopter-parenting-takes-backseat-jiwa-parenting',\n  'title_translated': {'en': 'Helicopter Parenting Takes a Backseat to Jiwa Parenting',\n   'ar': 'الأبوة والأمومة هليكوبتر يأخذ المقعد الخلفي إلى جيوا الأبوة والأمومة'},\n  'title': 'Helicopter Parenting Takes a Backseat to Jiwa Parenting',\n  'summary': 'This emerging approach can drive parents’ anxiety through the roof, and it’s expensive as well.',\n  'summary_translations': {'en': 'This emerging approach can drive parents’ anxiety through the roof, and it’s expensive as well.',\n   'ar': 'هذا النهج الناشئ يمكن أن يدفع قلق الآباء من خلال السقف ، وهو مكلف أيضا.'},\n  'summary_ner': {'en': [{'text': 'parents',\n     'category': 'PersonType',\n     'subcategory': None,\n     'length': 7,\n     'offset': 33,\n     'confidence_score': 0.97}],\n   'ar': [{'text': 'والدان',\n     'category': 'PersonType',\n     'subcategory': None,\n     'length': 7,\n     'offset': 33,\n     'confidence_score': 0.97}]},\n  'sentiment': 'negative',\n  'sentiment_score': 0.0,\n  'published_ts': 1633272966,\n  'published_ts_str': '10/03/2021, 14:56:06 ',\n  'img': '',\n  'topic': 'Parenting',\n  'subtopic': ''},\n {'news_feed': 'Singletons',\n  'id': '-8424639135098907045',\n  'inserted_to_CosmosDB_at': '03/06/2022, 12:19:13 ',\n  'inserted_to_CosmosDB_ts': 1646569153,\n  'month_year': '3_2022',\n  'link': 'https://www.psychologytoday.com/us/blog/singletons/202108/how-many-children-do-or-did-you-hope-have',\n  'title_translated': {'en': 'How Many Children Do or Did You Hope to Have?',\n   'ar': 'كم عدد الأطفال الذين تفعلهم أو هل كنت تأمل في إنجابهم؟'},\n  'title': 'How Many Children Do or Did You Hope to Have?',\n  'summary': 'While many still initially envision having multiple children, more parents than ever are choosing to embrace the one-child family.',\n  'summary_translations': {'en': 'While many still initially envision having multiple children, more parents than ever are choosing to embrace the one-child family.',\n   'ar': 'في حين أن الكثيرين ما زالوا يتصورون في البداية إنجاب أطفال متعددين ، فإن المزيد من الآباء يختارون أكثر من أي وقت مضى احتضان عائلة الطفل الواحد.'},\n  'summary_ner': {'en': [{'text': 'parents',\n     'category': 'PersonType',\n     'subcategory': None,\n     'length': 7,\n     'offset': 67,\n     'confidence_score': 0.97}],\n   'ar': [{'text': 'والدان',\n     'category': 'PersonType',\n     'subcategory': None,\n     'length': 7,\n     'offset': 67,\n     'confidence_score': 0.97}]},\n  'sentiment': 'neutral',\n  'sentiment_score': 0.445,\n  'published_ts': 1630345125,\n  'published_ts_str': '08/30/2021, 17:38:45 ',\n  'img': '',\n  'topic': 'Parenting',\n  'subtopic': ''},\n {'news_feed': 'Singletons',\n  'id': '2202774684430971809',\n  'inserted_to_CosmosDB_at': '03/06/2022, 12:19:13 ',\n  'inserted_to_CosmosDB_ts': 1646569153,\n  'month_year': '3_2022',\n  'link': 'https://www.psychologytoday.com/us/blog/singletons/202107/have-you-mastered-the-tricky-art-parental-pressure',\n  'title_translated': {'en': 'Have You Mastered the Tricky Art of Parental Pressure?',\n   'ar': 'هل أتقنت الفن الصعب للضغط الأبوي؟'},\n  'title': 'Have You Mastered the Tricky Art of Parental Pressure?',\n  'summary': 'Well-meaning parents put soul-crushing pressure on their children. Here are tools to change how you pressure your children.',\n  'summary_translations': {'en': 'Well-meaning parents put soul-crushing pressure on their children. Here are tools to change how you pressure your children.',\n   'ar': 'يضع الآباء ذوو النوايا الحسنة ضغطا ساحقا للروح على أطفالهم. فيما يلي أدوات لتغيير كيفية الضغط على أطفالك.'},\n  'summary_ner': {'en': [{'text': 'parents',\n     'category': 'PersonType',\n     'subcategory': None,\n     'length': 7,\n     'offset': 13,\n     'confidence_score': 0.97}],\n   'ar': [{'text': 'والدان',\n     'category': 'PersonType',\n     'subcategory': None,\n     'length': 7,\n     'offset': 13,\n     'confidence_score': 0.97}]},\n  'sentiment': 'positive',\n  'sentiment_score': 0.7200000000000001,\n  'published_ts': 1626815567,\n  'published_ts_str': '07/20/2021, 21:12:47 ',\n  'img': '',\n  'topic': 'Parenting',\n  'subtopic': ''},\n {'news_feed': 'Singletons',\n  'id': '-6316064893354084797',\n  'inserted_to_CosmosDB_at': '03/06/2022, 12:19:14 ',\n  'inserted_to_CosmosDB_ts': 1646569154,\n  'month_year': '3_2022',\n  'link': 'https://www.psychologytoday.com/us/blog/singletons/202105/only-one-the-pressure-is-parents-have-more-children',\n  'title_translated': {'en': 'Only One!? The Pressure Is off Parents to Have More Children',\n   'ar': 'واحد فقط!؟ الضغط يقع على عاتق الآباء لإنجاب المزيد من الأطفال'},\n  'title': 'Only One!? The Pressure Is off Parents to Have More Children',\n  'summary': 'Negative only-child stereotypes are a thing of the past and no longer play a dominant role in family planning decisions. What changed?',\n  'summary_translations': {'en': 'Negative only-child stereotypes are a thing of the past and no longer play a dominant role in family planning decisions. What changed?',\n   'ar': 'وأصبحت القوالب النمطية السلبية للطفل فقط شيئا من الماضي ولم تعد تلعب دورا مهيمنا في قرارات تنظيم الأسرة. ما الذي تغير؟'},\n  'summary_ner': {'en': [{'text': 'child',\n     'category': 'PersonType',\n     'subcategory': None,\n     'length': 5,\n     'offset': 14,\n     'confidence_score': 0.52},\n    {'text': 'family planning',\n     'category': 'Skill',\n     'subcategory': None,\n     'length': 15,\n     'offset': 94,\n     'confidence_score': 0.83}],\n   'ar': [{'text': 'طفل',\n     'category': 'PersonType',\n     'subcategory': None,\n     'length': 5,\n     'offset': 14,\n     'confidence_score': 0.52},\n    {'text': 'تنظيم الأسرة',\n     'category': 'Skill',\n     'subcategory': None,\n     'length': 15,\n     'offset': 94,\n     'confidence_score': 0.83}]},\n  'sentiment': 'negative',\n  'sentiment_score': 0.0,\n  'published_ts': 1620392241,\n  'published_ts_str': '05/07/2021, 12:57:21 ',\n  'img': '',\n  'topic': 'Parenting',\n  'subtopic': ''},\n {'news_feed': 'Singletons',\n  'id': '-8730505091007513050',\n  'inserted_to_CosmosDB_at': '03/06/2022, 12:19:15 ',\n  'inserted_to_CosmosDB_ts': 1646569155,\n  'month_year': '3_2022',\n  'link': 'https://www.psychologytoday.com/us/blog/singletons/202104/why-you-should-talk-strangers',\n  'title_translated': {'en': 'Why You Should Talk to Strangers',\n   'ar': 'لماذا يجب عليك التحدث إلى الغرباء'},\n  'title': 'Why You Should Talk to Strangers',\n  'summary': \"Gen Z and Millennials grew up being told, “Don’t talk to strangers.” Here's how we can start undoing the damage done by that message.\",\n  'summary_translations': {'en': \"Gen Z and Millennials grew up being told, “Don’t talk to strangers.” Here's how we can start undoing the damage done by that message.\",\n   'ar': 'نشأ الجيل Z وجيل الألفية وهم يقال لهم: \"لا تتحدث إلى الغرباء\". إليك كيف يمكننا البدء في التراجع عن الضرر الذي أحدثته هذه الرسالة.'},\n  'summary_ner': {'en': [{'text': 'Gen Z',\n     'category': 'PersonType',\n     'subcategory': None,\n     'length': 5,\n     'offset': 0,\n     'confidence_score': 0.6},\n    {'text': 'Millennials',\n     'category': 'PersonType',\n     'subcategory': None,\n     'length': 11,\n     'offset': 10,\n     'confidence_score': 0.93},\n    {'text': 'strangers',\n     'category': 'PersonType',\n     'subcategory': None,\n     'length': 9,\n     'offset': 57,\n     'confidence_score': 0.95}],\n   'ar': [{'text': 'الجيل Z',\n     'category': 'PersonType',\n     'subcategory': None,\n     'length': 5,\n     'offset': 0,\n     'confidence_score': 0.6},\n    {'text': 'جيل الألفية',\n     'category': 'PersonType',\n     'subcategory': None,\n     'length': 11,\n     'offset': 10,\n     'confidence_score': 0.93},\n    {'text': 'الغرباء',\n     'category': 'PersonType',\n     'subcategory': None,\n     'length': 9,\n     'offset': 57,\n     'confidence_score': 0.95}]},\n  'sentiment': 'negative',\n  'sentiment_score': 0.0,\n  'published_ts': 1617806675,\n  'published_ts_str': '04/07/2021, 14:44:35 ',\n  'img': '',\n  'topic': 'Parenting',\n  'subtopic': ''},\n {'news_feed': 'Singletons',\n  'id': '-4742227097649189896',\n  'inserted_to_CosmosDB_at': '03/06/2022, 12:19:15 ',\n  'inserted_to_CosmosDB_ts': 1646569155,\n  'month_year': '3_2022',\n  'link': 'https://www.psychologytoday.com/us/blog/singletons/202103/9-reasons-why-just-one-child-may-be-just-right-you',\n  'title_translated': {'en': '9 Reasons Why “Just One” Child May Be Just Right for You',\n   'ar': '9 أسباب تجعل الطفل \"الواحد فقط\" مناسبا لك'},\n  'title': '9 Reasons Why “Just One” Child May Be Just Right for You',\n  'summary': 'New predictions for fewer babies reflect pandemic fallout. Why else are we seeing more only children?',\n  'summary_translations': {'en': 'New predictions for fewer babies reflect pandemic fallout. Why else are we seeing more only children?',\n   'ar': 'وتعكس التنبؤات الجديدة لعدد أقل من الأطفال تداعيات الجائحة. وإلا لماذا نرى المزيد من الأطفال فقط؟'},\n  'summary_ner': {'en': [{'text': 'pandemic fallout',\n     'category': 'Event',\n     'subcategory': None,\n     'length': 16,\n     'offset': 41,\n     'confidence_score': 0.89}],\n   'ar': [{'text': 'تداعيات الجائحة',\n     'category': 'Event',\n     'subcategory': None,\n     'length': 16,\n     'offset': 41,\n     'confidence_score': 0.89}]},\n  'sentiment': 'neutral',\n  'sentiment_score': 0.405,\n  'published_ts': 1615391127,\n  'published_ts_str': '03/10/2021, 15:45:27 ',\n  'img': '',\n  'topic': 'Parenting',\n  'subtopic': ''},\n {'news_feed': 'Singletons',\n  'id': '7175899201447482397',\n  'inserted_to_CosmosDB_at': '03/06/2022, 12:19:16 ',\n  'inserted_to_CosmosDB_ts': 1646569156,\n  'month_year': '3_2022',\n  'link': 'https://www.psychologytoday.com/us/blog/singletons/202102/make-sure-your-child-is-bored',\n  'title_translated': {'en': 'Make Sure Your Child Is Bored',\n   'ar': 'تأكد من أن طفلك يشعر بالملل'},\n  'title': 'Make Sure Your Child Is Bored',\n  'summary': 'Steve Jobs and Lin-Manuel Miranda make a strong case for not worrying so much when your child says, “I have nothing to do.” Why being bored is a good thing and what it sparks.',\n  'summary_translations': {'en': 'Steve Jobs and Lin-Manuel Miranda make a strong case for not worrying so much when your child says, “I have nothing to do.” Why being bored is a good thing and what it sparks.',\n   'ar': 'يقدم ستيف جوبز ولين مانويل ميراندا حجة قوية لعدم القلق كثيرا عندما يقول طفلك: \"ليس لدي ما أفعله\". لماذا الملل هو شيء جيد وما يثيره.'},\n  'summary_ner': {'en': [{'text': 'Steve Jobs',\n     'category': 'Person',\n     'subcategory': None,\n     'length': 10,\n     'offset': 0,\n     'confidence_score': 1.0},\n    {'text': 'Lin-Manuel Miranda',\n     'category': 'Person',\n     'subcategory': None,\n     'length': 18,\n     'offset': 15,\n     'confidence_score': 1.0}],\n   'ar': [{'text': 'ستيف جوبز',\n     'category': 'Person',\n     'subcategory': None,\n     'length': 10,\n     'offset': 0,\n     'confidence_score': 1.0},\n    {'text': 'لين مانويل ميراندا',\n     'category': 'Person',\n     'subcategory': None,\n     'length': 18,\n     'offset': 15,\n     'confidence_score': 1.0}]},\n  'sentiment': 'positive',\n  'sentiment_score': 0.885,\n  'published_ts': 1614094249,\n  'published_ts_str': '02/23/2021, 15:30:49 ',\n  'img': '',\n  'topic': 'Parenting',\n  'subtopic': ''},\n {'news_feed': 'Singletons',\n  'id': '3963049092019443647',\n  'inserted_to_CosmosDB_at': '03/06/2022, 12:19:16 ',\n  'inserted_to_CosmosDB_ts': 1646569156,\n  'month_year': '3_2022',\n  'link': 'https://www.psychologytoday.com/us/blog/singletons/202102/the-missing-piece-the-forgiveness-puzzle',\n  'title_translated': {'en': 'The Missing Piece of the Forgiveness Puzzle',\n   'ar': 'القطعة المفقودة من لغز الغفران'},\n  'title': 'The Missing Piece of the Forgiveness Puzzle',\n  'summary': \"Should you forgive someone who hurt you without receiving an apology? If you are the one who should be saying you're sorry, is there a way to do it well?\",\n  'summary_translations': {'en': \"Should you forgive someone who hurt you without receiving an apology? If you are the one who should be saying you're sorry, is there a way to do it well?\",\n   'ar': 'هل يجب أن تغفر لشخص آذاك دون أن تتلقى اعتذارا؟ إذا كنت الشخص الذي يجب أن يقول أنك آسف ، فهل هناك طريقة للقيام بذلك بشكل جيد؟'},\n  'summary_ner': {'en': [], 'ar': []},\n  'sentiment': 'negative',\n  'sentiment_score': 0.01,\n  'published_ts': 1612881098,\n  'published_ts_str': '02/09/2021, 14:31:38 ',\n  'img': '',\n  'topic': 'Parenting',\n  'subtopic': ''},\n {'news_feed': 'Singletons',\n  'id': '6001415461938508468',\n  'inserted_to_CosmosDB_at': '03/06/2022, 12:19:17 ',\n  'inserted_to_CosmosDB_ts': 1646569157,\n  'month_year': '3_2022',\n  'link': 'https://www.psychologytoday.com/us/blog/singletons/202101/do-you-have-what-it-takes-be-single-parent',\n  'title_translated': {'en': 'Do You Have What It Takes to Be a Single Parent?',\n   'ar': 'هل لديك ما يلزم لتكون والدا وحيدا؟'},\n  'title': 'Do You Have What It Takes to Be a Single Parent?',\n  'summary': 'When you talk to single women who choose to be mothers, their desire, determination, and grit—no matter how daunting the obstacles—are clear.',\n  'summary_translations': {'en': 'When you talk to single women who choose to be mothers, their desire, determination, and grit—no matter how daunting the obstacles—are clear.',\n   'ar': 'عندما تتحدث إلى النساء العازبات اللواتي يخترن أن يكن أمهات ، فإن رغبتهن وتصميمهن وعزمهن - بغض النظر عن مدى صعوبة العقبات - واضحة.'},\n  'summary_ner': {'en': [{'text': 'mothers',\n     'category': 'PersonType',\n     'subcategory': None,\n     'length': 7,\n     'offset': 47,\n     'confidence_score': 0.98}],\n   'ar': [{'text': 'الامهات',\n     'category': 'PersonType',\n     'subcategory': None,\n     'length': 7,\n     'offset': 47,\n     'confidence_score': 0.98}]},\n  'sentiment': 'negative',\n  'sentiment_score': 0.425,\n  'published_ts': 1611852299,\n  'published_ts_str': '01/28/2021, 16:44:59 ',\n  'img': '',\n  'topic': 'Parenting',\n  'subtopic': ''},\n {'news_feed': 'Singletons',\n  'id': '5121304727730479832',\n  'inserted_to_CosmosDB_at': '03/06/2022, 12:19:17 ',\n  'inserted_to_CosmosDB_ts': 1646569157,\n  'month_year': '3_2022',\n  'link': 'https://www.psychologytoday.com/us/blog/singletons/202012/can-we-undo-gender-during-the-pandemic',\n  'title_translated': {'en': 'Can We “Undo Gender” During the Pandemic?',\n   'ar': 'هل يمكننا \"التراجع عن النوع الاجتماعي\" أثناء الوباء؟'},\n  'title': 'Can We “Undo Gender” During the Pandemic?',\n  'summary': 'When masculinity and femininity become irrelevant, you get gender equality. Twenty-five couples in 22 countries did it. Learn how.',\n  'summary_translations': {'en': 'When masculinity and femininity become irrelevant, you get gender equality. Twenty-five couples in 22 countries did it. Learn how.',\n   'ar': 'عندما تصبح الذكورة والأنوثة غير ذات صلة ، فإنك تحصل على المساواة بين الجنسين. خمسة وعشرون زوجا في 22 دولة فعلوا ذلك. تعرف على كيفية القيام بذلك.'},\n  'summary_ner': {'en': [{'text': 'Twenty-five',\n     'category': 'DateTime',\n     'subcategory': 'Time',\n     'length': 11,\n     'offset': 76,\n     'confidence_score': 0.8},\n    {'text': '22',\n     'category': 'Quantity',\n     'subcategory': 'Number',\n     'length': 2,\n     'offset': 99,\n     'confidence_score': 0.8}],\n   'ar': [{'text': 'خمسة وعشرون',\n     'category': 'DateTime',\n     'subcategory': 'Time',\n     'length': 11,\n     'offset': 76,\n     'confidence_score': 0.8},\n    {'text': '22',\n     'category': 'Quantity',\n     'subcategory': 'Number',\n     'length': 2,\n     'offset': 99,\n     'confidence_score': 0.8}]},\n  'sentiment': 'negative',\n  'sentiment_score': 0.095,\n  'published_ts': 1608135580,\n  'published_ts_str': '12/16/2020, 16:19:40 ',\n  'img': '',\n  'topic': 'Parenting',\n  'subtopic': ''},\n {'news_feed': 'Singletons',\n  'id': '-4003473709503611661',\n  'inserted_to_CosmosDB_at': '03/06/2022, 12:19:18 ',\n  'inserted_to_CosmosDB_ts': 1646569158,\n  'month_year': '3_2022',\n  'link': 'https://www.psychologytoday.com/us/blog/singletons/202010/oh-dad-poor-dad-what-do-about-skimpy-parental-leave',\n  'title_translated': {'en': 'Oh, Dad, Poor Dad! What to Do About Skimpy Parental Leave?',\n   'ar': 'أوه ، أبي ، أبي المسكين! ماذا تفعل بشأن الإجازة الوالدية البخيلة؟'},\n  'title': 'Oh, Dad, Poor Dad! What to Do About Skimpy Parental Leave?',\n  'summary': 'Here’s why not only working mothers, but also fathers need more time off to care for their newborn children.',\n  'summary_translations': {'en': 'Here’s why not only working mothers, but also fathers need more time off to care for their newborn children.',\n   'ar': 'إليك السبب في أنه ليس فقط الأمهات العاملات ، ولكن أيضا الآباء يحتاجون إلى مزيد من الوقت لرعاية أطفالهم حديثي الولادة.'},\n  'summary_ner': {'en': [{'text': 'mothers',\n     'category': 'PersonType',\n     'subcategory': None,\n     'length': 7,\n     'offset': 28,\n     'confidence_score': 0.94},\n    {'text': 'fathers',\n     'category': 'PersonType',\n     'subcategory': None,\n     'length': 7,\n     'offset': 46,\n     'confidence_score': 0.99},\n    {'text': 'newborn',\n     'category': 'PersonType',\n     'subcategory': None,\n     'length': 7,\n     'offset': 91,\n     'confidence_score': 0.58}],\n   'ar': [{'text': 'الامهات',\n     'category': 'PersonType',\n     'subcategory': None,\n     'length': 7,\n     'offset': 28,\n     'confidence_score': 0.94},\n    {'text': 'آباء',\n     'category': 'PersonType',\n     'subcategory': None,\n     'length': 7,\n     'offset': 46,\n     'confidence_score': 0.99},\n    {'text': 'المولود الجديد',\n     'category': 'PersonType',\n     'subcategory': None,\n     'length': 7,\n     'offset': 91,\n     'confidence_score': 0.58}]},\n  'sentiment': 'positive',\n  'sentiment_score': 0.715,\n  'published_ts': 1603287347,\n  'published_ts_str': '10/21/2020, 13:35:47 ',\n  'img': '',\n  'topic': 'Parenting',\n  'subtopic': ''},\n {'news_feed': 'Singletons',\n  'id': '-2434934587885565502',\n  'inserted_to_CosmosDB_at': '03/06/2022, 12:19:18 ',\n  'inserted_to_CosmosDB_ts': 1646569158,\n  'month_year': '3_2022',\n  'link': 'https://www.psychologytoday.com/us/blog/singletons/202009/what-parents-can-do-prevent-teen-addiction',\n  'title_translated': {'en': 'What Parents Can Do to Prevent Teen Addiction',\n   'ar': 'ما يمكن للوالدين القيام به لمنع إدمان المراهقين'},\n  'title': 'What Parents Can Do to Prevent Teen Addiction',\n  'summary': \"A new study suggests that during COVID-19, adolescent alcohol and cannabis use has increased. Here's why some young people end up on a dangerous path.\",\n  'summary_translations': {'en': \"A new study suggests that during COVID-19, adolescent alcohol and cannabis use has increased. Here's why some young people end up on a dangerous path.\",\n   'ar': 'تشير دراسة جديدة إلى أنه خلال COVID-19 ، زاد تعاطي المراهقين للكحول والقنب. هذا هو السبب في أن بعض الشباب ينتهي بهم المطاف على طريق خطير.'},\n  'summary_ner': {'en': [{'text': 'COVID-19',\n     'category': 'Event',\n     'subcategory': None,\n     'length': 8,\n     'offset': 33,\n     'confidence_score': 0.53},\n    {'text': '19',\n     'category': 'Quantity',\n     'subcategory': 'Number',\n     'length': 2,\n     'offset': 39,\n     'confidence_score': 0.8},\n    {'text': 'adolescent',\n     'category': 'PersonType',\n     'subcategory': None,\n     'length': 10,\n     'offset': 43,\n     'confidence_score': 0.65},\n    {'text': 'cent',\n     'category': 'Quantity',\n     'subcategory': 'Percentage',\n     'length': 4,\n     'offset': 49,\n     'confidence_score': 0.8},\n    {'text': 'alcohol',\n     'category': 'Product',\n     'subcategory': None,\n     'length': 7,\n     'offset': 54,\n     'confidence_score': 0.74},\n    {'text': 'cannabis',\n     'category': 'Product',\n     'subcategory': None,\n     'length': 8,\n     'offset': 66,\n     'confidence_score': 0.95}],\n   'ar': [{'text': 'مرض كوفيد 19',\n     'category': 'Event',\n     'subcategory': None,\n     'length': 8,\n     'offset': 33,\n     'confidence_score': 0.53},\n    {'text': '19',\n     'category': 'Quantity',\n     'subcategory': 'Number',\n     'length': 2,\n     'offset': 39,\n     'confidence_score': 0.8},\n    {'text': 'مراهق',\n     'category': 'PersonType',\n     'subcategory': None,\n     'length': 10,\n     'offset': 43,\n     'confidence_score': 0.65},\n    {'text': 'سنت',\n     'category': 'Quantity',\n     'subcategory': 'Percentage',\n     'length': 4,\n     'offset': 49,\n     'confidence_score': 0.8},\n    {'text': 'كحول',\n     'category': 'Product',\n     'subcategory': None,\n     'length': 7,\n     'offset': 54,\n     'confidence_score': 0.74},\n    {'text': 'كيف',\n     'category': 'Product',\n     'subcategory': None,\n     'length': 8,\n     'offset': 66,\n     'confidence_score': 0.95}]},\n  'sentiment': 'negative',\n  'sentiment_score': 0.0,\n  'published_ts': 1600954265,\n  'published_ts_str': '09/24/2020, 13:31:05 ',\n  'img': '',\n  'topic': 'Parenting',\n  'subtopic': ''},\n {'news_feed': 'Singletons',\n  'id': '-2917976078438511720',\n  'inserted_to_CosmosDB_at': '03/06/2022, 12:19:19 ',\n  'inserted_to_CosmosDB_ts': 1646569159,\n  'month_year': '3_2022',\n  'link': 'https://www.psychologytoday.com/us/blog/singletons/202008/college-how-long',\n  'title_translated': {'en': 'Off to College, but for How Long?',\n   'ar': 'الخروج إلى الكلية ، ولكن إلى متى؟'},\n  'title': 'Off to College, but for How Long?',\n  'summary': 'A new study suggests ways to keep virus from spreading on campus.',\n  'summary_translations': {'en': 'A new study suggests ways to keep virus from spreading on campus.',\n   'ar': 'تقترح دراسة جديدة طرقا لمنع الفيروس من الانتشار في الحرم الجامعي.'},\n  'summary_ner': {'en': [{'text': 'campus',\n     'category': 'Location',\n     'subcategory': 'Structural',\n     'length': 6,\n     'offset': 58,\n     'confidence_score': 0.91}],\n   'ar': [{'text': 'الحرم الجامعي',\n     'category': 'Location',\n     'subcategory': 'Structural',\n     'length': 6,\n     'offset': 58,\n     'confidence_score': 0.91}]},\n  'sentiment': 'negative',\n  'sentiment_score': 0.055,\n  'published_ts': 1597244226,\n  'published_ts_str': '08/12/2020, 14:57:06 ',\n  'img': '',\n  'topic': 'Parenting',\n  'subtopic': ''},\n {'news_feed': 'Singletons',\n  'id': '-478898977727734454',\n  'inserted_to_CosmosDB_at': '03/06/2022, 12:19:19 ',\n  'inserted_to_CosmosDB_ts': 1646569159,\n  'month_year': '3_2022',\n  'link': 'https://www.psychologytoday.com/us/blog/singletons/202008/covid-19-puts-babies-hold',\n  'title_translated': {'en': 'COVID-19 Puts Babies on Hold',\n   'ar': 'كوفيد-19 يعلق الأطفال'},\n  'title': 'COVID-19 Puts Babies on Hold',\n  'summary': 'COVID-19 has added another layer of complexity to an already difficult and life altering question: How many children to have.',\n  'summary_translations': {'en': 'COVID-19 has added another layer of complexity to an already difficult and life altering question: How many children to have.',\n   'ar': 'أضاف كوفيد-19 طبقة أخرى من التعقيد إلى سؤال صعب بالفعل يغير الحياة: كم عدد الأطفال الذين يجب إنجابهم.'},\n  'summary_ner': {'en': [{'text': 'COVID-19',\n     'category': 'Organization',\n     'subcategory': None,\n     'length': 8,\n     'offset': 0,\n     'confidence_score': 0.85},\n    {'text': '19',\n     'category': 'Quantity',\n     'subcategory': 'Number',\n     'length': 2,\n     'offset': 6,\n     'confidence_score': 0.8}],\n   'ar': [{'text': 'مرض كوفيد 19',\n     'category': 'Organization',\n     'subcategory': None,\n     'length': 8,\n     'offset': 0,\n     'confidence_score': 0.85},\n    {'text': '19',\n     'category': 'Quantity',\n     'subcategory': 'Number',\n     'length': 2,\n     'offset': 6,\n     'confidence_score': 0.8}]},\n  'sentiment': 'negative',\n  'sentiment_score': 0.0,\n  'published_ts': 1596808083,\n  'published_ts_str': '08/07/2020, 13:48:03 ',\n  'img': '',\n  'topic': 'Parenting',\n  'subtopic': ''},\n {'news_feed': 'Singletons',\n  'id': '3321913958120258070',\n  'inserted_to_CosmosDB_at': '03/06/2022, 12:19:20 ',\n  'inserted_to_CosmosDB_ts': 1646569160,\n  'month_year': '3_2022',\n  'link': 'https://www.psychologytoday.com/us/blog/singletons/202007/could-you-unintentionally-be-labeling-your-child',\n  'title_translated': {'en': 'Could You Unintentionally Be Labeling Your Child?',\n   'ar': 'هل يمكنك عن غير قصد وضع علامة على طفلك؟'},\n  'title': 'Could You Unintentionally Be Labeling Your Child?',\n  'summary': 'When we call children \"shy,\" \"lonely,\" or \"selfish,\" we\\'re often surprisingly incorrect. Why?',\n  'summary_translations': {'en': 'When we call children \"shy,\" \"lonely,\" or \"selfish,\" we\\'re often surprisingly incorrect. Why?',\n   'ar': 'عندما نسمي الأطفال \"خجولين\" أو \"وحيدين\" أو \"أنانيين\" ، فغالبا ما نكون غير صحيحين بشكل مدهش. لماذا؟'},\n  'summary_ner': {'en': [], 'ar': []},\n  'sentiment': 'negative',\n  'sentiment_score': 0.0,\n  'published_ts': 1594841422,\n  'published_ts_str': '07/15/2020, 19:30:22 ',\n  'img': '',\n  'topic': 'Parenting',\n  'subtopic': ''},\n {'news_feed': 'Singletons',\n  'id': '-5457507312973375178',\n  'inserted_to_CosmosDB_at': '03/06/2022, 12:19:21 ',\n  'inserted_to_CosmosDB_ts': 1646569161,\n  'month_year': '3_2022',\n  'link': 'https://www.psychologytoday.com/us/blog/singletons/202005/how-explain-covid-19-and-vaccination-your-kids',\n  'title_translated': {'en': 'How to Explain COVID-19  and Vaccination to Your Kids',\n   'ar': 'كيفية شرح COVID-19 والتطعيم لأطفالك'},\n  'title': 'How to Explain COVID-19  and Vaccination to Your Kids',\n  'summary': 'Two doctors clarify the science of COVID-19 in a free children’s book.',\n  'summary_translations': {'en': 'Two doctors clarify the science of COVID-19 in a free children’s book.',\n   'ar': 'يوضح طبيبان علم COVID-19 في كتاب مجاني للأطفال.'},\n  'summary_ner': {'en': [{'text': 'Two',\n     'category': 'Quantity',\n     'subcategory': 'Number',\n     'length': 3,\n     'offset': 0,\n     'confidence_score': 0.8},\n    {'text': 'doctors',\n     'category': 'PersonType',\n     'subcategory': None,\n     'length': 7,\n     'offset': 4,\n     'confidence_score': 0.99},\n    {'text': '19',\n     'category': 'Quantity',\n     'subcategory': 'Number',\n     'length': 2,\n     'offset': 41,\n     'confidence_score': 0.8},\n    {'text': 'children’s',\n     'category': 'Product',\n     'subcategory': None,\n     'length': 10,\n     'offset': 54,\n     'confidence_score': 0.62},\n    {'text': 'book',\n     'category': 'Product',\n     'subcategory': None,\n     'length': 4,\n     'offset': 65,\n     'confidence_score': 0.42}],\n   'ar': [{'text': 'اثنان',\n     'category': 'Quantity',\n     'subcategory': 'Number',\n     'length': 3,\n     'offset': 0,\n     'confidence_score': 0.8},\n    {'text': 'اطباء',\n     'category': 'PersonType',\n     'subcategory': None,\n     'length': 7,\n     'offset': 4,\n     'confidence_score': 0.99},\n    {'text': '19',\n     'category': 'Quantity',\n     'subcategory': 'Number',\n     'length': 2,\n     'offset': 41,\n     'confidence_score': 0.8},\n    {'text': 'الأطفال',\n     'category': 'Product',\n     'subcategory': None,\n     'length': 10,\n     'offset': 54,\n     'confidence_score': 0.62},\n    {'text': 'كتاب',\n     'category': 'Product',\n     'subcategory': None,\n     'length': 4,\n     'offset': 65,\n     'confidence_score': 0.42}]},\n  'sentiment': 'positive',\n  'sentiment_score': 0.81,\n  'published_ts': 1589812144,\n  'published_ts_str': '05/18/2020, 14:29:04 ',\n  'img': '',\n  'topic': 'Parenting',\n  'subtopic': ''},\n {'news_feed': 'Singletons',\n  'id': '7205115341397292828',\n  'inserted_to_CosmosDB_at': '03/06/2022, 12:19:21 ',\n  'inserted_to_CosmosDB_ts': 1646569161,\n  'month_year': '3_2022',\n  'link': 'https://www.psychologytoday.com/us/blog/singletons/202004/only-children-are-doing-better-you-think',\n  'title_translated': {'en': 'Only Children are Doing Better Than You Think',\n   'ar': 'الأطفال فقط هم الذين يقومون بعمل أفضل مما تعتقد'},\n  'title': 'Only Children are Doing Better Than You Think',\n  'summary': 'Who has a tougher time being quarantined: only children or kids with siblings? Why what you believe may be incorrect.',\n  'summary_translations': {'en': 'Who has a tougher time being quarantined: only children or kids with siblings? Why what you believe may be incorrect.',\n   'ar': 'من لديه وقت أصعب في الحجر الصحي: فقط الأطفال أو الأطفال الذين لديهم أشقاء؟ لماذا ما تعتقد أنه قد يكون غير صحيح.'},\n  'summary_ner': {'en': [{'text': 'siblings',\n     'category': 'PersonType',\n     'subcategory': None,\n     'length': 8,\n     'offset': 69,\n     'confidence_score': 0.97}],\n   'ar': [{'text': 'الاشقاء',\n     'category': 'PersonType',\n     'subcategory': None,\n     'length': 8,\n     'offset': 69,\n     'confidence_score': 0.97}]},\n  'sentiment': 'negative',\n  'sentiment_score': 0.005,\n  'published_ts': 1587394356,\n  'published_ts_str': '04/20/2020, 14:52:36 ',\n  'img': '',\n  'topic': 'Parenting',\n  'subtopic': ''},\n {'news_feed': 'Singletons',\n  'id': '484995555695893343',\n  'inserted_to_CosmosDB_at': '03/06/2022, 12:19:21 ',\n  'inserted_to_CosmosDB_ts': 1646569161,\n  'month_year': '3_2022',\n  'link': 'https://www.psychologytoday.com/us/blog/singletons/202004/4-ways-help-your-quarantined-tween-preserve-friendships',\n  'title_translated': {'en': '4 Ways to Help Your Quarantined Tween Preserve Friendships',\n   'ar': '4 طرق لمساعدة طفلك المراهق المعزول في الحجر الصحي على الحفاظ على صداقاته'},\n  'title': '4 Ways to Help Your Quarantined Tween Preserve Friendships',\n  'summary': 'Tween friendships are tricky, inevitably hitting snags. Use these insights and approaches to safeguard your tweens’ peer relationships during the pandemic and long after.',\n  'summary_translations': {'en': 'Tween friendships are tricky, inevitably hitting snags. Use these insights and approaches to safeguard your tweens’ peer relationships during the pandemic and long after.',\n   'ar': 'صداقات توين صعبة ، لا مفر من أن تصل إلى العقبات. استخدم هذه الرؤى والأساليب لحماية علاقات الأقران بين المراهقين أثناء الوباء وبعد فترة طويلة.'},\n  'summary_ner': {'en': [{'text': 'insights',\n     'category': 'Skill',\n     'subcategory': None,\n     'length': 8,\n     'offset': 66,\n     'confidence_score': 0.94},\n    {'text': 'tweens',\n     'category': 'PersonType',\n     'subcategory': None,\n     'length': 6,\n     'offset': 108,\n     'confidence_score': 0.53},\n    {'text': 'pandemic',\n     'category': 'Event',\n     'subcategory': None,\n     'length': 8,\n     'offset': 146,\n     'confidence_score': 0.84}],\n   'ar': [{'text': 'البصائر',\n     'category': 'Skill',\n     'subcategory': None,\n     'length': 8,\n     'offset': 66,\n     'confidence_score': 0.94},\n    {'text': 'المراهقون',\n     'category': 'PersonType',\n     'subcategory': None,\n     'length': 6,\n     'offset': 108,\n     'confidence_score': 0.53},\n    {'text': 'جائحة',\n     'category': 'Event',\n     'subcategory': None,\n     'length': 8,\n     'offset': 146,\n     'confidence_score': 0.84}]},\n  'sentiment': 'mixed',\n  'sentiment_score': 0.435,\n  'published_ts': 1586959780,\n  'published_ts_str': '04/15/2020, 14:09:40 ',\n  'img': '',\n  'topic': 'Parenting',\n  'subtopic': ''},\n {'news_feed': 'Singletons',\n  'id': '7985108961661138191',\n  'inserted_to_CosmosDB_at': '03/06/2022, 12:19:22 ',\n  'inserted_to_CosmosDB_ts': 1646569162,\n  'month_year': '3_2022',\n  'link': 'https://www.psychologytoday.com/us/blog/singletons/202004/more-babies-or-more-divorces-after-covid-19',\n  'title_translated': {'en': 'More Babies or More Divorces After COVID-19?',\n   'ar': 'المزيد من الأطفال أو المزيد من حالات الطلاق بعد COVID-19؟'},\n  'title': 'More Babies or More Divorces After COVID-19?',\n  'summary': \"There are surprising differences in how disasters like hurricanes and terrorist attacks affect families. Here's what could happen in yours after the coronavirus pandemic.\",\n  'summary_translations': {'en': \"There are surprising differences in how disasters like hurricanes and terrorist attacks affect families. Here's what could happen in yours after the coronavirus pandemic.\",\n   'ar': 'هناك اختلافات مفاجئة في كيفية تأثير الكوارث مثل الأعاصير والهجمات الإرهابية على الأسر. إليك ما يمكن أن يحدث في بلدك بعد جائحة فيروس كورونا.'},\n  'summary_ner': {'en': [{'text': 'hurricanes',\n     'category': 'Event',\n     'subcategory': None,\n     'length': 10,\n     'offset': 55,\n     'confidence_score': 0.99},\n    {'text': 'terrorist attacks',\n     'category': 'Event',\n     'subcategory': None,\n     'length': 17,\n     'offset': 70,\n     'confidence_score': 0.95},\n    {'text': 'coronavirus pandemic',\n     'category': 'Event',\n     'subcategory': None,\n     'length': 20,\n     'offset': 149,\n     'confidence_score': 0.94}],\n   'ar': [{'text': 'اعاصير',\n     'category': 'Event',\n     'subcategory': None,\n     'length': 10,\n     'offset': 55,\n     'confidence_score': 0.99},\n    {'text': 'الهجمات الإرهابية',\n     'category': 'Event',\n     'subcategory': None,\n     'length': 17,\n     'offset': 70,\n     'confidence_score': 0.95},\n    {'text': 'جائحة فيروس كورونا',\n     'category': 'Event',\n     'subcategory': None,\n     'length': 20,\n     'offset': 149,\n     'confidence_score': 0.94}]},\n  'sentiment': 'negative',\n  'sentiment_score': 0.025,\n  'published_ts': 1585936914,\n  'published_ts_str': '04/03/2020, 18:01:54 ',\n  'img': '',\n  'topic': 'Parenting',\n  'subtopic': ''},\n {'news_feed': 'Singletons',\n  'id': '-4905670885469009739',\n  'inserted_to_CosmosDB_at': '03/06/2022, 12:19:22 ',\n  'inserted_to_CosmosDB_ts': 1646569162,\n  'month_year': '3_2022',\n  'link': 'https://www.psychologytoday.com/us/blog/singletons/202003/why-jane-reads-better-jack',\n  'title_translated': {'en': 'Why Jane Reads Better Than Jack',\n   'ar': 'لماذا تقرأ جين أفضل من جاك'},\n  'title': 'Why Jane Reads Better Than Jack',\n  'summary': \"Shared beliefs about boys’ and girls’ reading abilities are gendered, and, in fact, stereotypes. A new study reveals how they affect children's reading and academic outcomes.\",\n  'summary_translations': {'en': \"Shared beliefs about boys’ and girls’ reading abilities are gendered, and, in fact, stereotypes. A new study reveals how they affect children's reading and academic outcomes.\",\n   'ar': 'والمعتقدات المشتركة بشأن قدرات القراءة لدى الفتيان والفتيات هي معتقدات جنسانية، بل هي في الواقع قوالب نمطية. كشفت دراسة جديدة عن كيفية تأثيرها على قراءة الأطفال ونتائجهم الأكاديمية.'},\n  'summary_ner': {'en': [{'text': 'reading',\n     'category': 'Skill',\n     'subcategory': None,\n     'length': 7,\n     'offset': 144,\n     'confidence_score': 0.51}],\n   'ar': [{'text': 'قراءة',\n     'category': 'Skill',\n     'subcategory': None,\n     'length': 7,\n     'offset': 144,\n     'confidence_score': 0.51}]},\n  'sentiment': 'negative',\n  'sentiment_score': 0.05,\n  'published_ts': 1583172820,\n  'published_ts_str': '03/02/2020, 18:13:40 ',\n  'img': '',\n  'topic': 'Parenting',\n  'subtopic': ''},\n {'news_feed': 'Singletons',\n  'id': '-3385966312702272776',\n  'inserted_to_CosmosDB_at': '03/06/2022, 12:19:23 ',\n  'inserted_to_CosmosDB_ts': 1646569163,\n  'month_year': '3_2022',\n  'link': 'https://www.psychologytoday.com/us/blog/singletons/202001/imaginary-friends-harmful-or-beneficial',\n  'title_translated': {'en': 'Imaginary Friends: Harmful or Beneficial?',\n   'ar': 'أصدقاء وهميون: ضار أم مفيد؟'},\n  'title': 'Imaginary Friends: Harmful or Beneficial?',\n  'summary': 'What parents need to know about children’s make-believe pals and the many roles they play.',\n  'summary_translations': {'en': 'What parents need to know about children’s make-believe pals and the many roles they play.',\n   'ar': 'ما يحتاج الآباء إلى معرفته عن أصدقاء الأطفال والأدوار العديدة التي يلعبونها.'},\n  'summary_ner': {'en': [{'text': 'parents',\n     'category': 'PersonType',\n     'subcategory': None,\n     'length': 7,\n     'offset': 5,\n     'confidence_score': 0.98},\n    {'text': 'pals',\n     'category': 'PersonType',\n     'subcategory': None,\n     'length': 4,\n     'offset': 56,\n     'confidence_score': 0.77}],\n   'ar': [{'text': 'والدان',\n     'category': 'PersonType',\n     'subcategory': None,\n     'length': 7,\n     'offset': 5,\n     'confidence_score': 0.98},\n    {'text': 'الزملاء',\n     'category': 'PersonType',\n     'subcategory': None,\n     'length': 4,\n     'offset': 56,\n     'confidence_score': 0.77}]},\n  'sentiment': 'positive',\n  'sentiment_score': 0.79,\n  'published_ts': 1579624928,\n  'published_ts_str': '01/21/2020, 16:42:08 ',\n  'img': '',\n  'topic': 'Parenting',\n  'subtopic': ''},\n {'news_feed': 'Singletons',\n  'id': '-6498053492570082840',\n  'inserted_to_CosmosDB_at': '03/06/2022, 12:19:23 ',\n  'inserted_to_CosmosDB_ts': 1646569163,\n  'month_year': '3_2022',\n  'link': 'https://www.psychologytoday.com/us/blog/singletons/201911/is-why-dads-are-happier-moms',\n  'title_translated': {'en': 'This Is Why Dads Are Happier Than Moms',\n   'ar': 'هذا هو السبب في أن الآباء أكثر سعادة من الأمهات'},\n  'title': 'This Is Why Dads Are Happier Than Moms',\n  'summary': 'The difference in mothers’ and fathers’ well-being and happiness exists from babyhood into adolescence. Here’s why and in what ways.',\n  'summary_translations': {'en': 'The difference in mothers’ and fathers’ well-being and happiness exists from babyhood into adolescence. Here’s why and in what ways.',\n   'ar': 'الفرق في رفاهية الأمهات والآباء وسعادتهم موجود من الطفولة إلى المراهقة. إليك السبب وبأي طرق.'},\n  'summary_ner': {'en': [{'text': 'mothers',\n     'category': 'PersonType',\n     'subcategory': None,\n     'length': 7,\n     'offset': 18,\n     'confidence_score': 0.99},\n    {'text': 'fathers',\n     'category': 'PersonType',\n     'subcategory': None,\n     'length': 7,\n     'offset': 31,\n     'confidence_score': 0.98}],\n   'ar': [{'text': 'الامهات',\n     'category': 'PersonType',\n     'subcategory': None,\n     'length': 7,\n     'offset': 18,\n     'confidence_score': 0.99},\n    {'text': 'آباء',\n     'category': 'PersonType',\n     'subcategory': None,\n     'length': 7,\n     'offset': 31,\n     'confidence_score': 0.98}]},\n  'sentiment': 'positive',\n  'sentiment_score': 0.99,\n  'published_ts': 1574172597,\n  'published_ts_str': '11/19/2019, 14:09:57 ',\n  'img': '',\n  'topic': 'Parenting',\n  'subtopic': ''},\n {'news_feed': 'Singletons',\n  'id': '-3896066070887697249',\n  'inserted_to_CosmosDB_at': '03/06/2022, 12:19:24 ',\n  'inserted_to_CosmosDB_ts': 1646569164,\n  'month_year': '3_2022',\n  'link': 'https://www.psychologytoday.com/us/blog/singletons/201910/growing-without-siblings-adult-only-children-speak-out',\n  'title_translated': {'en': 'Growing Up Without Siblings: Adult Only Children Speak Out',\n   'ar': 'النشأة بدون أشقاء: الأطفال البالغون فقط يتحدثون علنا'},\n  'title': 'Growing Up Without Siblings: Adult Only Children Speak Out',\n  'summary': 'Adult only children take the long view on the benefits and drawbacks of growing up solo.',\n  'summary_translations': {'en': 'Adult only children take the long view on the benefits and drawbacks of growing up solo.',\n   'ar': 'الأطفال البالغين فقط يأخذون نظرة طويلة على فوائد وعيوب النمو منفردا.'},\n  'summary_ner': {'en': [], 'ar': []},\n  'sentiment': 'negative',\n  'sentiment_score': 0.375,\n  'published_ts': 1572450561,\n  'published_ts_str': '10/30/2019, 15:49:21 ',\n  'img': '',\n  'topic': 'Parenting',\n  'subtopic': ''},\n {'news_feed': 'Singletons',\n  'id': '-455765773783730068',\n  'inserted_to_CosmosDB_at': '03/06/2022, 12:19:24 ',\n  'inserted_to_CosmosDB_ts': 1646569164,\n  'month_year': '3_2022',\n  'link': 'https://www.psychologytoday.com/us/blog/singletons/201909/millennials-are-not-running-out-time-have-kids',\n  'title_translated': {'en': 'Millennials Are Not \"Running Out of Time\" to Have Kids',\n   'ar': 'جيل الألفية لا \"ينفد وقتهم\" لإنجاب الأطفال'},\n  'title': 'Millennials Are Not \"Running Out of Time\" to Have Kids',\n  'summary': \"Studies suggest Millennials can wait to have babies. Here's evidence to answer common family planning questions.\",\n  'summary_translations': {'en': \"Studies suggest Millennials can wait to have babies. Here's evidence to answer common family planning questions.\",\n   'ar': 'تشير الدراسات إلى أن جيل الألفية يمكن أن ينتظر لإنجاب الأطفال. فيما يلي أدلة للإجابة على أسئلة تنظيم الأسرة الشائعة.'},\n  'summary_ner': {'en': [{'text': 'Millennials',\n     'category': 'PersonType',\n     'subcategory': None,\n     'length': 11,\n     'offset': 16,\n     'confidence_score': 0.97},\n    {'text': 'family planning',\n     'category': 'Skill',\n     'subcategory': None,\n     'length': 15,\n     'offset': 86,\n     'confidence_score': 0.96}],\n   'ar': [{'text': 'جيل الألفية',\n     'category': 'PersonType',\n     'subcategory': None,\n     'length': 11,\n     'offset': 16,\n     'confidence_score': 0.97},\n    {'text': 'تنظيم الأسرة',\n     'category': 'Skill',\n     'subcategory': None,\n     'length': 15,\n     'offset': 86,\n     'confidence_score': 0.96}]},\n  'sentiment': 'neutral',\n  'sentiment_score': 0.575,\n  'published_ts': 1568734303,\n  'published_ts_str': '09/17/2019, 15:31:43 ',\n  'img': '',\n  'topic': 'Parenting',\n  'subtopic': ''},\n {'news_feed': 'Singletons',\n  'id': '3672650141240263357',\n  'inserted_to_CosmosDB_at': '03/06/2022, 12:19:25 ',\n  'inserted_to_CosmosDB_ts': 1646569165,\n  'month_year': '3_2022',\n  'link': 'https://www.psychologytoday.com/us/blog/singletons/201909/how-get-your-children-read-more',\n  'title_translated': {'en': 'How to Get Your Children to Read More',\n   'ar': 'كيف تجعل أطفالك يقرأون المزيد'},\n  'title': 'How to Get Your Children to Read More',\n  'summary': 'Parents can combat the many distractions that keep your child from reading. Here are proven ways to raise a reader, be she a toddler or reluctant teen.',\n  'summary_translations': {'en': 'Parents can combat the many distractions that keep your child from reading. Here are proven ways to raise a reader, be she a toddler or reluctant teen.',\n   'ar': 'يمكن للوالدين مكافحة العديد من الانحرافات التي تمنع طفلك من القراءة. فيما يلي طرق مثبتة لتربية القارئ ، سواء كان طفلا صغيرا أو مراهقا مترددا.'},\n  'summary_ner': {'en': [{'text': 'Parents',\n     'category': 'PersonType',\n     'subcategory': None,\n     'length': 7,\n     'offset': 0,\n     'confidence_score': 0.96},\n    {'text': 'reader',\n     'category': 'PersonType',\n     'subcategory': None,\n     'length': 6,\n     'offset': 108,\n     'confidence_score': 0.98},\n    {'text': 'toddler',\n     'category': 'PersonType',\n     'subcategory': None,\n     'length': 7,\n     'offset': 125,\n     'confidence_score': 0.91},\n    {'text': 'teen',\n     'category': 'PersonType',\n     'subcategory': None,\n     'length': 4,\n     'offset': 146,\n     'confidence_score': 0.62}],\n   'ar': [{'text': 'والدان',\n     'category': 'PersonType',\n     'subcategory': None,\n     'length': 7,\n     'offset': 0,\n     'confidence_score': 0.96},\n    {'text': 'قارئ',\n     'category': 'PersonType',\n     'subcategory': None,\n     'length': 6,\n     'offset': 108,\n     'confidence_score': 0.98},\n    {'text': 'طفل',\n     'category': 'PersonType',\n     'subcategory': None,\n     'length': 7,\n     'offset': 125,\n     'confidence_score': 0.91},\n    {'text': 'سن المراهقه',\n     'category': 'PersonType',\n     'subcategory': None,\n     'length': 4,\n     'offset': 146,\n     'confidence_score': 0.62}]},\n  'sentiment': 'negative',\n  'sentiment_score': 0.195,\n  'published_ts': 1567517921,\n  'published_ts_str': '09/03/2019, 13:38:41 ',\n  'img': '',\n  'topic': 'Parenting',\n  'subtopic': ''}]"
          },
          "metadata": {}
        }
      ],
      "metadata": {
        "jupyter": {
          "source_hidden": false,
          "outputs_hidden": false
        },
        "nteract": {
          "transient": {
            "deleting": false
          }
        }
      },
      "source": [
        "res"
      ]
    },
    {
      "cell_type": "code",
      "execution_count": 79,
      "outputs": [
        {
          "output_type": "display_data",
          "data": {
            "application/vnd.livy.statement-meta+json": {
              "spark_pool": "smasparkpool",
              "session_id": 270,
              "statement_id": 73,
              "state": "finished",
              "livy_statement_state": "available",
              "queued_time": "2022-03-06T12:18:52.9595258Z",
              "session_start_time": null,
              "execution_start_time": "2022-03-06T12:19:29.6658797Z",
              "execution_finish_time": "2022-03-06T12:19:30.7144918Z"
            },
            "text/plain": "StatementMeta(smasparkpool, 270, 73, Finished, Available)"
          },
          "metadata": {}
        },
        {
          "output_type": "stream",
          "name": "stdout",
          "text": "Inserted to cosmos\nInserted to cosmos\nInserted to cosmos\nInserted to cosmos\nInserted to cosmos\nInserted to cosmos\nInserted to cosmos\nInserted to cosmos\nInserted to cosmos\nInserted to cosmos\nInserted to cosmos\nInserted to cosmos\nInserted to cosmos\nInserted to cosmos\nInserted to cosmos\nInserted to cosmos\nInserted to cosmos\nInserted to cosmos\nInserted to cosmos\nInserted to cosmos\nInserted to cosmos\nInserted to cosmos\nInserted to cosmos\nInserted to cosmos\nInserted to cosmos\nInserted to cosmos\nInserted to cosmos\nInserted to cosmos\nInserted to cosmos\nInserted to cosmos"
        }
      ],
      "metadata": {
        "jupyter": {
          "source_hidden": false,
          "outputs_hidden": false
        },
        "nteract": {
          "transient": {
            "deleting": false
          }
        }
      },
      "source": [
        "update_cosmos(res, rss_container_client)"
      ]
    }
  ],
  "metadata": {
    "description": null,
    "save_output": true,
    "kernelspec": {
      "name": "synapse_pyspark",
      "display_name": "Synapse PySpark"
    },
    "language_info": {
      "name": "python"
    },
    "synapse_widget": {
      "version": "0.1",
      "state": {}
    }
  }
}