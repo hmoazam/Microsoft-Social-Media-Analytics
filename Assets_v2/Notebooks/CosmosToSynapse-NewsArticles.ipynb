{
  "nbformat": 4,
  "nbformat_minor": 2,
  "cells": [
    {
      "cell_type": "markdown",
      "metadata": {},
      "source": [
        "# Libraries"
      ]
    },
    {
      "cell_type": "code",
      "execution_count": 9,
      "outputs": [
        {
          "output_type": "display_data",
          "data": {
            "application/vnd.livy.statement-meta+json": {
              "spark_pool": "smasparkpool",
              "session_id": 402,
              "statement_id": 11,
              "state": "finished",
              "livy_statement_state": "available",
              "queued_time": "2022-03-08T07:52:02.8328658Z",
              "session_start_time": null,
              "execution_start_time": "2022-03-08T07:52:03.4226697Z",
              "execution_finish_time": "2022-03-08T07:52:03.4229395Z"
            },
            "text/plain": "StatementMeta(smasparkpool, 402, 11, Finished, Available)"
          },
          "metadata": {}
        }
      ],
      "metadata": {},
      "source": [
        "import os\n",
        "from dateutil.parser import parse\n",
        "from datetime import datetime, timedelta \n",
        "from pyspark.sql.types import StructType, StructField, IntegerType,StringType,DateType, LongType, DecimalType,TimestampType, BooleanType,FloatType\n",
        "from urllib.parse import urlparse\n",
        "from azure.cosmos import CosmosClient"
      ]
    },
    {
      "cell_type": "code",
      "execution_count": 10,
      "outputs": [
        {
          "output_type": "display_data",
          "data": {
            "application/vnd.livy.statement-meta+json": {
              "spark_pool": null,
              "session_id": 402,
              "statement_id": -1,
              "state": "finished",
              "livy_statement_state": "available",
              "queued_time": "2022-03-08T07:52:03.2937985Z",
              "session_start_time": null,
              "execution_start_time": "2022-03-08T07:52:06.0701846Z",
              "execution_finish_time": "2022-03-08T07:52:06.0708111Z"
            },
            "text/plain": "StatementMeta(, 402, -1, Finished, Available)"
          },
          "metadata": {}
        },
        {
          "output_type": "stream",
          "name": "stdout",
          "text": "DB_NAME: String = synsqlpoolsmapoc\n"
        }
      ],
      "metadata": {},
      "source": [
        "%run \"config\""
      ]
    },
    {
      "cell_type": "code",
      "execution_count": 11,
      "outputs": [
        {
          "output_type": "display_data",
          "data": {
            "application/vnd.livy.statement-meta+json": {
              "spark_pool": "smasparkpool",
              "session_id": 402,
              "statement_id": 14,
              "state": "finished",
              "livy_statement_state": "available",
              "queued_time": "2022-03-08T07:52:03.4568363Z",
              "session_start_time": null,
              "execution_start_time": "2022-03-08T07:52:06.4503585Z",
              "execution_finish_time": "2022-03-08T07:52:06.8661362Z"
            },
            "text/plain": "StatementMeta(smasparkpool, 402, 14, Finished, Available)"
          },
          "metadata": {}
        }
      ],
      "metadata": {},
      "source": [
        "# Connect to Cosmos\n",
        "client = CosmosClient(COSMOS_URL, {'masterKey': COSMOS_KEY})\n",
        "database = client.get_database_client(COSMOS_DATABASE_NAME)\n",
        "tweet_container_client = database.get_container_client(container=COSMOS_ARTICLE_CONTAINER_NAME)"
      ]
    },
    {
      "cell_type": "code",
      "execution_count": 12,
      "outputs": [
        {
          "output_type": "display_data",
          "data": {
            "application/vnd.livy.statement-meta+json": {
              "spark_pool": "smasparkpool",
              "session_id": 402,
              "statement_id": 15,
              "state": "finished",
              "livy_statement_state": "available",
              "queued_time": "2022-03-08T07:52:03.6721527Z",
              "session_start_time": null,
              "execution_start_time": "2022-03-08T07:52:07.2349718Z",
              "execution_finish_time": "2022-03-08T07:52:14.4582656Z"
            },
            "text/plain": "StatementMeta(smasparkpool, 402, 15, Finished, Available)"
          },
          "metadata": {}
        }
      ],
      "metadata": {
        "jupyter": {
          "source_hidden": false,
          "outputs_hidden": false
        },
        "nteract": {
          "transient": {
            "deleting": false
          }
        }
      },
      "source": [
        "last_inserted_ts = 0\r\n",
        "\r\n",
        "jdbc_url = \"jdbc:sqlserver://\" + SYNAPSE_WORKSPACE_NAME + \".sql.azuresynapse.net:1433;database=\" + DB_NAME + \";encrypt=true;trustServerCertificate=true;hostNameInCertificate=*.sql.azuresynapse.net;loginTimeout=30;\"\r\n",
        "\r\n",
        "jdbcDF = spark.read \\\r\n",
        "    .format(\"jdbc\") \\\r\n",
        "    .option(\"url\", jdbc_url) \\\r\n",
        "    .option(\"query\", \"SELECT MAX(inserted_to_CosmosDB_ts) AS outp FROM dbo.Articles\") \\\r\n",
        "    .option(\"user\", SQL_USERNAME) \\\r\n",
        "    .option(\"password\", SQL_PASSWORD) \\\r\n",
        "    .load()\r\n",
        "\r\n",
        "try:\r\n",
        "    last_inserted_ts = jdbcDF.first()[0]\r\n",
        "except: \r\n",
        "    last_inserted_ts = 0\r\n",
        "\r\n",
        "if not(last_inserted_ts): # if the table is empty get back None\r\n",
        "    last_inserted_ts = 0"
      ]
    },
    {
      "cell_type": "code",
      "execution_count": 13,
      "outputs": [
        {
          "output_type": "display_data",
          "data": {
            "application/vnd.livy.statement-meta+json": {
              "spark_pool": "smasparkpool",
              "session_id": 402,
              "statement_id": 16,
              "state": "finished",
              "livy_statement_state": "available",
              "queued_time": "2022-03-08T07:52:04.130619Z",
              "session_start_time": null,
              "execution_start_time": "2022-03-08T07:52:14.8227118Z",
              "execution_finish_time": "2022-03-08T07:52:15.3584233Z"
            },
            "text/plain": "StatementMeta(smasparkpool, 402, 16, Finished, Available)"
          },
          "metadata": {}
        },
        {
          "output_type": "display_data",
          "data": {
            "text/plain": "0"
          },
          "metadata": {}
        }
      ],
      "metadata": {
        "jupyter": {
          "source_hidden": false,
          "outputs_hidden": false
        },
        "nteract": {
          "transient": {
            "deleting": false
          }
        }
      },
      "source": [
        "last_inserted_ts"
      ]
    },
    {
      "cell_type": "code",
      "execution_count": 14,
      "outputs": [
        {
          "output_type": "display_data",
          "data": {
            "application/vnd.livy.statement-meta+json": {
              "spark_pool": "smasparkpool",
              "session_id": 402,
              "statement_id": 17,
              "state": "finished",
              "livy_statement_state": "available",
              "queued_time": "2022-03-08T07:52:04.419465Z",
              "session_start_time": null,
              "execution_start_time": "2022-03-08T07:52:15.7418001Z",
              "execution_finish_time": "2022-03-08T07:52:15.7422291Z"
            },
            "text/plain": "StatementMeta(smasparkpool, 402, 17, Finished, Available)"
          },
          "metadata": {}
        }
      ],
      "metadata": {
        "jupyter": {
          "source_hidden": false,
          "outputs_hidden": false
        },
        "nteract": {
          "transient": {
            "deleting": false
          }
        }
      },
      "source": [
        "LANGUAGE_CODES={\"All\":\"\",\"Afrikaans\":\"af\",\"Arabic\":\"ar\",\"Assamese\":\"as\",\"Bangla\":\"bn\",\"Bosnian(Latin)\":\"bs\",\"Bulgarian\":\"bg\",\"Cantonese(Traditional)\":\"yue\",\"Catalan\":\"ca\",\"Chinese Simplified\":\"zh-Hans\",\"Chinese Traditional\":\"zh-Hant\",\"Croatian\":\"hr\",\"Czech\":\"cs\",\"Dari\":\"prs\",\"Danish\":\"da\",\"Dutch\":\"nl\",\"English\":\"en\",\"Estonian\":\"et\",\"Fijian\":\"fj\",\"Filipino\":\"fil\",\"Finnish\":\"fi\",\"French\":\"fr\",\"German\":\"de\",\"Greek\":\"el\",\"Gujarati\":\"gu\",\"Haitian Creole\":\"ht\",\"Hebrew\":\"he\",\"Hindi\":\"hi\",\"Hmong Daw\":\"mww\",\"Hungarian\":\"hu\",\"Icelandic\":\"is\",\"Indonesian\":\"id\",\"Irish\":\"ga\",\"Italian\":\"it\",\"Japanese\":\"ja\",\"Kannada\":\"kn\",\"Kazakh\":\"kk\",\"Klingon\":\"tlh-Latn\",\"Klingon(plqaD)\":\"tlh-Piqd\",\"Korean\":\"ko\",\"Kurdish(Central)\":\"ku\",\"Kurdish(Northern)\":\"kmr\",\"Latvian\":\"lv\",\"Lithuanian\":\"lt\",\"Malagasy\":\"mg\",\"Malay\":\"ms\",\"Malayalam\":\"ml\",\"Maltese\":\"mt\",\"Maori\":\"mi\",\"Marathi\":\"mr\",\"Norwegian\":\"nb\",\"Odia\":\"or\",\"Pashto\":\"ps\",\"Persian\":\"fa\",\"Polish\":\"pl\",\"Portuguese(Brazil)\":\"pt-br\",\"Portuguese(Portugal)\":\"pt-pt\",\"Punjabi\":\"pa\",\"Queretaro Otomi\":\"otq\",\"Romanian\":\"ro\",\"Russian\":\"ru\",\"Samoan\":\"sm\",\"Serbian(Cyrillic)\":\"sr-Cyrl\",\"Serbian(Latin)\":\"sr-Latn\",\"Slovak\":\"sk\",\"Slovenian\":\"sl\",\"Spanish\":\"es\",\"Swahili\":\"sw\",\"Swedish\":\"sv\",\"Tahitian\":\"ty\",\"Tamil\":\"ta\",\"Telugu\":\"te\",\"Thai\":\"th\",\"Tongan\":\"to\",\"Turkish\":\"tr\",\"Ukrainian\":\"uk\",\"Urdu\":\"ur\",\"Vietnamese\":\"vi\",\"Welsh\":\"cy\",\"Yucatec Maya\":\"yua\"}\r\n",
        "LANGUAGE_CODES = {v: k for (k, v) in LANGUAGE_CODES.items()}"
      ]
    },
    {
      "cell_type": "code",
      "execution_count": 18,
      "outputs": [
        {
          "output_type": "display_data",
          "data": {
            "application/vnd.livy.statement-meta+json": {
              "spark_pool": "smasparkpool",
              "session_id": 402,
              "statement_id": 21,
              "state": "finished",
              "livy_statement_state": "available",
              "queued_time": "2022-03-08T07:54:03.6934594Z",
              "session_start_time": null,
              "execution_start_time": "2022-03-08T07:54:04.0915623Z",
              "execution_finish_time": "2022-03-08T07:54:05.1421356Z"
            },
            "text/plain": "StatementMeta(smasparkpool, 402, 21, Finished, Available)"
          },
          "metadata": {}
        }
      ],
      "metadata": {},
      "source": [
        "query = \"SELECT * from items where items.document_type = 'news_article' and items._ts > \"  + str(last_inserted_ts)\n",
        "lstNewsArticles, lstEntities,lstKeyPhrases, lstSentiment, lstTranslations  = ([] for i in range(5))\n",
        "for article in tweet_container_client.query_items(query,enable_cross_partition_query=True ):\n",
        "  domain = urlparse(article[\"url\"]).netloc\n",
        "  publishedAt = parse(article['publishedAt']) + timedelta(hours=3) \n",
        "  inserted_to_CosmosDB_datetime = datetime.fromtimestamp(article['_ts'])\n",
        "  inserted_to_CosmosDB_ts = int(article['_ts'])\n",
        "  title=article['title']\n",
        "  description=article['description']\n",
        "  content = article['content']\n",
        "  lstNewsArticles.append([article['id'], article['topickey'], article['subtopic'],article['source']['name'], article['author'],title, description , article['url'], article['urlToImage'], content, publishedAt, inserted_to_CosmosDB_datetime, inserted_to_CosmosDB_ts,domain, article['lang'], 'News Article'])\n",
        "  \n",
        "  title_translated = article[\"translations_title\"]\n",
        "  description_translated = article[\"translations_description\"]\n",
        "  content_translated = article[\"translations_content\"]\n",
        "\n",
        "  id_ = article[\"id\"]\n",
        "\n",
        "  langs = title_translated.keys()\n",
        "  for lang in langs: \n",
        "    title_ = title_translated[lang]\n",
        "    desc_ = description_translated[lang]\n",
        "    content_ = content_translated[lang]\n",
        "    lstTranslations.append([id_, lang, title_, desc_, content_, datetime.now()])\n",
        "\n",
        "  # for l in article['translations_title']:\n",
        "  #    lstTranslations.append([article['id'], l,'title', article['translations_title'][l], datetime.now()])\n",
        "\n",
        "  # for l in article['translations_description']:\n",
        "  #   lstTranslations.append([article['id'], l,'description', article['translations_description'][l], datetime.now()])\n",
        "\n",
        "  # for l in article['translations_content']:\n",
        "  #   lstTranslations.append([article['id'], l,'content', article['translations_content'][l], datetime.now()])\n",
        "\n",
        "  for l in article['named_entities']:\n",
        "    for entity in article['named_entities'][l]:\n",
        "      lstEntities.append([article['id'], entity['category'], entity['subcategory'], entity['text'], LANGUAGE_CODES.get(l, \"unknown\"), float(entity['confidence_score']), datetime.now() ])\n",
        "  \n",
        "  if \"sentiment\" in article.keys():\n",
        "    lstSentiment.append([article['id'], article[\"sentiment\"][\"sentiment\"], article[\"sentiment\"][\"score\"], datetime.now()])  "
      ]
    },
    {
      "cell_type": "code",
      "execution_count": 19,
      "outputs": [
        {
          "output_type": "display_data",
          "data": {
            "application/vnd.livy.statement-meta+json": {
              "spark_pool": "smasparkpool",
              "session_id": 402,
              "statement_id": 22,
              "state": "finished",
              "livy_statement_state": "available",
              "queued_time": "2022-03-08T07:54:09.5077146Z",
              "session_start_time": null,
              "execution_start_time": "2022-03-08T07:54:09.8871044Z",
              "execution_finish_time": "2022-03-08T07:54:11.8368183Z"
            },
            "text/plain": "StatementMeta(smasparkpool, 402, 22, Finished, Available)"
          },
          "metadata": {}
        }
      ],
      "metadata": {},
      "source": [
        "schema = StructType([StructField(\"id\",StringType(),False),   StructField(\"Language\",StringType(),False),   StructField(\"Title\",StringType(),True),   StructField(\"Description\",StringType(),True),   StructField(\"Content\",StringType(),True),   StructField(\"created_datetime\", TimestampType(), True)])\n",
        "dfTranslations = spark.createDataFrame(lstTranslations,schema)\n",
        "dfTranslations.createOrReplaceTempView(\"dfTranslations\")\n",
        "schema = StructType([StructField(\"id\",StringType(),False),   StructField(\"KeyPhrase\",StringType(),False),   StructField(\"Language\",StringType(),True),   StructField(\"created_datetime\", TimestampType(), True)])\n",
        "schema = StructType([StructField(\"id\",StringType(),False),   StructField(\"category\",StringType(),False),   StructField(\"subcategory\",StringType(),True),   StructField(\"value\",StringType(),True),   StructField(\"Language\",StringType(),True),   StructField(\"confidence_score\",FloatType(),True),   StructField(\"created_datetime\", TimestampType(), True)])\n",
        "dfEntities = spark.createDataFrame(lstEntities,schema)\n",
        "dfEntities.createOrReplaceTempView(\"dfEntities\")\n",
        "schema = StructType([StructField(\"id\", StringType(), False),  StructField(\"sentiment\", StringType(), True),  StructField(\"overallscore\", FloatType(), True),  StructField(\"created_datetime\", TimestampType(), True)])\n",
        "dfSentiment = spark.createDataFrame(lstSentiment, schema)\n",
        "dfSentiment.createOrReplaceTempView(\"dfSentiment\")\n",
        "schema = StructType([StructField(\"id\",StringType(),False),     StructField(\"topic\",StringType(),True),     StructField(\"subtopic\",StringType(),True),     StructField(\"sourceName\",StringType(),True),     StructField(\"author\",StringType(),True),     StructField(\"title\", StringType(), True),     StructField(\"description\", StringType(), True),     StructField(\"url\", StringType(), True),     StructField(\"urlToImage\",StringType(),True),     StructField(\"content\",StringType(),True),     StructField(\"publishedAt\", TimestampType(), True),     StructField(\"inserted_to_CosmosDB_datetime\",TimestampType(),True),     StructField(\"inserted_to_CosmosDB_ts\", LongType(), True),      StructField(\"domainname\", StringType(), True),     StructField(\"language\", StringType(), True),     StructField(\"Type\", StringType(), True)])\n",
        "dfNewsArticles = spark.createDataFrame(lstNewsArticles, schema)\n",
        "dfNewsArticles.createOrReplaceTempView(\"dfNewsArticles\")"
      ]
    },
    {
      "cell_type": "code",
      "execution_count": 20,
      "outputs": [
        {
          "output_type": "display_data",
          "data": {
            "application/vnd.livy.statement-meta+json": {
              "spark_pool": "smasparkpool",
              "session_id": 402,
              "statement_id": 23,
              "state": "finished",
              "livy_statement_state": "available",
              "queued_time": "2022-03-08T07:54:09.5710908Z",
              "session_start_time": null,
              "execution_start_time": "2022-03-08T07:54:12.2324622Z",
              "execution_finish_time": "2022-03-08T07:54:19.715943Z"
            },
            "text/plain": "StatementMeta(smasparkpool, 402, 23, Finished, Available)"
          },
          "metadata": {}
        },
        {
          "output_type": "stream",
          "name": "stdout",
          "text": "991 news articles to process."
        }
      ],
      "metadata": {},
      "source": [
        "if dfNewsArticles.count() == 0 :\n",
        "  print(\"Didn't capture news articles.\")\n",
        "  #dbutils.notebook.exit(0)\n",
        "else:\n",
        "  print(str(dfNewsArticles.count()) + \" news articles to process.\")"
      ]
    },
    {
      "cell_type": "markdown",
      "metadata": {},
      "source": [
        "# Synapse Data Ingestion"
      ]
    },
    {
      "cell_type": "code",
      "execution_count": 21,
      "outputs": [
        {
          "output_type": "display_data",
          "data": {
            "application/vnd.livy.statement-meta+json": {
              "spark_pool": "smasparkpool",
              "session_id": 402,
              "statement_id": 24,
              "state": "finished",
              "livy_statement_state": "available",
              "queued_time": "2022-03-08T07:54:09.6332888Z",
              "session_start_time": null,
              "execution_start_time": "2022-03-08T07:54:20.2811375Z",
              "execution_finish_time": "2022-03-08T07:54:40.4847786Z"
            },
            "text/plain": "StatementMeta(smasparkpool, 402, 24, Finished, Available)"
          },
          "metadata": {}
        },
        {
          "output_type": "stream",
          "name": "stdout",
          "text": "scala_dfNewsArticles: org.apache.spark.sql.DataFrame = [id: string, topic: string ... 14 more fields]\nwarning: there was one deprecation warning; for details, enable `:setting -deprecation' or `:replay -deprecation'\n"
        }
      ],
      "metadata": {
        "microsoft": {
          "language": "scala"
        }
      },
      "source": [
        "%%spark\n",
        "val scala_dfNewsArticles = spark.sqlContext.sql (\"select * from dfNewsArticles\")\n",
        "scala_dfNewsArticles.write.synapsesql(DB_NAME+\".stg.[Articles]\", Constants.INTERNAL)"
      ]
    },
    {
      "cell_type": "code",
      "execution_count": 22,
      "outputs": [
        {
          "output_type": "display_data",
          "data": {
            "application/vnd.livy.statement-meta+json": {
              "spark_pool": "smasparkpool",
              "session_id": 402,
              "statement_id": 25,
              "state": "finished",
              "livy_statement_state": "available",
              "queued_time": "2022-03-08T07:54:09.8852247Z",
              "session_start_time": null,
              "execution_start_time": "2022-03-08T07:54:40.8724947Z",
              "execution_finish_time": "2022-03-08T07:54:48.1530872Z"
            },
            "text/plain": "StatementMeta(smasparkpool, 402, 25, Finished, Available)"
          },
          "metadata": {}
        },
        {
          "output_type": "stream",
          "name": "stdout",
          "text": "scala_dfEntities: org.apache.spark.sql.DataFrame = [id: string, category: string ... 5 more fields]\nwarning: there was one deprecation warning; for details, enable `:setting -deprecation' or `:replay -deprecation'\n"
        }
      ],
      "metadata": {
        "microsoft": {
          "language": "scala"
        }
      },
      "source": [
        "%%spark\n",
        "val scala_dfEntities = spark.sqlContext.sql (\"select * from dfEntities\")\n",
        "scala_dfEntities.write.synapsesql(DB_NAME+\".stg.[ArticlesEntities]\", Constants.INTERNAL)"
      ]
    },
    {
      "cell_type": "code",
      "execution_count": 23,
      "outputs": [
        {
          "output_type": "display_data",
          "data": {
            "application/vnd.livy.statement-meta+json": {
              "spark_pool": "smasparkpool",
              "session_id": 402,
              "statement_id": 26,
              "state": "finished",
              "livy_statement_state": "available",
              "queued_time": "2022-03-08T07:54:10.0063781Z",
              "session_start_time": null,
              "execution_start_time": "2022-03-08T07:54:48.5326313Z",
              "execution_finish_time": "2022-03-08T07:54:54.0282479Z"
            },
            "text/plain": "StatementMeta(smasparkpool, 402, 26, Finished, Available)"
          },
          "metadata": {}
        },
        {
          "output_type": "stream",
          "name": "stdout",
          "text": "scala_dfSentiment: org.apache.spark.sql.DataFrame = [id: string, sentiment: string ... 2 more fields]\nwarning: there was one deprecation warning; for details, enable `:setting -deprecation' or `:replay -deprecation'\n"
        }
      ],
      "metadata": {
        "microsoft": {
          "language": "scala"
        }
      },
      "source": [
        "%%spark\n",
        "val scala_dfSentiment = spark.sqlContext.sql (\"select * from dfSentiment\")\n",
        "scala_dfSentiment.write.synapsesql(DB_NAME+\".stg.[ArticlesSentiments]\", Constants.INTERNAL)"
      ]
    },
    {
      "cell_type": "code",
      "execution_count": 25,
      "outputs": [
        {
          "output_type": "display_data",
          "data": {
            "application/vnd.livy.statement-meta+json": {
              "spark_pool": "smasparkpool",
              "session_id": 402,
              "statement_id": 28,
              "state": "finished",
              "livy_statement_state": "available",
              "queued_time": "2022-03-08T07:58:32.6881978Z",
              "session_start_time": null,
              "execution_start_time": "2022-03-08T07:58:33.3059532Z",
              "execution_finish_time": "2022-03-08T07:58:40.5005219Z"
            },
            "text/plain": "StatementMeta(smasparkpool, 402, 28, Finished, Available)"
          },
          "metadata": {}
        },
        {
          "output_type": "stream",
          "name": "stdout",
          "text": "scala_dfTranslations: org.apache.spark.sql.DataFrame = [id: string, Language: string ... 4 more fields]\nwarning: there was one deprecation warning; for details, enable `:setting -deprecation' or `:replay -deprecation'\n"
        }
      ],
      "metadata": {
        "microsoft": {
          "language": "scala"
        }
      },
      "source": [
        "%%spark\n",
        "val scala_dfTranslations = spark.sqlContext.sql (\"select * from dfTranslations\")\n",
        "scala_dfTranslations.write.synapsesql(DB_NAME+\".stg.[ArticlesTranslations]\", Constants.INTERNAL)"
      ]
    },
    {
      "cell_type": "code",
      "execution_count": null,
      "outputs": [],
      "metadata": {
        "jupyter": {
          "source_hidden": false,
          "outputs_hidden": false
        },
        "nteract": {
          "transient": {
            "deleting": false
          }
        }
      },
      "source": [
        ""
      ]
    }
  ],
  "metadata": {
    "description": null,
    "save_output": true,
    "kernelspec": {
      "name": "synapse_pyspark",
      "display_name": "Synapse PySpark"
    },
    "language_info": {
      "name": "python"
    },
    "synapse_widget": {
      "version": "0.1",
      "state": {}
    }
  }
}