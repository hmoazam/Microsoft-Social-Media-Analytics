{
  "nbformat": 4,
  "nbformat_minor": 2,
  "cells": [
    {
      "cell_type": "code",
      "execution_count": 190,
      "outputs": [
        {
          "output_type": "display_data",
          "data": {
            "application/vnd.livy.statement-meta+json": {
              "spark_pool": "smasparkpool",
              "session_id": 279,
              "statement_id": 23,
              "state": "finished",
              "livy_statement_state": "available",
              "queued_time": "2022-03-06T13:44:50.0028884Z",
              "session_start_time": null,
              "execution_start_time": "2022-03-06T13:44:50.3898271Z",
              "execution_finish_time": "2022-03-06T13:44:50.3901604Z"
            },
            "text/plain": "StatementMeta(smasparkpool, 279, 23, Finished, Available)"
          },
          "metadata": {}
        }
      ],
      "metadata": {},
      "source": [
        "import os\r\n",
        "from dateutil.parser import parse\r\n",
        "from datetime import datetime, timedelta \r\n",
        "from pyspark.sql.types import StructType, StructField, IntegerType,StringType,DateType, LongType, DecimalType,TimestampType, BooleanType,FloatType\r\n",
        "from urllib.parse import urlparse\r\n",
        "from azure.cosmos import CosmosClient"
      ]
    },
    {
      "cell_type": "code",
      "execution_count": 191,
      "outputs": [
        {
          "output_type": "display_data",
          "data": {
            "application/vnd.livy.statement-meta+json": {
              "spark_pool": null,
              "session_id": 279,
              "statement_id": -1,
              "state": "finished",
              "livy_statement_state": "available",
              "queued_time": "2022-03-06T13:44:50.229979Z",
              "session_start_time": null,
              "execution_start_time": "2022-03-06T13:44:53.0894503Z",
              "execution_finish_time": "2022-03-06T13:44:53.0897733Z"
            },
            "text/plain": "StatementMeta(, 279, -1, Finished, Available)"
          },
          "metadata": {}
        },
        {
          "output_type": "stream",
          "name": "stdout",
          "text": "DB_NAME: String = synsqlpoolsmapoc\n"
        }
      ],
      "metadata": {
        "jupyter": {
          "source_hidden": false,
          "outputs_hidden": false
        },
        "nteract": {
          "transient": {
            "deleting": false
          }
        }
      },
      "source": [
        "%run \"config\""
      ]
    },
    {
      "cell_type": "code",
      "execution_count": 192,
      "outputs": [
        {
          "output_type": "display_data",
          "data": {
            "application/vnd.livy.statement-meta+json": {
              "spark_pool": "smasparkpool",
              "session_id": 279,
              "statement_id": 26,
              "state": "finished",
              "livy_statement_state": "available",
              "queued_time": "2022-03-06T13:44:50.4009038Z",
              "session_start_time": null,
              "execution_start_time": "2022-03-06T13:44:53.4794609Z",
              "execution_finish_time": "2022-03-06T13:44:53.9048359Z"
            },
            "text/plain": "StatementMeta(smasparkpool, 279, 26, Finished, Available)"
          },
          "metadata": {}
        }
      ],
      "metadata": {
        "jupyter": {
          "source_hidden": false,
          "outputs_hidden": false
        },
        "nteract": {
          "transient": {
            "deleting": false
          }
        }
      },
      "source": [
        "# Connect to Cosmos\r\n",
        "client = CosmosClient(COSMOS_URL, {'masterKey': COSMOS_KEY})\r\n",
        "database = client.get_database_client(COSMOS_DATABASE_NAME)\r\n",
        "rss_container_client = database.get_container_client(container=COSMOS_RSS_FEEDS_CONTAINER_NAME)"
      ]
    },
    {
      "cell_type": "code",
      "execution_count": 193,
      "outputs": [
        {
          "output_type": "display_data",
          "data": {
            "application/vnd.livy.statement-meta+json": {
              "spark_pool": "smasparkpool",
              "session_id": 279,
              "statement_id": 27,
              "state": "finished",
              "livy_statement_state": "available",
              "queued_time": "2022-03-06T13:44:51.203523Z",
              "session_start_time": null,
              "execution_start_time": "2022-03-06T13:44:55.7896468Z",
              "execution_finish_time": "2022-03-06T13:44:58.4110244Z"
            },
            "text/plain": "StatementMeta(smasparkpool, 279, 27, Finished, Available)"
          },
          "metadata": {}
        }
      ],
      "metadata": {
        "jupyter": {
          "source_hidden": false,
          "outputs_hidden": false
        },
        "nteract": {
          "transient": {
            "deleting": false
          }
        }
      },
      "source": [
        "last_inserted_ts = 0\r\n",
        "\r\n",
        "jdbc_url = \"jdbc:sqlserver://\" + SYNAPSE_WORKSPACE_NAME + \".sql.azuresynapse.net:1433;database=\" + DB_NAME + \";encrypt=true;trustServerCertificate=true;hostNameInCertificate=*.sql.azuresynapse.net;loginTimeout=30;\"\r\n",
        "\r\n",
        "jdbcDF = spark.read \\\r\n",
        "    .format(\"jdbc\") \\\r\n",
        "    .option(\"url\", jdbc_url) \\\r\n",
        "    .option(\"query\", \"SELECT MAX(inserted_to_CosmosDB_ts) AS outp FROM dbo.RSSArticles\") \\\r\n",
        "    .option(\"user\", SQL_USERNAME) \\\r\n",
        "    .option(\"password\", SQL_PASSWORD) \\\r\n",
        "    .load()\r\n",
        "\r\n",
        "try:\r\n",
        "    last_inserted_ts = jdbcDF.first()[0]\r\n",
        "except: \r\n",
        "    last_inserted_ts = 0\r\n",
        "\r\n",
        "if not(last_inserted_ts): # if the table is empty get back None\r\n",
        "    last_inserted_ts = 0"
      ]
    },
    {
      "cell_type": "code",
      "execution_count": 194,
      "outputs": [
        {
          "output_type": "display_data",
          "data": {
            "application/vnd.livy.statement-meta+json": {
              "spark_pool": "smasparkpool",
              "session_id": 279,
              "statement_id": 28,
              "state": "finished",
              "livy_statement_state": "available",
              "queued_time": "2022-03-06T13:44:52.1132357Z",
              "session_start_time": null,
              "execution_start_time": "2022-03-06T13:44:58.9192209Z",
              "execution_finish_time": "2022-03-06T13:44:59.3549609Z"
            },
            "text/plain": "StatementMeta(smasparkpool, 279, 28, Finished, Available)"
          },
          "metadata": {}
        },
        {
          "output_type": "display_data",
          "data": {
            "text/plain": "1646569165"
          },
          "metadata": {}
        }
      ],
      "metadata": {
        "jupyter": {
          "source_hidden": false,
          "outputs_hidden": false
        },
        "nteract": {
          "transient": {
            "deleting": false
          }
        }
      },
      "source": [
        "last_inserted_ts"
      ]
    },
    {
      "cell_type": "code",
      "execution_count": 195,
      "outputs": [
        {
          "output_type": "display_data",
          "data": {
            "application/vnd.livy.statement-meta+json": {
              "spark_pool": "smasparkpool",
              "session_id": 279,
              "statement_id": 29,
              "state": "finished",
              "livy_statement_state": "available",
              "queued_time": "2022-03-06T13:44:54.4580463Z",
              "session_start_time": null,
              "execution_start_time": "2022-03-06T13:44:59.7357037Z",
              "execution_finish_time": "2022-03-06T13:45:00.15081Z"
            },
            "text/plain": "StatementMeta(smasparkpool, 279, 29, Finished, Available)"
          },
          "metadata": {}
        }
      ],
      "metadata": {
        "jupyter": {
          "source_hidden": false,
          "outputs_hidden": false
        },
        "nteract": {
          "transient": {
            "deleting": false
          }
        }
      },
      "source": [
        "LANGUAGE_CODES={\"All\":\"\",\"Afrikaans\":\"af\",\"Arabic\":\"ar\",\"Assamese\":\"as\",\"Bangla\":\"bn\",\"Bosnian(Latin)\":\"bs\",\"Bulgarian\":\"bg\",\"Cantonese(Traditional)\":\"yue\",\"Catalan\":\"ca\",\"Chinese Simplified\":\"zh-Hans\",\"Chinese Traditional\":\"zh-Hant\",\"Croatian\":\"hr\",\"Czech\":\"cs\",\"Dari\":\"prs\",\"Danish\":\"da\",\"Dutch\":\"nl\",\"English\":\"en\",\"Estonian\":\"et\",\"Fijian\":\"fj\",\"Filipino\":\"fil\",\"Finnish\":\"fi\",\"French\":\"fr\",\"German\":\"de\",\"Greek\":\"el\",\"Gujarati\":\"gu\",\"Haitian Creole\":\"ht\",\"Hebrew\":\"he\",\"Hindi\":\"hi\",\"Hmong Daw\":\"mww\",\"Hungarian\":\"hu\",\"Icelandic\":\"is\",\"Indonesian\":\"id\",\"Irish\":\"ga\",\"Italian\":\"it\",\"Japanese\":\"ja\",\"Kannada\":\"kn\",\"Kazakh\":\"kk\",\"Klingon\":\"tlh-Latn\",\"Klingon(plqaD)\":\"tlh-Piqd\",\"Korean\":\"ko\",\"Kurdish(Central)\":\"ku\",\"Kurdish(Northern)\":\"kmr\",\"Latvian\":\"lv\",\"Lithuanian\":\"lt\",\"Malagasy\":\"mg\",\"Malay\":\"ms\",\"Malayalam\":\"ml\",\"Maltese\":\"mt\",\"Maori\":\"mi\",\"Marathi\":\"mr\",\"Norwegian\":\"nb\",\"Odia\":\"or\",\"Pashto\":\"ps\",\"Persian\":\"fa\",\"Polish\":\"pl\",\"Portuguese(Brazil)\":\"pt-br\",\"Portuguese(Portugal)\":\"pt-pt\",\"Punjabi\":\"pa\",\"Queretaro Otomi\":\"otq\",\"Romanian\":\"ro\",\"Russian\":\"ru\",\"Samoan\":\"sm\",\"Serbian(Cyrillic)\":\"sr-Cyrl\",\"Serbian(Latin)\":\"sr-Latn\",\"Slovak\":\"sk\",\"Slovenian\":\"sl\",\"Spanish\":\"es\",\"Swahili\":\"sw\",\"Swedish\":\"sv\",\"Tahitian\":\"ty\",\"Tamil\":\"ta\",\"Telugu\":\"te\",\"Thai\":\"th\",\"Tongan\":\"to\",\"Turkish\":\"tr\",\"Ukrainian\":\"uk\",\"Urdu\":\"ur\",\"Vietnamese\":\"vi\",\"Welsh\":\"cy\",\"Yucatec Maya\":\"yua\"}\r\n",
        "LANGUAGE_CODES = {v: k for (k, v) in LANGUAGE_CODES.items()}"
      ]
    },
    {
      "cell_type": "code",
      "execution_count": 196,
      "outputs": [
        {
          "output_type": "display_data",
          "data": {
            "application/vnd.livy.statement-meta+json": {
              "spark_pool": "smasparkpool",
              "session_id": 279,
              "statement_id": 30,
              "state": "finished",
              "livy_statement_state": "available",
              "queued_time": "2022-03-06T13:45:05.2516815Z",
              "session_start_time": null,
              "execution_start_time": "2022-03-06T13:45:05.664955Z",
              "execution_finish_time": "2022-03-06T13:45:06.170747Z"
            },
            "text/plain": "StatementMeta(smasparkpool, 279, 30, Finished, Available)"
          },
          "metadata": {}
        }
      ],
      "metadata": {
        "jupyter": {
          "source_hidden": false,
          "outputs_hidden": false
        },
        "nteract": {
          "transient": {
            "deleting": false
          }
        }
      },
      "source": [
        "# query = \"SELECT items.summary_translations, items.published_parsed, items.img, items.news_feed, items.inserted_to_CosmosDB_at, items.inserted_to_CosmosDB_ts, items.summary_ner, items.sentiment, items.sentiment_score, items.published_ts, items.published_ts_str, items.img, items.link\"\r\n",
        "query = \"SELECT * FROM items where items.inserted_to_CosmosDB_ts > \" + str(last_inserted_ts)\r\n",
        "\r\n",
        "lst_articles, lst_translations, lst_entities, lst_sentiment = ([] for i in range(4))"
      ]
    },
    {
      "cell_type": "code",
      "execution_count": 197,
      "outputs": [
        {
          "output_type": "display_data",
          "data": {
            "application/vnd.livy.statement-meta+json": {
              "spark_pool": "smasparkpool",
              "session_id": 279,
              "statement_id": 31,
              "state": "finished",
              "livy_statement_state": "available",
              "queued_time": "2022-03-06T13:45:07.1722756Z",
              "session_start_time": null,
              "execution_start_time": "2022-03-06T13:45:07.5604663Z",
              "execution_finish_time": "2022-03-06T13:45:07.9755136Z"
            },
            "text/plain": "StatementMeta(smasparkpool, 279, 31, Finished, Available)"
          },
          "metadata": {}
        }
      ],
      "metadata": {
        "jupyter": {
          "source_hidden": false,
          "outputs_hidden": false
        },
        "nteract": {
          "transient": {
            "deleting": false
          }
        }
      },
      "source": [
        "datetime_now = datetime.now() # UTC time"
      ]
    },
    {
      "cell_type": "code",
      "execution_count": 198,
      "outputs": [
        {
          "output_type": "display_data",
          "data": {
            "application/vnd.livy.statement-meta+json": {
              "spark_pool": "smasparkpool",
              "session_id": 279,
              "statement_id": 32,
              "state": "finished",
              "livy_statement_state": "available",
              "queued_time": "2022-03-06T13:45:08.578501Z",
              "session_start_time": null,
              "execution_start_time": "2022-03-06T13:45:08.9675346Z",
              "execution_finish_time": "2022-03-06T13:45:09.3821613Z"
            },
            "text/plain": "StatementMeta(smasparkpool, 279, 32, Finished, Available)"
          },
          "metadata": {}
        }
      ],
      "metadata": {
        "jupyter": {
          "source_hidden": false,
          "outputs_hidden": false
        },
        "nteract": {
          "transient": {
            "deleting": false
          }
        }
      },
      "source": [
        "for article in rss_container_client.query_items(query, enable_cross_partition_query=True):\r\n",
        "    \r\n",
        "    published_at = parse(article[\"published_ts_str\"]) # converts to datetime? # UTC +3 (local time)\r\n",
        "    inserted_to_cosmos_ts = datetime.fromtimestamp(article['inserted_to_CosmosDB_ts']) # UTC\r\n",
        "    inserted_to_cosmos_ts_int = article['inserted_to_CosmosDB_ts']\r\n",
        "\r\n",
        "    # originals\r\n",
        "    id_ = article[\"id\"]\r\n",
        "    title = article[\"title\"] \r\n",
        "    summary = article[\"summary\"]\r\n",
        "    source = article[\"news_feed\"]\r\n",
        "    url = article[\"link\"]\r\n",
        "    img_url = article[\"img\"]\r\n",
        "\r\n",
        "    # processed objects\r\n",
        "    title_translated = article[\"title_translated\"]\r\n",
        "    summary_translated = article[\"summary_translations\"]\r\n",
        "    summary_entities = article[\"summary_ner\"]\r\n",
        "\r\n",
        "    sentiment = article[\"sentiment\"]\r\n",
        "    sentiment_score = float(article[\"sentiment_score\"])\r\n",
        "\r\n",
        "    topic = article[\"topic\"]\r\n",
        "    subtopic = article[\"subtopic\"]\r\n",
        "\r\n",
        "    # populate RSSArticles\r\n",
        "    lst_articles.append([id_, source, title, summary, url, img_url, published_at, datetime_now, inserted_to_cosmos_ts, inserted_to_cosmos_ts_int, topic, subtopic])\r\n",
        "\r\n",
        "    # populate RSSArticlesEntities\r\n",
        "    langs = summary_entities.keys()\r\n",
        "    for lang in langs: \r\n",
        "        entities = summary_entities[lang]\r\n",
        "        for ent in entities: \r\n",
        "            lst_entities.append([id_, lang, ent[\"category\"], ent[\"subcategory\"], ent[\"text\"], ent[\"confidence_score\"], published_at])\r\n",
        "    \r\n",
        "    # populate RSSArticlesSentiments\r\n",
        "    lst_sentiment.append([id_, sentiment, sentiment_score, published_at])\r\n",
        "\r\n",
        "    # populate RSSArticlesSummaryTranslations\r\n",
        "    # langs = summary_translated.keys()\r\n",
        "    # for lang in langs: \r\n",
        "    #     summary_ = summary_translated[lang]\r\n",
        "    #     lst_summary_translations.append([id_, lang, summary_, published_at])\r\n",
        "    \r\n",
        "    # populate RSSArticlesTranslations\r\n",
        "    langs = title_translated.keys()\r\n",
        "    for lang in langs: \r\n",
        "        title_ = title_translated[lang]\r\n",
        "        summary_ = summary_translated[lang]\r\n",
        "        lst_translations.append([id_, lang, title_, summary_, published_at])\r\n",
        ""
      ]
    },
    {
      "cell_type": "code",
      "execution_count": 200,
      "outputs": [
        {
          "output_type": "display_data",
          "data": {
            "application/vnd.livy.statement-meta+json": {
              "spark_pool": "smasparkpool",
              "session_id": 279,
              "statement_id": 34,
              "state": "finished",
              "livy_statement_state": "available",
              "queued_time": "2022-03-06T13:45:25.3035222Z",
              "session_start_time": null,
              "execution_start_time": "2022-03-06T13:45:25.6982319Z",
              "execution_finish_time": "2022-03-06T13:45:26.1205229Z"
            },
            "text/plain": "StatementMeta(smasparkpool, 279, 34, Finished, Available)"
          },
          "metadata": {}
        }
      ],
      "metadata": {
        "jupyter": {
          "source_hidden": false,
          "outputs_hidden": false
        },
        "nteract": {
          "transient": {
            "deleting": false
          }
        }
      },
      "source": [
        "# Create spark dataframes\r\n",
        "schema_rss_articles = StructType([\r\n",
        "    StructField(\"id\", StringType(), False),\r\n",
        "    StructField(\"source\", StringType(), True),\r\n",
        "    StructField(\"title\", StringType(), True),\r\n",
        "    StructField(\"summary\", StringType(), True),\r\n",
        "    StructField(\"url\", StringType(), True),\r\n",
        "    StructField(\"img_url\", StringType(), True),\r\n",
        "    StructField(\"published_at\", TimestampType(), True),\r\n",
        "    StructField(\"inserted_datetime\", TimestampType(), True),\r\n",
        "    StructField(\"inserted_to_CosmosDB_datetime\", TimestampType(), True),\r\n",
        "    StructField(\"inserted_to_CosmosDB_ts\", LongType(), True),\r\n",
        "    StructField(\"topic\", StringType(), True),\r\n",
        "    StructField(\"subtopic\", StringType(), True)\r\n",
        "])\r\n",
        "df_rss_articles = spark.createDataFrame(lst_articles, schema_rss_articles)\r\n",
        "df_rss_articles.createOrReplaceTempView(\"df_rss_articles\")\r\n",
        "\r\n",
        ""
      ]
    },
    {
      "cell_type": "code",
      "execution_count": 201,
      "outputs": [
        {
          "output_type": "display_data",
          "data": {
            "application/vnd.livy.statement-meta+json": {
              "spark_pool": "smasparkpool",
              "session_id": 279,
              "statement_id": 35,
              "state": "finished",
              "livy_statement_state": "available",
              "queued_time": "2022-03-06T13:45:25.506812Z",
              "session_start_time": null,
              "execution_start_time": "2022-03-06T13:45:26.5022318Z",
              "execution_finish_time": "2022-03-06T13:45:26.9179096Z"
            },
            "text/plain": "StatementMeta(smasparkpool, 279, 35, Finished, Available)"
          },
          "metadata": {}
        }
      ],
      "metadata": {
        "jupyter": {
          "source_hidden": false,
          "outputs_hidden": false
        },
        "nteract": {
          "transient": {
            "deleting": false
          }
        }
      },
      "source": [
        "schema_rss_articles_entities = StructType([\r\n",
        "    StructField(\"id\", StringType(), False),\r\n",
        "    StructField(\"language\", StringType(), True),\r\n",
        "    StructField(\"category\", StringType(), True),\r\n",
        "    StructField(\"subcategory\", StringType(), True),\r\n",
        "    StructField(\"value\", StringType(), True),\r\n",
        "    StructField(\"confidence_score\", FloatType(), True),\r\n",
        "    StructField(\"created_datetime\", TimestampType(), True)\r\n",
        "])\r\n",
        "df_rss_articles_entities = spark.createDataFrame(lst_entities, schema_rss_articles_entities)\r\n",
        "df_rss_articles_entities.createOrReplaceTempView(\"df_rss_articles_entities\")"
      ]
    },
    {
      "cell_type": "code",
      "execution_count": 202,
      "outputs": [
        {
          "output_type": "display_data",
          "data": {
            "application/vnd.livy.statement-meta+json": {
              "spark_pool": "smasparkpool",
              "session_id": 279,
              "statement_id": 36,
              "state": "finished",
              "livy_statement_state": "available",
              "queued_time": "2022-03-06T13:45:25.6679406Z",
              "session_start_time": null,
              "execution_start_time": "2022-03-06T13:45:27.3039603Z",
              "execution_finish_time": "2022-03-06T13:45:27.7297412Z"
            },
            "text/plain": "StatementMeta(smasparkpool, 279, 36, Finished, Available)"
          },
          "metadata": {}
        }
      ],
      "metadata": {
        "jupyter": {
          "source_hidden": false,
          "outputs_hidden": false
        },
        "nteract": {
          "transient": {
            "deleting": false
          }
        }
      },
      "source": [
        "schema_rss_articles_sentiments = StructType([\r\n",
        "    StructField(\"id\", StringType(), False),\r\n",
        "    StructField(\"sentiment\", StringType(), True),\r\n",
        "    StructField(\"overallscore\", FloatType(), True),\r\n",
        "    StructField(\"created_datetime\", TimestampType(), True)\r\n",
        "])\r\n",
        "df_rss_articles_sentiments = spark.createDataFrame(lst_sentiment, schema_rss_articles_sentiments)\r\n",
        "df_rss_articles_sentiments.createOrReplaceTempView(\"df_rss_articles_sentiments\")"
      ]
    },
    {
      "cell_type": "code",
      "execution_count": 203,
      "outputs": [
        {
          "output_type": "display_data",
          "data": {
            "application/vnd.livy.statement-meta+json": {
              "spark_pool": "smasparkpool",
              "session_id": 279,
              "statement_id": 37,
              "state": "finished",
              "livy_statement_state": "available",
              "queued_time": "2022-03-06T13:45:25.8239114Z",
              "session_start_time": null,
              "execution_start_time": "2022-03-06T13:45:28.116822Z",
              "execution_finish_time": "2022-03-06T13:45:28.1171215Z"
            },
            "text/plain": "StatementMeta(smasparkpool, 279, 37, Finished, Available)"
          },
          "metadata": {}
        }
      ],
      "metadata": {
        "jupyter": {
          "source_hidden": false,
          "outputs_hidden": false
        },
        "nteract": {
          "transient": {
            "deleting": false
          }
        }
      },
      "source": [
        "# schema_rss_articles_summary_translations = StructType([\r\n",
        "#     StructField(\"id\", StringType(), False),\r\n",
        "#     StructField(\"Language\", StringType(), True),\r\n",
        "#     StructField(\"Text\", StringType(), True),\r\n",
        "#     StructField(\"created_datetime\", TimestampType(), True),\r\n",
        "# ])\r\n",
        "# df_rss_articles_summary_translations = spark.createDataFrame(lst_summary_translations, schema_rss_articles_summary_translations)\r\n",
        "# df_rss_articles_summary_translations.createOrReplaceTempView(\"df_rss_articles_summary_translations\")"
      ]
    },
    {
      "cell_type": "code",
      "execution_count": 204,
      "outputs": [
        {
          "output_type": "display_data",
          "data": {
            "application/vnd.livy.statement-meta+json": {
              "spark_pool": "smasparkpool",
              "session_id": 279,
              "statement_id": 38,
              "state": "finished",
              "livy_statement_state": "available",
              "queued_time": "2022-03-06T13:45:25.9564686Z",
              "session_start_time": null,
              "execution_start_time": "2022-03-06T13:45:28.5017906Z",
              "execution_finish_time": "2022-03-06T13:45:28.9560888Z"
            },
            "text/plain": "StatementMeta(smasparkpool, 279, 38, Finished, Available)"
          },
          "metadata": {}
        }
      ],
      "metadata": {
        "jupyter": {
          "source_hidden": false,
          "outputs_hidden": false
        },
        "nteract": {
          "transient": {
            "deleting": false
          }
        }
      },
      "source": [
        "schema_rss_articles_translations = StructType([\r\n",
        "    StructField(\"id\", StringType(), False),\r\n",
        "    StructField(\"Language\", StringType(), True),\r\n",
        "    StructField(\"Title\", StringType(), True),\r\n",
        "    StructField(\"Summary\", StringType(), True),\r\n",
        "    StructField(\"created_datetime\", TimestampType(), True)\r\n",
        "])\r\n",
        "df_rss_articles_translations = spark.createDataFrame(lst_translations, schema_rss_articles_translations)\r\n",
        "df_rss_articles_translations.createOrReplaceTempView(\"df_rss_articles_translations\")"
      ]
    },
    {
      "cell_type": "code",
      "execution_count": 205,
      "outputs": [
        {
          "output_type": "display_data",
          "data": {
            "application/vnd.livy.statement-meta+json": {
              "spark_pool": "smasparkpool",
              "session_id": 279,
              "statement_id": 39,
              "state": "finished",
              "livy_statement_state": "available",
              "queued_time": "2022-03-06T13:45:26.0958896Z",
              "session_start_time": null,
              "execution_start_time": "2022-03-06T13:45:29.3480347Z",
              "execution_finish_time": "2022-03-06T13:45:38.6877604Z"
            },
            "text/plain": "StatementMeta(smasparkpool, 279, 39, Finished, Available)"
          },
          "metadata": {}
        },
        {
          "output_type": "stream",
          "name": "stdout",
          "text": "scala_df_articles: org.apache.spark.sql.DataFrame = [id: string, source: string ... 10 more fields]\nwarning: there was one deprecation warning; for details, enable `:setting -deprecation' or `:replay -deprecation'\n"
        }
      ],
      "metadata": {
        "jupyter": {
          "source_hidden": false,
          "outputs_hidden": false
        },
        "nteract": {
          "transient": {
            "deleting": false
          }
        },
        "microsoft": {
          "language": "scala"
        }
      },
      "source": [
        "%%spark\r\n",
        "val scala_df_articles = spark.sqlContext.sql (\"select * from df_rss_articles\")\r\n",
        "scala_df_articles.write.synapsesql(DB_NAME+\".stg.[RSSArticles]\", Constants.INTERNAL)"
      ]
    },
    {
      "cell_type": "code",
      "execution_count": 206,
      "outputs": [
        {
          "output_type": "display_data",
          "data": {
            "application/vnd.livy.statement-meta+json": {
              "spark_pool": "smasparkpool",
              "session_id": 279,
              "statement_id": 40,
              "state": "finished",
              "livy_statement_state": "available",
              "queued_time": "2022-03-06T13:45:26.2525215Z",
              "session_start_time": null,
              "execution_start_time": "2022-03-06T13:45:39.1695046Z",
              "execution_finish_time": "2022-03-06T13:45:44.8468896Z"
            },
            "text/plain": "StatementMeta(smasparkpool, 279, 40, Finished, Available)"
          },
          "metadata": {}
        },
        {
          "output_type": "stream",
          "name": "stdout",
          "text": "scala_df_entities: org.apache.spark.sql.DataFrame = [id: string, language: string ... 5 more fields]\nwarning: there was one deprecation warning; for details, enable `:setting -deprecation' or `:replay -deprecation'\n"
        }
      ],
      "metadata": {
        "jupyter": {
          "source_hidden": false,
          "outputs_hidden": false
        },
        "nteract": {
          "transient": {
            "deleting": false
          }
        },
        "microsoft": {
          "language": "scala"
        }
      },
      "source": [
        "%%spark \r\n",
        "val scala_df_entities = spark.sqlContext.sql (\"select * from df_rss_articles_entities\")\r\n",
        "scala_df_entities.write.synapsesql(DB_NAME+\".stg.[RSSArticlesEntities]\", Constants.INTERNAL)"
      ]
    },
    {
      "cell_type": "code",
      "execution_count": 207,
      "outputs": [
        {
          "output_type": "display_data",
          "data": {
            "application/vnd.livy.statement-meta+json": {
              "spark_pool": "smasparkpool",
              "session_id": 279,
              "statement_id": 41,
              "state": "finished",
              "livy_statement_state": "available",
              "queued_time": "2022-03-06T13:45:26.3753247Z",
              "session_start_time": null,
              "execution_start_time": "2022-03-06T13:45:45.2354432Z",
              "execution_finish_time": "2022-03-06T13:45:50.8169488Z"
            },
            "text/plain": "StatementMeta(smasparkpool, 279, 41, Finished, Available)"
          },
          "metadata": {}
        },
        {
          "output_type": "stream",
          "name": "stdout",
          "text": "scala_df_sentiments: org.apache.spark.sql.DataFrame = [id: string, sentiment: string ... 2 more fields]\nwarning: there was one deprecation warning; for details, enable `:setting -deprecation' or `:replay -deprecation'\n"
        }
      ],
      "metadata": {
        "jupyter": {
          "source_hidden": false,
          "outputs_hidden": false
        },
        "nteract": {
          "transient": {
            "deleting": false
          }
        },
        "microsoft": {
          "language": "scala"
        }
      },
      "source": [
        "%%spark\r\n",
        "val scala_df_sentiments = spark.sqlContext.sql (\"select * from df_rss_articles_sentiments\")\r\n",
        "scala_df_sentiments.write.synapsesql(DB_NAME+\".stg.[RSSArticlesSentiments]\", Constants.INTERNAL)"
      ]
    },
    {
      "cell_type": "code",
      "execution_count": 208,
      "outputs": [
        {
          "output_type": "display_data",
          "data": {
            "application/vnd.livy.statement-meta+json": {
              "spark_pool": "smasparkpool",
              "session_id": 279,
              "statement_id": 42,
              "state": "finished",
              "livy_statement_state": "available",
              "queued_time": "2022-03-06T13:45:26.9730763Z",
              "session_start_time": null,
              "execution_start_time": "2022-03-06T13:45:51.1973783Z",
              "execution_finish_time": "2022-03-06T13:45:56.9873484Z"
            },
            "text/plain": "StatementMeta(smasparkpool, 279, 42, Finished, Available)"
          },
          "metadata": {}
        },
        {
          "output_type": "stream",
          "name": "stdout",
          "text": "scala_df_translations: org.apache.spark.sql.DataFrame = [id: string, Language: string ... 3 more fields]\nwarning: there was one deprecation warning; for details, enable `:setting -deprecation' or `:replay -deprecation'\n"
        }
      ],
      "metadata": {
        "jupyter": {
          "source_hidden": false,
          "outputs_hidden": false
        },
        "nteract": {
          "transient": {
            "deleting": false
          }
        },
        "microsoft": {
          "language": "scala"
        }
      },
      "source": [
        "%%spark\r\n",
        "val scala_df_translations = spark.sqlContext.sql (\"select * from df_rss_articles_translations\")\r\n",
        "scala_df_translations.write.synapsesql(DB_NAME+\".stg.[RSSArticlesTranslations]\", Constants.INTERNAL)"
      ]
    }
  ],
  "metadata": {
    "description": null,
    "save_output": true,
    "kernelspec": {
      "name": "synapse_pyspark",
      "display_name": "Synapse PySpark"
    },
    "language_info": {
      "name": "python"
    },
    "synapse_widget": {
      "version": "0.1",
      "state": {}
    }
  }
}