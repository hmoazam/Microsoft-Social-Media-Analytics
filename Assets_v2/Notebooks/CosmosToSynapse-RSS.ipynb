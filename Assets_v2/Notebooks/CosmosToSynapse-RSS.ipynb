{
  "cells": [
    {
      "cell_type": "code",
      "execution_count": null,
      "metadata": {},
      "outputs": [],
      "source": [
        "import os\n",
        "from dateutil.parser import parse\n",
        "from datetime import datetime, timedelta \n",
        "from pyspark.sql.types import StructType, StructField, IntegerType,StringType,DateType, LongType, DecimalType,TimestampType, BooleanType,FloatType\n",
        "from urllib.parse import urlparse\n",
        "from azure.cosmos import CosmosClient\n"
      ]
    },
    {
      "cell_type": "code",
      "execution_count": null,
      "metadata": {},
      "outputs": [],
      "source": [
        "%run \"config\"\n"
      ]
    },
    {
      "cell_type": "code",
      "execution_count": null,
      "metadata": {},
      "outputs": [],
      "source": [
        "# Connect to Cosmos\n",
        "client = CosmosClient(COSMOS_URL, {'masterKey': COSMOS_KEY})\n",
        "database = client.get_database_client(COSMOS_DATABASE_NAME)\n",
        "rss_container_client = database.get_container_client(container=COSMOS_RSS_FEEDS_CONTAINER_NAME)\n"
      ]
    },
    {
      "cell_type": "code",
      "execution_count": null,
      "metadata": {},
      "outputs": [],
      "source": [
        "%%spark\n",
        "val dfLastInsertedInDW = spark.read.synapsesql(DB_NAME+\".dbo.RSSArticles\")\n",
        "dfLastInsertedInDW.createOrReplaceTempView(\"RSS\")"
      ]
    },
    {
      "cell_type": "code",
      "execution_count": null,
      "metadata": {},
      "outputs": [],
      "source": [
        "last_inserted_ts=0\n",
        "dfLastInsertedInDW = spark.sql(\"select * from RSS\")\n",
        "try:\n",
        "    last_inserted_ts=dfLastInsertedInDW.agg(F.max(\"inserted_to_CosmosDB_ts\")).collect()[0][0]\n",
        "except:\n",
        "    last_inserted_ts=0\n",
        "print(last_inserted_ts)"
      ]
    },
    {
      "cell_type": "code",
      "execution_count": null,
      "metadata": {},
      "outputs": [],
      "source": [
        "LANGUAGE_CODES={\"All\":\"\",\"Afrikaans\":\"af\",\"Arabic\":\"ar\",\"Assamese\":\"as\",\"Bangla\":\"bn\",\"Bosnian(Latin)\":\"bs\",\"Bulgarian\":\"bg\",\"Cantonese(Traditional)\":\"yue\",\"Catalan\":\"ca\",\"Chinese Simplified\":\"zh-Hans\",\"Chinese Traditional\":\"zh-Hant\",\"Croatian\":\"hr\",\"Czech\":\"cs\",\"Dari\":\"prs\",\"Danish\":\"da\",\"Dutch\":\"nl\",\"English\":\"en\",\"Estonian\":\"et\",\"Fijian\":\"fj\",\"Filipino\":\"fil\",\"Finnish\":\"fi\",\"French\":\"fr\",\"German\":\"de\",\"Greek\":\"el\",\"Gujarati\":\"gu\",\"Haitian Creole\":\"ht\",\"Hebrew\":\"he\",\"Hindi\":\"hi\",\"Hmong Daw\":\"mww\",\"Hungarian\":\"hu\",\"Icelandic\":\"is\",\"Indonesian\":\"id\",\"Irish\":\"ga\",\"Italian\":\"it\",\"Japanese\":\"ja\",\"Kannada\":\"kn\",\"Kazakh\":\"kk\",\"Klingon\":\"tlh-Latn\",\"Klingon(plqaD)\":\"tlh-Piqd\",\"Korean\":\"ko\",\"Kurdish(Central)\":\"ku\",\"Kurdish(Northern)\":\"kmr\",\"Latvian\":\"lv\",\"Lithuanian\":\"lt\",\"Malagasy\":\"mg\",\"Malay\":\"ms\",\"Malayalam\":\"ml\",\"Maltese\":\"mt\",\"Maori\":\"mi\",\"Marathi\":\"mr\",\"Norwegian\":\"nb\",\"Odia\":\"or\",\"Pashto\":\"ps\",\"Persian\":\"fa\",\"Polish\":\"pl\",\"Portuguese(Brazil)\":\"pt-br\",\"Portuguese(Portugal)\":\"pt-pt\",\"Punjabi\":\"pa\",\"Queretaro Otomi\":\"otq\",\"Romanian\":\"ro\",\"Russian\":\"ru\",\"Samoan\":\"sm\",\"Serbian(Cyrillic)\":\"sr-Cyrl\",\"Serbian(Latin)\":\"sr-Latn\",\"Slovak\":\"sk\",\"Slovenian\":\"sl\",\"Spanish\":\"es\",\"Swahili\":\"sw\",\"Swedish\":\"sv\",\"Tahitian\":\"ty\",\"Tamil\":\"ta\",\"Telugu\":\"te\",\"Thai\":\"th\",\"Tongan\":\"to\",\"Turkish\":\"tr\",\"Ukrainian\":\"uk\",\"Urdu\":\"ur\",\"Vietnamese\":\"vi\",\"Welsh\":\"cy\",\"Yucatec Maya\":\"yua\"}\n",
        "LANGUAGE_CODES = {v: k for (k, v) in LANGUAGE_CODES.items()}\n"
      ]
    },
    {
      "cell_type": "code",
      "execution_count": null,
      "metadata": {},
      "outputs": [],
      "source": [
        "query = \"SELECT * FROM items where items.inserted_to_CosmosDB_ts > \" + str(last_inserted_ts)\n",
        "lst_articles, lst_translations, lst_entities, lst_sentiment = ([] for i in range(4))\n"
      ]
    },
    {
      "cell_type": "code",
      "execution_count": null,
      "metadata": {},
      "outputs": [],
      "source": [
        "datetime_now = datetime.now() # UTC time\n"
      ]
    },
    {
      "cell_type": "code",
      "execution_count": null,
      "metadata": {},
      "outputs": [],
      "source": [
        "for article in rss_container_client.query_items(query, enable_cross_partition_query=True):\n",
        "    published_at = parse(article[\"published_ts_str\"]) # converts to datetime? # UTC +3 (local time)\n",
        "    inserted_to_cosmos_ts = datetime.fromtimestamp(article['inserted_to_CosmosDB_ts']) # UTC\n",
        "    inserted_to_cosmos_ts_int = article['inserted_to_CosmosDB_ts']\n",
        "    # originals\n",
        "    id_ = article[\"id\"]\n",
        "    title = article[\"title\"] \n",
        "    summary = article[\"summary\"]\n",
        "    source = article[\"news_feed\"]\n",
        "    url = article[\"link\"]\n",
        "    img_url = article[\"img\"]\n",
        "    # processed objects\n",
        "    title_translated = article[\"title_translated\"]\n",
        "    summary_translated = article[\"summary_translations\"]\n",
        "    summary_entities = article[\"summary_ner\"]\n",
        "    sentiment = article[\"sentiment\"]\n",
        "    sentiment_score = float(article[\"sentiment_score\"])\n",
        "    topic = article[\"topic\"]\n",
        "    subtopic = article[\"subtopic\"]\n",
        "    # populate RSSArticles\n",
        "    lst_articles.append([id_, source, title, summary, url, img_url, published_at, datetime_now, inserted_to_cosmos_ts, inserted_to_cosmos_ts_int, topic, subtopic])\n",
        "    # populate RSSArticlesEntities\n",
        "    langs = summary_entities.keys()\n",
        "    for lang in langs: \n",
        "        entities = summary_entities[lang]\n",
        "        for ent in entities: \n",
        "            lst_entities.append([id_, lang, ent[\"category\"], ent[\"subcategory\"], ent[\"text\"], ent[\"confidence_score\"], published_at])\n",
        "    # populate RSSArticlesSentiments\n",
        "    lst_sentiment.append([id_, sentiment, sentiment_score, published_at])\n",
        "    # populate RSSArticlesTranslations\n",
        "    langs = title_translated.keys()\n",
        "    for lang in langs: \n",
        "        title_ = title_translated[lang]\n",
        "        summary_ = summary_translated[lang]\n",
        "        lst_translations.append([id_, lang, title_, summary_, published_at])\n"
      ]
    },
    {
      "cell_type": "code",
      "execution_count": null,
      "metadata": {},
      "outputs": [],
      "source": [
        "# Create spark dataframes\n",
        "schema_rss_articles = StructType([\n",
        "    StructField(\"id\", StringType(), False),\n",
        "    StructField(\"source\", StringType(), True),\n",
        "    StructField(\"title\", StringType(), True),\n",
        "    StructField(\"summary\", StringType(), True),\n",
        "    StructField(\"url\", StringType(), True),\n",
        "    StructField(\"img_url\", StringType(), True),\n",
        "    StructField(\"published_at\", TimestampType(), True),\n",
        "    StructField(\"inserted_datetime\", TimestampType(), True),\n",
        "    StructField(\"inserted_to_CosmosDB_datetime\", TimestampType(), True),\n",
        "    StructField(\"inserted_to_CosmosDB_ts\", LongType(), True),\n",
        "    StructField(\"topic\", StringType(), True),\n",
        "    StructField(\"subtopic\", StringType(), True)\n",
        "])\n",
        "df_rss_articles = spark.createDataFrame(lst_articles, schema_rss_articles)\n",
        "df_rss_articles.createOrReplaceTempView(\"df_rss_articles\")\n"
      ]
    },
    {
      "cell_type": "code",
      "execution_count": null,
      "metadata": {},
      "outputs": [],
      "source": [
        "schema_rss_articles_entities = StructType([\n",
        "    StructField(\"id\", StringType(), False),\n",
        "    StructField(\"language\", StringType(), True),\n",
        "    StructField(\"category\", StringType(), True),\n",
        "    StructField(\"subcategory\", StringType(), True),\n",
        "    StructField(\"value\", StringType(), True),\n",
        "    StructField(\"confidence_score\", FloatType(), True),\n",
        "    StructField(\"created_datetime\", TimestampType(), True)\n",
        "])\n",
        "df_rss_articles_entities = spark.createDataFrame(lst_entities, schema_rss_articles_entities)\n",
        "df_rss_articles_entities.createOrReplaceTempView(\"df_rss_articles_entities\")\n"
      ]
    },
    {
      "cell_type": "code",
      "execution_count": null,
      "metadata": {},
      "outputs": [],
      "source": [
        "schema_rss_articles_sentiments = StructType([\n",
        "    StructField(\"id\", StringType(), False),\n",
        "    StructField(\"sentiment\", StringType(), True),\n",
        "    StructField(\"overallscore\", FloatType(), True),\n",
        "    StructField(\"created_datetime\", TimestampType(), True)\n",
        "])\n",
        "df_rss_articles_sentiments = spark.createDataFrame(lst_sentiment, schema_rss_articles_sentiments)\n",
        "df_rss_articles_sentiments.createOrReplaceTempView(\"df_rss_articles_sentiments\")\n"
      ]
    },
    {
      "cell_type": "code",
      "execution_count": null,
      "metadata": {},
      "outputs": [],
      "source": [
        "schema_rss_articles_translations = StructType([\n",
        "    StructField(\"id\", StringType(), False),\n",
        "    StructField(\"Language\", StringType(), True),\n",
        "    StructField(\"Title\", StringType(), True),\n",
        "    StructField(\"Summary\", StringType(), True),\n",
        "    StructField(\"created_datetime\", TimestampType(), True)\n",
        "])\n",
        "df_rss_articles_translations = spark.createDataFrame(lst_translations, schema_rss_articles_translations)\n",
        "df_rss_articles_translations.createOrReplaceTempView(\"df_rss_articles_translations\")\n"
      ]
    },
    {
      "cell_type": "code",
      "execution_count": null,
      "metadata": {
        "microsoft": {
          "language": "scala"
        }
      },
      "outputs": [],
      "source": [
        "%%spark\n",
        "val scala_df_articles = spark.sqlContext.sql (\"select * from df_rss_articles\")\n",
        "scala_df_articles.write.synapsesql(DB_NAME+\".stg.[RSSArticles]\", Constants.INTERNAL)\n"
      ]
    },
    {
      "cell_type": "code",
      "execution_count": null,
      "metadata": {
        "microsoft": {
          "language": "scala"
        }
      },
      "outputs": [],
      "source": [
        "%%spark\n",
        "val scala_df_entities = spark.sqlContext.sql (\"select * from df_rss_articles_entities\")\n",
        "scala_df_entities.write.synapsesql(DB_NAME+\".stg.[RSSArticlesEntities]\", Constants.INTERNAL)\n"
      ]
    },
    {
      "cell_type": "code",
      "execution_count": null,
      "metadata": {
        "microsoft": {
          "language": "scala"
        }
      },
      "outputs": [],
      "source": [
        "%%spark\n",
        "val scala_df_sentiments = spark.sqlContext.sql (\"select * from df_rss_articles_sentiments\")\n",
        "scala_df_sentiments.write.synapsesql(DB_NAME+\".stg.[RSSArticlesSentiments]\", Constants.INTERNAL)\n"
      ]
    },
    {
      "cell_type": "code",
      "execution_count": null,
      "metadata": {
        "microsoft": {
          "language": "scala"
        }
      },
      "outputs": [],
      "source": [
        "%%spark\n",
        "val scala_df_translations = spark.sqlContext.sql (\"select * from df_rss_articles_translations\")\n",
        "scala_df_translations.write.synapsesql(DB_NAME+\".stg.[RSSArticlesTranslations]\", Constants.INTERNAL)\n"
      ]
    }
  ],
  "metadata": {
    "description": "CosmosToSynapse-RSS",
    "kernelspec": {
      "display_name": "python",
      "name": "synapse_pyspark"
    },
    "language_info": {
      "name": "python"
    },
    "save_output": true,
    "synapse_widget": {
      "state": {},
      "version": "0.1"
    }
  },
  "nbformat": 4,
  "nbformat_minor": 2
}
